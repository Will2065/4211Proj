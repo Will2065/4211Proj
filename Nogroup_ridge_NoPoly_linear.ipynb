{
 "cells": [
  {
   "cell_type": "code",
   "execution_count": null,
   "id": "97102599-5c8f-4bb2-96e1-49d66e15922e",
   "metadata": {},
   "outputs": [],
   "source": []
  },
  {
   "cell_type": "code",
   "execution_count": 1,
   "id": "ace5873c-b88d-4182-be37-dfe12d9a00a3",
   "metadata": {},
   "outputs": [],
   "source": [
    "%load_ext autoreload\n",
    "%autoreload 2\n",
    "import pandas as pd\n",
    "import numpy as np\n",
    "import toolkit4211 as tk"
   ]
  },
  {
   "cell_type": "code",
   "execution_count": null,
   "id": "82b1a9ae-52e2-490a-bd2a-0e2c4c2eacd4",
   "metadata": {},
   "outputs": [],
   "source": []
  },
  {
   "cell_type": "markdown",
   "id": "68366ba7-b4a7-4352-a90d-865cd732bff2",
   "metadata": {},
   "source": [
    "### import data"
   ]
  },
  {
   "cell_type": "code",
   "execution_count": 2,
   "id": "4294ca73-4962-4690-bc5a-1bc340eb85fc",
   "metadata": {},
   "outputs": [],
   "source": [
    "df=pd.read_csv('data-train345.csv')"
   ]
  },
  {
   "cell_type": "markdown",
   "id": "95fb9ee2-ad78-4d92-ae46-268c975844e1",
   "metadata": {},
   "source": [
    "### choose to have no group"
   ]
  },
  {
   "cell_type": "code",
   "execution_count": 3,
   "id": "4c2bc44e-6553-40f4-bec5-2d80e9d53454",
   "metadata": {},
   "outputs": [
    {
     "data": {
      "text/plain": [
       "Index(['productID', 'brandID', 'attribute1', 'attribute2', 'attribute3',\n",
       "       'attribute4', 'clickVolume', 'avgOriginalUnitPrice',\n",
       "       'avgFinalUnitPrice', 'ma14SalesVolume', 'weekday', 'meanAge', 'gender',\n",
       "       'meanEducation', 'maritalStatus', 'plus', 'meanPurchasePower',\n",
       "       'meanUserLevel', 'meanCityLevel', 'sales'],\n",
       "      dtype='object')"
      ]
     },
     "execution_count": 3,
     "metadata": {},
     "output_type": "execute_result"
    }
   ],
   "source": [
    "df=df.drop('Labels_3',axis=1)\n",
    "df=df.drop('Labels_4',axis=1)\n",
    "df=df.drop('Labels_5',axis=1)\n",
    "df.columns"
   ]
  },
  {
   "cell_type": "code",
   "execution_count": null,
   "id": "c6a072bc-7317-46fd-aa77-2a805e3c55e9",
   "metadata": {},
   "outputs": [],
   "source": []
  },
  {
   "cell_type": "markdown",
   "id": "0100b29e-4c8a-488e-a48e-5a5c84736d2b",
   "metadata": {},
   "source": [
    "### initilize the data"
   ]
  },
  {
   "cell_type": "code",
   "execution_count": 4,
   "id": "a2674a5d-04e7-4655-bc18-2ecb902f2839",
   "metadata": {},
   "outputs": [
    {
     "data": {
      "text/html": [
       "<div>\n",
       "<style scoped>\n",
       "    .dataframe tbody tr th:only-of-type {\n",
       "        vertical-align: middle;\n",
       "    }\n",
       "\n",
       "    .dataframe tbody tr th {\n",
       "        vertical-align: top;\n",
       "    }\n",
       "\n",
       "    .dataframe thead th {\n",
       "        text-align: right;\n",
       "    }\n",
       "</style>\n",
       "<table border=\"1\" class=\"dataframe\">\n",
       "  <thead>\n",
       "    <tr style=\"text-align: right;\">\n",
       "      <th></th>\n",
       "      <th>productID</th>\n",
       "      <th>attribute1</th>\n",
       "      <th>attribute2</th>\n",
       "      <th>attribute3</th>\n",
       "      <th>attribute4</th>\n",
       "      <th>clickVolume</th>\n",
       "      <th>avgOriginalUnitPrice</th>\n",
       "      <th>avgFinalUnitPrice</th>\n",
       "      <th>ma14SalesVolume</th>\n",
       "      <th>meanAge</th>\n",
       "      <th>...</th>\n",
       "      <th>brandID_31</th>\n",
       "      <th>brandID_32</th>\n",
       "      <th>brandID_35</th>\n",
       "      <th>brandID_36</th>\n",
       "      <th>weekday_2</th>\n",
       "      <th>weekday_3</th>\n",
       "      <th>weekday_4</th>\n",
       "      <th>weekday_5</th>\n",
       "      <th>weekday_6</th>\n",
       "      <th>weekday_7</th>\n",
       "    </tr>\n",
       "  </thead>\n",
       "  <tbody>\n",
       "    <tr>\n",
       "      <th>0</th>\n",
       "      <td>0.951497</td>\n",
       "      <td>4.854051</td>\n",
       "      <td>5.053211</td>\n",
       "      <td>1.082883</td>\n",
       "      <td>0.114370</td>\n",
       "      <td>0.695162</td>\n",
       "      <td>0.800430</td>\n",
       "      <td>0.932833</td>\n",
       "      <td>1.151351</td>\n",
       "      <td>6.956173</td>\n",
       "      <td>...</td>\n",
       "      <td>0.0</td>\n",
       "      <td>0.0</td>\n",
       "      <td>0.000000</td>\n",
       "      <td>0.0</td>\n",
       "      <td>0.000000</td>\n",
       "      <td>2.939862</td>\n",
       "      <td>0.0</td>\n",
       "      <td>0.000000</td>\n",
       "      <td>0.00000</td>\n",
       "      <td>0.0</td>\n",
       "    </tr>\n",
       "    <tr>\n",
       "      <th>1</th>\n",
       "      <td>2.480688</td>\n",
       "      <td>3.236034</td>\n",
       "      <td>2.021284</td>\n",
       "      <td>0.649730</td>\n",
       "      <td>0.081066</td>\n",
       "      <td>1.129522</td>\n",
       "      <td>4.473197</td>\n",
       "      <td>2.534622</td>\n",
       "      <td>0.403807</td>\n",
       "      <td>6.628824</td>\n",
       "      <td>...</td>\n",
       "      <td>0.0</td>\n",
       "      <td>0.0</td>\n",
       "      <td>0.000000</td>\n",
       "      <td>0.0</td>\n",
       "      <td>0.000000</td>\n",
       "      <td>0.000000</td>\n",
       "      <td>0.0</td>\n",
       "      <td>2.679582</td>\n",
       "      <td>0.00000</td>\n",
       "      <td>0.0</td>\n",
       "    </tr>\n",
       "    <tr>\n",
       "      <th>2</th>\n",
       "      <td>2.378742</td>\n",
       "      <td>4.854051</td>\n",
       "      <td>5.053211</td>\n",
       "      <td>0.216577</td>\n",
       "      <td>0.148612</td>\n",
       "      <td>3.411768</td>\n",
       "      <td>1.427616</td>\n",
       "      <td>1.124063</td>\n",
       "      <td>1.518448</td>\n",
       "      <td>7.076883</td>\n",
       "      <td>...</td>\n",
       "      <td>0.0</td>\n",
       "      <td>0.0</td>\n",
       "      <td>0.000000</td>\n",
       "      <td>0.0</td>\n",
       "      <td>2.972749</td>\n",
       "      <td>0.000000</td>\n",
       "      <td>0.0</td>\n",
       "      <td>0.000000</td>\n",
       "      <td>0.00000</td>\n",
       "      <td>0.0</td>\n",
       "    </tr>\n",
       "    <tr>\n",
       "      <th>3</th>\n",
       "      <td>2.344760</td>\n",
       "      <td>4.854051</td>\n",
       "      <td>5.053211</td>\n",
       "      <td>0.433153</td>\n",
       "      <td>0.154329</td>\n",
       "      <td>2.492001</td>\n",
       "      <td>3.351264</td>\n",
       "      <td>3.546610</td>\n",
       "      <td>2.042397</td>\n",
       "      <td>7.106099</td>\n",
       "      <td>...</td>\n",
       "      <td>0.0</td>\n",
       "      <td>0.0</td>\n",
       "      <td>4.166672</td>\n",
       "      <td>0.0</td>\n",
       "      <td>0.000000</td>\n",
       "      <td>0.000000</td>\n",
       "      <td>0.0</td>\n",
       "      <td>2.679582</td>\n",
       "      <td>0.00000</td>\n",
       "      <td>0.0</td>\n",
       "    </tr>\n",
       "    <tr>\n",
       "      <th>4</th>\n",
       "      <td>2.344760</td>\n",
       "      <td>4.854051</td>\n",
       "      <td>5.053211</td>\n",
       "      <td>1.516037</td>\n",
       "      <td>0.344624</td>\n",
       "      <td>0.721149</td>\n",
       "      <td>3.399086</td>\n",
       "      <td>4.172007</td>\n",
       "      <td>2.009024</td>\n",
       "      <td>5.892288</td>\n",
       "      <td>...</td>\n",
       "      <td>0.0</td>\n",
       "      <td>0.0</td>\n",
       "      <td>4.166672</td>\n",
       "      <td>0.0</td>\n",
       "      <td>0.000000</td>\n",
       "      <td>0.000000</td>\n",
       "      <td>0.0</td>\n",
       "      <td>0.000000</td>\n",
       "      <td>2.70787</td>\n",
       "      <td>0.0</td>\n",
       "    </tr>\n",
       "  </tbody>\n",
       "</table>\n",
       "<p>5 rows × 52 columns</p>\n",
       "</div>"
      ],
      "text/plain": [
       "   productID  attribute1  attribute2  attribute3  attribute4  clickVolume  \\\n",
       "0   0.951497    4.854051    5.053211    1.082883    0.114370     0.695162   \n",
       "1   2.480688    3.236034    2.021284    0.649730    0.081066     1.129522   \n",
       "2   2.378742    4.854051    5.053211    0.216577    0.148612     3.411768   \n",
       "3   2.344760    4.854051    5.053211    0.433153    0.154329     2.492001   \n",
       "4   2.344760    4.854051    5.053211    1.516037    0.344624     0.721149   \n",
       "\n",
       "   avgOriginalUnitPrice  avgFinalUnitPrice  ma14SalesVolume   meanAge  ...  \\\n",
       "0              0.800430           0.932833         1.151351  6.956173  ...   \n",
       "1              4.473197           2.534622         0.403807  6.628824  ...   \n",
       "2              1.427616           1.124063         1.518448  7.076883  ...   \n",
       "3              3.351264           3.546610         2.042397  7.106099  ...   \n",
       "4              3.399086           4.172007         2.009024  5.892288  ...   \n",
       "\n",
       "   brandID_31  brandID_32  brandID_35  brandID_36  weekday_2  weekday_3  \\\n",
       "0         0.0         0.0    0.000000         0.0   0.000000   2.939862   \n",
       "1         0.0         0.0    0.000000         0.0   0.000000   0.000000   \n",
       "2         0.0         0.0    0.000000         0.0   2.972749   0.000000   \n",
       "3         0.0         0.0    4.166672         0.0   0.000000   0.000000   \n",
       "4         0.0         0.0    4.166672         0.0   0.000000   0.000000   \n",
       "\n",
       "   weekday_4  weekday_5  weekday_6  weekday_7  \n",
       "0        0.0   0.000000    0.00000        0.0  \n",
       "1        0.0   2.679582    0.00000        0.0  \n",
       "2        0.0   0.000000    0.00000        0.0  \n",
       "3        0.0   2.679582    0.00000        0.0  \n",
       "4        0.0   0.000000    2.70787        0.0  \n",
       "\n",
       "[5 rows x 52 columns]"
      ]
     },
     "execution_count": 4,
     "metadata": {},
     "output_type": "execute_result"
    }
   ],
   "source": [
    "g=df\n",
    "x_stan,y =tk.initialize(g)\n",
    "x_stan.head()"
   ]
  },
  {
   "cell_type": "markdown",
   "id": "35edda93-54e4-4ef0-b5b3-893ba7d3a66b",
   "metadata": {},
   "source": [
    "### compare dimension and datasize"
   ]
  },
  {
   "cell_type": "code",
   "execution_count": 5,
   "id": "f4e74e9f-335c-4998-bcd4-da4ba484394e",
   "metadata": {},
   "outputs": [
    {
     "name": "stdout",
     "output_type": "stream",
     "text": [
      "2314\n"
     ]
    }
   ],
   "source": [
    "l=len(g)\n",
    "print(l)"
   ]
  },
  {
   "cell_type": "code",
   "execution_count": 6,
   "id": "d8b0cf21-bbab-4a85-8beb-f9c5cc9ee2e1",
   "metadata": {},
   "outputs": [
    {
     "data": {
      "text/plain": [
       "20"
      ]
     },
     "execution_count": 6,
     "metadata": {},
     "output_type": "execute_result"
    }
   ],
   "source": [
    "len(g.columns)"
   ]
  },
  {
   "cell_type": "code",
   "execution_count": null,
   "id": "22f40f63-ebe3-4bb1-bb44-2e55098195ca",
   "metadata": {},
   "outputs": [],
   "source": []
  },
  {
   "cell_type": "markdown",
   "id": "253a1f4d-0d05-445d-9e95-852ade3b87e8",
   "metadata": {},
   "source": [
    "### Finding the best alpha "
   ]
  },
  {
   "cell_type": "code",
   "execution_count": 9,
   "id": "3a3b828e-c9a0-4c2b-bcb7-dd90f2a4f76f",
   "metadata": {},
   "outputs": [
    {
     "data": {
      "image/png": "[encoded data removed]",
      "text/plain": [
       "<Figure size 432x288 with 1 Axes>"
      ]
     },
     "metadata": {
      "needs_background": "light"
     },
     "output_type": "display_data"
    }
   ],
   "source": [
    "tk.para_plot(10,g,50,100)"
   ]
  },
  {
   "cell_type": "code",
   "execution_count": 11,
   "id": "eaa2541a-0536-421f-a43f-19dc32c93094",
   "metadata": {},
   "outputs": [
    {
     "data": {
      "image/png": "[encoded data removed]",
      "text/plain": [
       "<Figure size 432x288 with 1 Axes>"
      ]
     },
     "metadata": {
      "needs_background": "light"
     },
     "output_type": "display_data"
    }
   ],
   "source": [
    "tk.para_plot(10,g,56,58)"
   ]
  },
  {
   "cell_type": "markdown",
   "id": "1fca6a93-e2fb-4e3e-a506-7f77160234ec",
   "metadata": {},
   "source": [
    "### Compute the MSE for Group1"
   ]
  },
  {
   "cell_type": "markdown",
   "id": "22243cb8-dd34-4fe1-9d2b-d9478c7481c0",
   "metadata": {},
   "source": [
    "the best alpha is 57.1 for ridge_regression in Group1"
   ]
  },
  {
   "cell_type": "code",
   "execution_count": 12,
   "id": "ef3b6f64-cd40-4b8a-8f82-c53061808af7",
   "metadata": {},
   "outputs": [
    {
     "name": "stdout",
     "output_type": "stream",
     "text": [
      "506.3516461166859\n"
     ]
    }
   ],
   "source": [
    "MSE_g1=tk.CV4Ridge_lr(g,57.1)\n",
    "print(MSE_g1)"
   ]
  },
  {
   "cell_type": "code",
   "execution_count": null,
   "id": "06a657e9-cbaf-41be-982b-7fb5d17e5548",
   "metadata": {},
   "outputs": [],
   "source": []
  }
 ],
 "metadata": {
  "kernelspec": {
   "display_name": "Python 3",
   "language": "python",
   "name": "python3"
  },
  "language_info": {
   "codemirror_mode": {
    "name": "ipython",
    "version": 3
   },
   "file_extension": ".py",
   "mimetype": "text/x-python",
   "name": "python",
   "nbconvert_exporter": "python",
   "pygments_lexer": "ipython3",
   "version": "3.8.8"
  }
 },
 "nbformat": 4,
 "nbformat_minor": 5
}

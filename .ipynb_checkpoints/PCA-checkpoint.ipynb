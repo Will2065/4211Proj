{
 "cells": [
  {
   "cell_type": "markdown",
   "id": "50463fd0",
   "metadata": {},
   "source": [
    "其实这个基本和我那个SVM一样。。可以直接从我的SVM文件里改KFOLD_MSE函数就行 = ="
   ]
  },
  {
   "cell_type": "code",
   "execution_count": 1,
   "id": "53fac7d0",
   "metadata": {},
   "outputs": [],
   "source": [
    "import numpy as np\n",
    "import pandas as pd\n",
    "import matplotlib.pyplot as plt\n",
    "from sklearn.neighbors import KNeighborsClassifier\n",
    "from sklearn.model_selection import train_test_split, KFold\n",
    "from sklearn.decomposition import PCA\n",
    "from sklearn.metrics import mean_squared_error"
   ]
  },
  {
   "cell_type": "code",
   "execution_count": 2,
   "id": "21f3f34e",
   "metadata": {},
   "outputs": [],
   "source": [
    "# K means Label number, i means the ith label in Labels_k\n",
    "def train_test(k, i):\n",
    "    train = pd.read_csv('Data-train345.csv', index_col = 0)\n",
    "    train1 = train.loc[train['Labels_' + str(k)] == i]\n",
    "    X_train = train1.drop(['sales', 'Labels_3', 'Labels_4', 'Labels_5'], axis = 1)\n",
    "    y_train = train1['sales']\n",
    "    return X_train, y_train"
   ]
  },
  {
   "cell_type": "code",
   "execution_count": 3,
   "id": "f15adbd4",
   "metadata": {},
   "outputs": [],
   "source": [
    "# n is the components of PCA. Return new training set.\n",
    "def SelfPCA(n1, X_train):\n",
    "    pca = PCA(n_components=n1)\n",
    "    pca.fit(X_train)\n",
    "    #print(pca.explained_variance_ratio_)  # This is the Variance of different 特征值，越好。\n",
    "    #print(pca.explained_variance_)\n",
    "    X_new = pca.transform(X_train)\n",
    "    X = pd.DataFrame(X_new)\n",
    "    return X"
   ]
  },
  {
   "cell_type": "code",
   "execution_count": 5,
   "id": "3b098eab",
   "metadata": {},
   "outputs": [],
   "source": [
    "def dataProcess(k, i, n):\n",
    "    X_train, y_train = train_test(k, i)\n",
    "    X = SelfPCA(n, X_train)\n",
    "    return X_train, y_train, X"
   ]
  },
  {
   "cell_type": "markdown",
   "id": "ba26e85f",
   "metadata": {},
   "source": [
    "调用dataProcess函数，k是k-means的k， i是k分类中的第i个标签， n是PCA目标维度"
   ]
  },
  {
   "cell_type": "markdown",
   "id": "6eb101ea",
   "metadata": {},
   "source": [
    "返回值X是PCA处理之后的训练矩阵，X_train是PCA之前的原始训练矩阵。"
   ]
  }
 ],
 "metadata": {
  "kernelspec": {
   "display_name": "Python 3 (ipykernel)",
   "language": "python",
   "name": "python3"
  },
  "language_info": {
   "codemirror_mode": {
    "name": "ipython",
    "version": 3
   },
   "file_extension": ".py",
   "mimetype": "text/x-python",
   "name": "python",
   "nbconvert_exporter": "python",
   "pygments_lexer": "ipython3",
   "version": "3.9.7"
  }
 },
 "nbformat": 4,
 "nbformat_minor": 5
}

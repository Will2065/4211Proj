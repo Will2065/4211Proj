{
 "cells": [
  {
   "cell_type": "code",
   "execution_count": 1,
   "id": "eed5607b",
   "metadata": {},
   "outputs": [],
   "source": [
    "import numpy as np\n",
    "import pandas as pd\n",
    "import matplotlib.pyplot as plt\n",
    "from sklearn.neighbors import KNeighborsClassifier\n",
    "from sklearn.model_selection import train_test_split, KFold\n",
    "from sklearn.decomposition import PCA\n",
    "from sklearn.metrics import mean_squared_error"
   ]
  },
  {
   "cell_type": "markdown",
   "id": "7a48d51a",
   "metadata": {},
   "source": [
    "数据的读取与基本处理"
   ]
  },
  {
   "cell_type": "code",
   "execution_count": 2,
   "id": "cb7bfa41",
   "metadata": {},
   "outputs": [],
   "source": [
    "train = pd.read_csv('Data-train.csv', index_col = 0)\n",
    "train.dropna()\n",
    "train.head()\n",
    "X_train = train.drop(['sales'], axis = 1)\n",
    "y_train = train['sales']"
   ]
  },
  {
   "cell_type": "markdown",
   "id": "e26d8081",
   "metadata": {},
   "source": [
    "PCA， parameter of n_components is the number of 特征选取.<br>\n",
    "这里之后可以循环改一下n_components的值确定最佳的。"
   ]
  },
  {
   "cell_type": "code",
   "execution_count": 3,
   "id": "3f6e860a",
   "metadata": {},
   "outputs": [
    {
     "name": "stdout",
     "output_type": "stream",
     "text": [
      "[9.90843939e-01 7.02176846e-03 7.42870823e-04 4.04894929e-04\n",
      " 3.19848122e-04 2.82012312e-04]\n",
      "[1.16161079e+06 8.23193411e+03 8.70900785e+02 4.74676485e+02\n",
      " 3.74972299e+02 3.30615682e+02]\n"
     ]
    }
   ],
   "source": [
    "pca = PCA(n_components=6)\n",
    "pca.fit(X_train)\n",
    "print(pca.explained_variance_ratio_)  # This is the Variance of different 特征值，越好。\n",
    "print(pca.explained_variance_)"
   ]
  },
  {
   "cell_type": "markdown",
   "id": "b964946a",
   "metadata": {},
   "source": [
    "New train set."
   ]
  },
  {
   "cell_type": "code",
   "execution_count": 4,
   "id": "5d206b6d",
   "metadata": {},
   "outputs": [],
   "source": [
    "X_new = pca.transform(X_train)"
   ]
  },
  {
   "cell_type": "code",
   "execution_count": 5,
   "id": "526a9b5d",
   "metadata": {},
   "outputs": [],
   "source": [
    "X = pd.DataFrame(X_new)"
   ]
  },
  {
   "cell_type": "markdown",
   "id": "b2438859",
   "metadata": {},
   "source": [
    "So after PCA, train X and train Y are separately 'X' and 'y_train'."
   ]
  },
  {
   "cell_type": "markdown",
   "id": "b6d3ccad",
   "metadata": {},
   "source": [
    "********"
   ]
  },
  {
   "cell_type": "markdown",
   "id": "8f808f06",
   "metadata": {},
   "source": [
    "This is my SVM part. (可以参考，虽然也没啥。。）"
   ]
  },
  {
   "cell_type": "code",
   "execution_count": 6,
   "id": "dfe21c55",
   "metadata": {},
   "outputs": [],
   "source": [
    "from sklearn import svm"
   ]
  },
  {
   "cell_type": "code",
   "execution_count": 7,
   "id": "4cc7d0de",
   "metadata": {},
   "outputs": [],
   "source": [
    "def KFold_MSE(X_train, y_train):\n",
    "    MSE = []\n",
    "    kf = KFold(n_splits = 5)\n",
    "    for train_index, test_index in kf.split(X_train):\n",
    "        XX_train = X_train.iloc[train_index]\n",
    "        XX_test = X_train.iloc[test_index]\n",
    "        yy_train = y_train.iloc[train_index]\n",
    "        yy_test = y_train.iloc[test_index]\n",
    "        clf = svm.SVC(C=1000, kernel='rbf', probability=True)\n",
    "        clf.fit(XX_train,yy_train)\n",
    "        MSE.append(mean_squared_error(clf.predict(XX_test),yy_test))\n",
    "        #plt.plot(clf.predict(XX_test))\n",
    "        #plt.plot(yy_test)\n",
    "        #plt.show()\n",
    "        #break\n",
    "    return MSE"
   ]
  },
  {
   "cell_type": "code",
   "execution_count": 8,
   "id": "0eef360b",
   "metadata": {},
   "outputs": [],
   "source": [
    "MSE = KFold_MSE(X_train, y_train)"
   ]
  },
  {
   "cell_type": "code",
   "execution_count": 9,
   "id": "4bc71b0d",
   "metadata": {},
   "outputs": [
    {
     "name": "stdout",
     "output_type": "stream",
     "text": [
      "[785.92656587473, 1033.0561555075594, 2076.6544276457885, 1089.0323974082073, 889.6038961038961]\n"
     ]
    }
   ],
   "source": [
    "print(MSE)"
   ]
  },
  {
   "cell_type": "code",
   "execution_count": 10,
   "id": "6912e2a8",
   "metadata": {},
   "outputs": [],
   "source": [
    "MSE2 = KFold_MSE(X, y_train)"
   ]
  },
  {
   "cell_type": "code",
   "execution_count": 11,
   "id": "e76d96db",
   "metadata": {},
   "outputs": [
    {
     "name": "stdout",
     "output_type": "stream",
     "text": [
      "[883.8272138228941, 1151.170626349892, 1901.9438444924406, 1136.2591792656588, 857.9567099567099]\n"
     ]
    }
   ],
   "source": [
    "print(MSE2)"
   ]
  },
  {
   "cell_type": "code",
   "execution_count": 12,
   "id": "3692312f",
   "metadata": {},
   "outputs": [
    {
     "data": {
      "text/plain": [
       "1174.8546885080364"
      ]
     },
     "execution_count": 12,
     "metadata": {},
     "output_type": "execute_result"
    }
   ],
   "source": [
    "np.mean(MSE)"
   ]
  },
  {
   "cell_type": "code",
   "execution_count": 13,
   "id": "5d15bd70",
   "metadata": {},
   "outputs": [
    {
     "data": {
      "text/plain": [
       "1186.2315147775191"
      ]
     },
     "execution_count": 13,
     "metadata": {},
     "output_type": "execute_result"
    }
   ],
   "source": [
    "np.mean(MSE2)"
   ]
  }
 ],
 "metadata": {
  "kernelspec": {
   "display_name": "Python 3",
   "language": "python",
   "name": "python3"
  },
  "language_info": {
   "codemirror_mode": {
    "name": "ipython",
    "version": 3
   },
   "file_extension": ".py",
   "mimetype": "text/x-python",
   "name": "python",
   "nbconvert_exporter": "python",
   "pygments_lexer": "ipython3",
   "version": "3.8.8"
  }
 },
 "nbformat": 4,
 "nbformat_minor": 5
}

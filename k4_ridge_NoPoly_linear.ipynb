{
 "cells": [
  {
   "cell_type": "code",
   "execution_count": null,
   "id": "96f8ddbf-118c-4c8b-a09f-131570b4c0a0",
   "metadata": {},
   "outputs": [],
   "source": []
  },
  {
   "cell_type": "code",
   "execution_count": 1,
   "id": "db0d0dd5-2e98-462b-a7aa-55b09b650ddb",
   "metadata": {},
   "outputs": [],
   "source": [
    "%load_ext autoreload\n",
    "%autoreload 2\n",
    "import pandas as pd\n",
    "import numpy as np\n",
    "import toolkit4211 as tk"
   ]
  },
  {
   "cell_type": "markdown",
   "id": "c0d2e538-d3fc-4ec3-8e83-22d8f6961fda",
   "metadata": {},
   "source": [
    "# K=3"
   ]
  },
  {
   "cell_type": "markdown",
   "id": "8cb1a957-2092-4824-909b-8190378c03bd",
   "metadata": {},
   "source": [
    "### import data"
   ]
  },
  {
   "cell_type": "code",
   "execution_count": 2,
   "id": "c40161e5-c5f9-4211-8e56-6d1030552a01",
   "metadata": {},
   "outputs": [],
   "source": [
    "df=pd.read_csv('data-train345.csv')"
   ]
  },
  {
   "cell_type": "markdown",
   "id": "2841d2fe-de3f-46bf-a0b3-c460f12fb9dc",
   "metadata": {},
   "source": [
    "### choose to have 3 group"
   ]
  },
  {
   "cell_type": "code",
   "execution_count": 3,
   "id": "88783786-fb31-4998-827d-d5897f37e89d",
   "metadata": {},
   "outputs": [
    {
     "data": {
      "text/plain": [
       "Index(['productID', 'brandID', 'attribute1', 'attribute2', 'attribute3',\n",
       "       'attribute4', 'clickVolume', 'avgOriginalUnitPrice',\n",
       "       'avgFinalUnitPrice', 'ma14SalesVolume', 'weekday', 'meanAge', 'gender',\n",
       "       'meanEducation', 'maritalStatus', 'plus', 'meanPurchasePower',\n",
       "       'meanUserLevel', 'meanCityLevel', 'sales', 'Labels_5'],\n",
       "      dtype='object')"
      ]
     },
     "execution_count": 3,
     "metadata": {},
     "output_type": "execute_result"
    }
   ],
   "source": [
    "df=df.drop('Labels_3',axis=1)\n",
    "df=df.drop('Labels_4',axis=1)\n",
    "df.columns"
   ]
  },
  {
   "cell_type": "code",
   "execution_count": null,
   "id": "0f3f6381-a5d7-4ceb-b0e6-a16c33f76aa4",
   "metadata": {},
   "outputs": [],
   "source": []
  },
  {
   "cell_type": "markdown",
   "id": "dcddf610-e7d2-48a1-a455-2e174a339190",
   "metadata": {},
   "source": [
    "## Product Group 1"
   ]
  },
  {
   "cell_type": "markdown",
   "id": "876bb7d6-3b83-40c0-b926-293acca84b0d",
   "metadata": {},
   "source": [
    "### choose group1"
   ]
  },
  {
   "cell_type": "code",
   "execution_count": 4,
   "id": "982a91d0-a84a-41ea-be27-042271450b43",
   "metadata": {},
   "outputs": [
    {
     "data": {
      "text/html": [
       "<div>\n",
       "<style scoped>\n",
       "    .dataframe tbody tr th:only-of-type {\n",
       "        vertical-align: middle;\n",
       "    }\n",
       "\n",
       "    .dataframe tbody tr th {\n",
       "        vertical-align: top;\n",
       "    }\n",
       "\n",
       "    .dataframe thead th {\n",
       "        text-align: right;\n",
       "    }\n",
       "</style>\n",
       "<table border=\"1\" class=\"dataframe\">\n",
       "  <thead>\n",
       "    <tr style=\"text-align: right;\">\n",
       "      <th></th>\n",
       "      <th>productID</th>\n",
       "      <th>brandID</th>\n",
       "      <th>attribute1</th>\n",
       "      <th>attribute2</th>\n",
       "      <th>attribute3</th>\n",
       "      <th>attribute4</th>\n",
       "      <th>clickVolume</th>\n",
       "      <th>avgOriginalUnitPrice</th>\n",
       "      <th>avgFinalUnitPrice</th>\n",
       "      <th>ma14SalesVolume</th>\n",
       "      <th>weekday</th>\n",
       "      <th>meanAge</th>\n",
       "      <th>gender</th>\n",
       "      <th>meanEducation</th>\n",
       "      <th>maritalStatus</th>\n",
       "      <th>plus</th>\n",
       "      <th>meanPurchasePower</th>\n",
       "      <th>meanUserLevel</th>\n",
       "      <th>meanCityLevel</th>\n",
       "      <th>sales</th>\n",
       "    </tr>\n",
       "  </thead>\n",
       "  <tbody>\n",
       "    <tr>\n",
       "      <th>0</th>\n",
       "      <td>28</td>\n",
       "      <td>4</td>\n",
       "      <td>3</td>\n",
       "      <td>100</td>\n",
       "      <td>5</td>\n",
       "      <td>2.098131</td>\n",
       "      <td>749</td>\n",
       "      <td>58.870968</td>\n",
       "      <td>53.774194</td>\n",
       "      <td>24.642857</td>\n",
       "      <td>3</td>\n",
       "      <td>31.481481</td>\n",
       "      <td>0.370370</td>\n",
       "      <td>3.222222</td>\n",
       "      <td>0.555556</td>\n",
       "      <td>0.357143</td>\n",
       "      <td>2.259259</td>\n",
       "      <td>3.178571</td>\n",
       "      <td>1.884615</td>\n",
       "      <td>31</td>\n",
       "    </tr>\n",
       "    <tr>\n",
       "      <th>2</th>\n",
       "      <td>70</td>\n",
       "      <td>3</td>\n",
       "      <td>3</td>\n",
       "      <td>100</td>\n",
       "      <td>1</td>\n",
       "      <td>2.726300</td>\n",
       "      <td>3676</td>\n",
       "      <td>105.000000</td>\n",
       "      <td>64.797872</td>\n",
       "      <td>32.500000</td>\n",
       "      <td>2</td>\n",
       "      <td>32.027778</td>\n",
       "      <td>0.194444</td>\n",
       "      <td>3.073529</td>\n",
       "      <td>0.611940</td>\n",
       "      <td>0.320000</td>\n",
       "      <td>2.223881</td>\n",
       "      <td>2.866667</td>\n",
       "      <td>2.000000</td>\n",
       "      <td>94</td>\n",
       "    </tr>\n",
       "    <tr>\n",
       "      <th>3</th>\n",
       "      <td>69</td>\n",
       "      <td>35</td>\n",
       "      <td>3</td>\n",
       "      <td>100</td>\n",
       "      <td>2</td>\n",
       "      <td>2.831175</td>\n",
       "      <td>2685</td>\n",
       "      <td>246.482759</td>\n",
       "      <td>204.448276</td>\n",
       "      <td>43.714286</td>\n",
       "      <td>5</td>\n",
       "      <td>32.160000</td>\n",
       "      <td>0.280000</td>\n",
       "      <td>3.125000</td>\n",
       "      <td>0.480000</td>\n",
       "      <td>0.357143</td>\n",
       "      <td>2.160000</td>\n",
       "      <td>3.357143</td>\n",
       "      <td>1.833333</td>\n",
       "      <td>29</td>\n",
       "    </tr>\n",
       "    <tr>\n",
       "      <th>4</th>\n",
       "      <td>69</td>\n",
       "      <td>35</td>\n",
       "      <td>3</td>\n",
       "      <td>100</td>\n",
       "      <td>7</td>\n",
       "      <td>6.322161</td>\n",
       "      <td>777</td>\n",
       "      <td>250.000000</td>\n",
       "      <td>240.500000</td>\n",
       "      <td>43.000000</td>\n",
       "      <td>6</td>\n",
       "      <td>26.666667</td>\n",
       "      <td>0.000000</td>\n",
       "      <td>3.333333</td>\n",
       "      <td>0.000000</td>\n",
       "      <td>0.500000</td>\n",
       "      <td>2.000000</td>\n",
       "      <td>2.750000</td>\n",
       "      <td>1.333333</td>\n",
       "      <td>4</td>\n",
       "    </tr>\n",
       "    <tr>\n",
       "      <th>6</th>\n",
       "      <td>96</td>\n",
       "      <td>35</td>\n",
       "      <td>3</td>\n",
       "      <td>100</td>\n",
       "      <td>7</td>\n",
       "      <td>36.112149</td>\n",
       "      <td>313</td>\n",
       "      <td>180.000000</td>\n",
       "      <td>121.000000</td>\n",
       "      <td>5.357143</td>\n",
       "      <td>1</td>\n",
       "      <td>33.333333</td>\n",
       "      <td>0.000000</td>\n",
       "      <td>3.333333</td>\n",
       "      <td>0.666667</td>\n",
       "      <td>0.666667</td>\n",
       "      <td>3.000000</td>\n",
       "      <td>2.666667</td>\n",
       "      <td>2.666667</td>\n",
       "      <td>5</td>\n",
       "    </tr>\n",
       "  </tbody>\n",
       "</table>\n",
       "</div>"
      ],
      "text/plain": [
       "   productID  brandID  attribute1  attribute2  attribute3  attribute4  \\\n",
       "0         28        4           3         100           5    2.098131   \n",
       "2         70        3           3         100           1    2.726300   \n",
       "3         69       35           3         100           2    2.831175   \n",
       "4         69       35           3         100           7    6.322161   \n",
       "6         96       35           3         100           7   36.112149   \n",
       "\n",
       "   clickVolume  avgOriginalUnitPrice  avgFinalUnitPrice  ma14SalesVolume  \\\n",
       "0          749             58.870968          53.774194        24.642857   \n",
       "2         3676            105.000000          64.797872        32.500000   \n",
       "3         2685            246.482759         204.448276        43.714286   \n",
       "4          777            250.000000         240.500000        43.000000   \n",
       "6          313            180.000000         121.000000         5.357143   \n",
       "\n",
       "   weekday    meanAge    gender  meanEducation  maritalStatus      plus  \\\n",
       "0        3  31.481481  0.370370       3.222222       0.555556  0.357143   \n",
       "2        2  32.027778  0.194444       3.073529       0.611940  0.320000   \n",
       "3        5  32.160000  0.280000       3.125000       0.480000  0.357143   \n",
       "4        6  26.666667  0.000000       3.333333       0.000000  0.500000   \n",
       "6        1  33.333333  0.000000       3.333333       0.666667  0.666667   \n",
       "\n",
       "   meanPurchasePower  meanUserLevel  meanCityLevel  sales  \n",
       "0           2.259259       3.178571       1.884615     31  \n",
       "2           2.223881       2.866667       2.000000     94  \n",
       "3           2.160000       3.357143       1.833333     29  \n",
       "4           2.000000       2.750000       1.333333      4  \n",
       "6           3.000000       2.666667       2.666667      5  "
      ]
     },
     "execution_count": 4,
     "metadata": {},
     "output_type": "execute_result"
    }
   ],
   "source": [
    "g=df[df['Labels_5'] ==1]\n",
    "g=g.drop('Labels_5',axis=1)\n",
    "g.head()"
   ]
  },
  {
   "cell_type": "markdown",
   "id": "3e13caf4-7832-4342-8a03-4392c1f0f662",
   "metadata": {},
   "source": [
    "### initilize the data"
   ]
  },
  {
   "cell_type": "code",
   "execution_count": 5,
   "id": "ddadb6cb-e9d9-4a4d-95a7-b507c599cd6f",
   "metadata": {},
   "outputs": [
    {
     "data": {
      "text/html": [
       "<div>\n",
       "<style scoped>\n",
       "    .dataframe tbody tr th:only-of-type {\n",
       "        vertical-align: middle;\n",
       "    }\n",
       "\n",
       "    .dataframe tbody tr th {\n",
       "        vertical-align: top;\n",
       "    }\n",
       "\n",
       "    .dataframe thead th {\n",
       "        text-align: right;\n",
       "    }\n",
       "</style>\n",
       "<table border=\"1\" class=\"dataframe\">\n",
       "  <thead>\n",
       "    <tr style=\"text-align: right;\">\n",
       "      <th></th>\n",
       "      <th>productID</th>\n",
       "      <th>attribute1</th>\n",
       "      <th>attribute2</th>\n",
       "      <th>attribute3</th>\n",
       "      <th>attribute4</th>\n",
       "      <th>clickVolume</th>\n",
       "      <th>avgOriginalUnitPrice</th>\n",
       "      <th>avgFinalUnitPrice</th>\n",
       "      <th>ma14SalesVolume</th>\n",
       "      <th>meanAge</th>\n",
       "      <th>...</th>\n",
       "      <th>brandID_26</th>\n",
       "      <th>brandID_28</th>\n",
       "      <th>brandID_35</th>\n",
       "      <th>brandID_36</th>\n",
       "      <th>weekday_2</th>\n",
       "      <th>weekday_3</th>\n",
       "      <th>weekday_4</th>\n",
       "      <th>weekday_5</th>\n",
       "      <th>weekday_6</th>\n",
       "      <th>weekday_7</th>\n",
       "    </tr>\n",
       "  </thead>\n",
       "  <tbody>\n",
       "    <tr>\n",
       "      <th>0</th>\n",
       "      <td>0.930193</td>\n",
       "      <td>6.410959</td>\n",
       "      <td>31.372798</td>\n",
       "      <td>1.057051</td>\n",
       "      <td>0.106870</td>\n",
       "      <td>0.501264</td>\n",
       "      <td>0.757466</td>\n",
       "      <td>0.931132</td>\n",
       "      <td>1.052633</td>\n",
       "      <td>6.866756</td>\n",
       "      <td>...</td>\n",
       "      <td>0.0</td>\n",
       "      <td>0.0</td>\n",
       "      <td>0.000000</td>\n",
       "      <td>0.0</td>\n",
       "      <td>0.000000</td>\n",
       "      <td>2.956017</td>\n",
       "      <td>0.0</td>\n",
       "      <td>0.000000</td>\n",
       "      <td>0.000000</td>\n",
       "      <td>0.0</td>\n",
       "    </tr>\n",
       "    <tr>\n",
       "      <th>1</th>\n",
       "      <td>2.325483</td>\n",
       "      <td>6.410959</td>\n",
       "      <td>31.372798</td>\n",
       "      <td>0.211410</td>\n",
       "      <td>0.138867</td>\n",
       "      <td>2.460143</td>\n",
       "      <td>1.350988</td>\n",
       "      <td>1.122014</td>\n",
       "      <td>1.388255</td>\n",
       "      <td>6.985914</td>\n",
       "      <td>...</td>\n",
       "      <td>0.0</td>\n",
       "      <td>0.0</td>\n",
       "      <td>0.000000</td>\n",
       "      <td>0.0</td>\n",
       "      <td>3.023716</td>\n",
       "      <td>0.000000</td>\n",
       "      <td>0.0</td>\n",
       "      <td>0.000000</td>\n",
       "      <td>0.000000</td>\n",
       "      <td>0.0</td>\n",
       "    </tr>\n",
       "    <tr>\n",
       "      <th>2</th>\n",
       "      <td>2.292262</td>\n",
       "      <td>6.410959</td>\n",
       "      <td>31.372798</td>\n",
       "      <td>0.422821</td>\n",
       "      <td>0.144209</td>\n",
       "      <td>1.796922</td>\n",
       "      <td>3.171382</td>\n",
       "      <td>3.540144</td>\n",
       "      <td>1.867279</td>\n",
       "      <td>7.014755</td>\n",
       "      <td>...</td>\n",
       "      <td>0.0</td>\n",
       "      <td>0.0</td>\n",
       "      <td>3.047629</td>\n",
       "      <td>0.0</td>\n",
       "      <td>0.000000</td>\n",
       "      <td>0.000000</td>\n",
       "      <td>0.0</td>\n",
       "      <td>2.710697</td>\n",
       "      <td>0.000000</td>\n",
       "      <td>0.0</td>\n",
       "    </tr>\n",
       "    <tr>\n",
       "      <th>3</th>\n",
       "      <td>2.292262</td>\n",
       "      <td>6.410959</td>\n",
       "      <td>31.372798</td>\n",
       "      <td>1.479872</td>\n",
       "      <td>0.322025</td>\n",
       "      <td>0.520003</td>\n",
       "      <td>3.216637</td>\n",
       "      <td>4.164401</td>\n",
       "      <td>1.836768</td>\n",
       "      <td>5.816546</td>\n",
       "      <td>...</td>\n",
       "      <td>0.0</td>\n",
       "      <td>0.0</td>\n",
       "      <td>3.047629</td>\n",
       "      <td>0.0</td>\n",
       "      <td>0.000000</td>\n",
       "      <td>0.000000</td>\n",
       "      <td>0.0</td>\n",
       "      <td>0.000000</td>\n",
       "      <td>2.734027</td>\n",
       "      <td>0.0</td>\n",
       "    </tr>\n",
       "    <tr>\n",
       "      <th>4</th>\n",
       "      <td>3.189234</td>\n",
       "      <td>6.410959</td>\n",
       "      <td>31.372798</td>\n",
       "      <td>1.479872</td>\n",
       "      <td>1.839406</td>\n",
       "      <td>0.209474</td>\n",
       "      <td>2.315979</td>\n",
       "      <td>2.095187</td>\n",
       "      <td>0.228833</td>\n",
       "      <td>7.270683</td>\n",
       "      <td>...</td>\n",
       "      <td>0.0</td>\n",
       "      <td>0.0</td>\n",
       "      <td>3.047629</td>\n",
       "      <td>0.0</td>\n",
       "      <td>0.000000</td>\n",
       "      <td>0.000000</td>\n",
       "      <td>0.0</td>\n",
       "      <td>0.000000</td>\n",
       "      <td>0.000000</td>\n",
       "      <td>0.0</td>\n",
       "    </tr>\n",
       "  </tbody>\n",
       "</table>\n",
       "<p>5 rows × 38 columns</p>\n",
       "</div>"
      ],
      "text/plain": [
       "   productID  attribute1  attribute2  attribute3  attribute4  clickVolume  \\\n",
       "0   0.930193    6.410959   31.372798    1.057051    0.106870     0.501264   \n",
       "1   2.325483    6.410959   31.372798    0.211410    0.138867     2.460143   \n",
       "2   2.292262    6.410959   31.372798    0.422821    0.144209     1.796922   \n",
       "3   2.292262    6.410959   31.372798    1.479872    0.322025     0.520003   \n",
       "4   3.189234    6.410959   31.372798    1.479872    1.839406     0.209474   \n",
       "\n",
       "   avgOriginalUnitPrice  avgFinalUnitPrice  ma14SalesVolume   meanAge  ...  \\\n",
       "0              0.757466           0.931132         1.052633  6.866756  ...   \n",
       "1              1.350988           1.122014         1.388255  6.985914  ...   \n",
       "2              3.171382           3.540144         1.867279  7.014755  ...   \n",
       "3              3.216637           4.164401         1.836768  5.816546  ...   \n",
       "4              2.315979           2.095187         0.228833  7.270683  ...   \n",
       "\n",
       "   brandID_26  brandID_28  brandID_35  brandID_36  weekday_2  weekday_3  \\\n",
       "0         0.0         0.0    0.000000         0.0   0.000000   2.956017   \n",
       "1         0.0         0.0    0.000000         0.0   3.023716   0.000000   \n",
       "2         0.0         0.0    3.047629         0.0   0.000000   0.000000   \n",
       "3         0.0         0.0    3.047629         0.0   0.000000   0.000000   \n",
       "4         0.0         0.0    3.047629         0.0   0.000000   0.000000   \n",
       "\n",
       "   weekday_4  weekday_5  weekday_6  weekday_7  \n",
       "0        0.0   0.000000   0.000000        0.0  \n",
       "1        0.0   0.000000   0.000000        0.0  \n",
       "2        0.0   2.710697   0.000000        0.0  \n",
       "3        0.0   0.000000   2.734027        0.0  \n",
       "4        0.0   0.000000   0.000000        0.0  \n",
       "\n",
       "[5 rows x 38 columns]"
      ]
     },
     "execution_count": 5,
     "metadata": {},
     "output_type": "execute_result"
    }
   ],
   "source": [
    "x_stan,y =tk.initialize(g)\n",
    "x_stan.head()"
   ]
  },
  {
   "cell_type": "markdown",
   "id": "dcfd2d62-ee58-4dff-8b09-056a8000a860",
   "metadata": {},
   "source": [
    "### compare dimension and datasize"
   ]
  },
  {
   "cell_type": "code",
   "execution_count": 6,
   "id": "69b456ea-2794-4338-b40a-e3bd00708123",
   "metadata": {},
   "outputs": [
    {
     "name": "stdout",
     "output_type": "stream",
     "text": [
      "880\n"
     ]
    }
   ],
   "source": [
    "l1=len(g)\n",
    "print(l1)"
   ]
  },
  {
   "cell_type": "code",
   "execution_count": 7,
   "id": "ec3536b2-c5da-4786-b170-8e6996e708a8",
   "metadata": {},
   "outputs": [
    {
     "data": {
      "text/plain": [
       "20"
      ]
     },
     "execution_count": 7,
     "metadata": {},
     "output_type": "execute_result"
    }
   ],
   "source": [
    "len(g.columns)"
   ]
  },
  {
   "cell_type": "markdown",
   "id": "04bed678-f8bc-4cdb-b1e5-bec978c202cc",
   "metadata": {},
   "source": [
    "n>>p"
   ]
  },
  {
   "cell_type": "markdown",
   "id": "3b2f5b08-1562-4b15-befc-9c52744fb236",
   "metadata": {},
   "source": [
    "### Finding the best alpha "
   ]
  },
  {
   "cell_type": "code",
   "execution_count": 8,
   "id": "1e485397-5a15-4e16-be4f-982d8a7dec3f",
   "metadata": {},
   "outputs": [
    {
     "data": {
      "image/png": "[encoded data removed]",
      "text/plain": [
       "<Figure size 432x288 with 1 Axes>"
      ]
     },
     "metadata": {
      "needs_background": "light"
     },
     "output_type": "display_data"
    }
   ],
   "source": [
    "tk.para_plot(10,g,100,1000)"
   ]
  },
  {
   "cell_type": "code",
   "execution_count": 9,
   "id": "181d793f-a6da-49f7-8dee-d66a9050b65e",
   "metadata": {},
   "outputs": [
    {
     "data": {
      "image/png": "[encoded data removed]",
      "text/plain": [
       "<Figure size 432x288 with 1 Axes>"
      ]
     },
     "metadata": {
      "needs_background": "light"
     },
     "output_type": "display_data"
    }
   ],
   "source": [
    "tk.para_plot(10,g,262,265)"
   ]
  },
  {
   "cell_type": "markdown",
   "id": "35111338-a955-482f-99f4-c8095ba0b152",
   "metadata": {},
   "source": [
    "### Compute the MSE for Group1"
   ]
  },
  {
   "cell_type": "markdown",
   "id": "34c11fb7-f2bd-4434-9de4-b3bba48a5f1c",
   "metadata": {},
   "source": [
    "the best alpha is 263 for ridge_regression in Group1"
   ]
  },
  {
   "cell_type": "code",
   "execution_count": 10,
   "id": "13d33176-0c26-48d8-a4c7-befc0ad2cdc5",
   "metadata": {},
   "outputs": [
    {
     "name": "stdout",
     "output_type": "stream",
     "text": [
      "291.0067525686634\n"
     ]
    }
   ],
   "source": [
    "MSE_g1=tk.CV4Ridge_lr(g,263)\n",
    "print(MSE_g1)"
   ]
  },
  {
   "cell_type": "code",
   "execution_count": null,
   "id": "bcd2c689-bf0c-4f99-abe8-e6421ab870ad",
   "metadata": {},
   "outputs": [],
   "source": []
  },
  {
   "cell_type": "markdown",
   "id": "ffd66f3d-3ef3-4544-9bea-3b152a32bc29",
   "metadata": {},
   "source": [
    "## Product Group 2"
   ]
  },
  {
   "cell_type": "markdown",
   "id": "97a7db32-955b-4a49-ae04-6c4ffb74f2c9",
   "metadata": {},
   "source": [
    "### choose group2"
   ]
  },
  {
   "cell_type": "code",
   "execution_count": 11,
   "id": "bbe6e17e-de8a-4ade-8f7d-8e1d69e73b49",
   "metadata": {},
   "outputs": [
    {
     "data": {
      "text/html": [
       "<div>\n",
       "<style scoped>\n",
       "    .dataframe tbody tr th:only-of-type {\n",
       "        vertical-align: middle;\n",
       "    }\n",
       "\n",
       "    .dataframe tbody tr th {\n",
       "        vertical-align: top;\n",
       "    }\n",
       "\n",
       "    .dataframe thead th {\n",
       "        text-align: right;\n",
       "    }\n",
       "</style>\n",
       "<table border=\"1\" class=\"dataframe\">\n",
       "  <thead>\n",
       "    <tr style=\"text-align: right;\">\n",
       "      <th></th>\n",
       "      <th>productID</th>\n",
       "      <th>brandID</th>\n",
       "      <th>attribute1</th>\n",
       "      <th>attribute2</th>\n",
       "      <th>attribute3</th>\n",
       "      <th>attribute4</th>\n",
       "      <th>clickVolume</th>\n",
       "      <th>avgOriginalUnitPrice</th>\n",
       "      <th>avgFinalUnitPrice</th>\n",
       "      <th>ma14SalesVolume</th>\n",
       "      <th>weekday</th>\n",
       "      <th>meanAge</th>\n",
       "      <th>gender</th>\n",
       "      <th>meanEducation</th>\n",
       "      <th>maritalStatus</th>\n",
       "      <th>plus</th>\n",
       "      <th>meanPurchasePower</th>\n",
       "      <th>meanUserLevel</th>\n",
       "      <th>meanCityLevel</th>\n",
       "      <th>sales</th>\n",
       "    </tr>\n",
       "  </thead>\n",
       "  <tbody>\n",
       "    <tr>\n",
       "      <th>12</th>\n",
       "      <td>92</td>\n",
       "      <td>22</td>\n",
       "      <td>3</td>\n",
       "      <td>60</td>\n",
       "      <td>4</td>\n",
       "      <td>18.322989</td>\n",
       "      <td>368</td>\n",
       "      <td>166.000000</td>\n",
       "      <td>159.000000</td>\n",
       "      <td>10.571429</td>\n",
       "      <td>6</td>\n",
       "      <td>36.666667</td>\n",
       "      <td>0.333333</td>\n",
       "      <td>3.333333</td>\n",
       "      <td>1.000000</td>\n",
       "      <td>1.000000</td>\n",
       "      <td>2.000000</td>\n",
       "      <td>3.000000</td>\n",
       "      <td>2.500000</td>\n",
       "      <td>3</td>\n",
       "    </tr>\n",
       "    <tr>\n",
       "      <th>14</th>\n",
       "      <td>60</td>\n",
       "      <td>2</td>\n",
       "      <td>3</td>\n",
       "      <td>60</td>\n",
       "      <td>3</td>\n",
       "      <td>6.634016</td>\n",
       "      <td>667</td>\n",
       "      <td>69.000000</td>\n",
       "      <td>49.171282</td>\n",
       "      <td>12.785714</td>\n",
       "      <td>3</td>\n",
       "      <td>29.310345</td>\n",
       "      <td>0.137931</td>\n",
       "      <td>3.178571</td>\n",
       "      <td>0.655172</td>\n",
       "      <td>0.275862</td>\n",
       "      <td>2.275862</td>\n",
       "      <td>2.793103</td>\n",
       "      <td>2.285714</td>\n",
       "      <td>39</td>\n",
       "    </tr>\n",
       "    <tr>\n",
       "      <th>25</th>\n",
       "      <td>92</td>\n",
       "      <td>22</td>\n",
       "      <td>3</td>\n",
       "      <td>60</td>\n",
       "      <td>3</td>\n",
       "      <td>35.501079</td>\n",
       "      <td>440</td>\n",
       "      <td>166.000000</td>\n",
       "      <td>166.000000</td>\n",
       "      <td>8.000000</td>\n",
       "      <td>5</td>\n",
       "      <td>30.000000</td>\n",
       "      <td>1.000000</td>\n",
       "      <td>2.333333</td>\n",
       "      <td>0.333333</td>\n",
       "      <td>0.000000</td>\n",
       "      <td>2.666667</td>\n",
       "      <td>2.000000</td>\n",
       "      <td>3.000000</td>\n",
       "      <td>3</td>\n",
       "    </tr>\n",
       "    <tr>\n",
       "      <th>26</th>\n",
       "      <td>22</td>\n",
       "      <td>23</td>\n",
       "      <td>1</td>\n",
       "      <td>60</td>\n",
       "      <td>6</td>\n",
       "      <td>25.625473</td>\n",
       "      <td>708</td>\n",
       "      <td>54.546538</td>\n",
       "      <td>29.354231</td>\n",
       "      <td>32.642857</td>\n",
       "      <td>4</td>\n",
       "      <td>30.666667</td>\n",
       "      <td>0.388889</td>\n",
       "      <td>2.888889</td>\n",
       "      <td>0.444444</td>\n",
       "      <td>0.263158</td>\n",
       "      <td>2.222222</td>\n",
       "      <td>3.157895</td>\n",
       "      <td>2.375000</td>\n",
       "      <td>26</td>\n",
       "    </tr>\n",
       "    <tr>\n",
       "      <th>27</th>\n",
       "      <td>80</td>\n",
       "      <td>2</td>\n",
       "      <td>3</td>\n",
       "      <td>60</td>\n",
       "      <td>1</td>\n",
       "      <td>5.027895</td>\n",
       "      <td>144</td>\n",
       "      <td>69.000000</td>\n",
       "      <td>63.080000</td>\n",
       "      <td>5.928571</td>\n",
       "      <td>4</td>\n",
       "      <td>32.000000</td>\n",
       "      <td>0.600000</td>\n",
       "      <td>3.400000</td>\n",
       "      <td>0.400000</td>\n",
       "      <td>0.600000</td>\n",
       "      <td>2.200000</td>\n",
       "      <td>2.800000</td>\n",
       "      <td>2.400000</td>\n",
       "      <td>5</td>\n",
       "    </tr>\n",
       "  </tbody>\n",
       "</table>\n",
       "</div>"
      ],
      "text/plain": [
       "    productID  brandID  attribute1  attribute2  attribute3  attribute4  \\\n",
       "12         92       22           3          60           4   18.322989   \n",
       "14         60        2           3          60           3    6.634016   \n",
       "25         92       22           3          60           3   35.501079   \n",
       "26         22       23           1          60           6   25.625473   \n",
       "27         80        2           3          60           1    5.027895   \n",
       "\n",
       "    clickVolume  avgOriginalUnitPrice  avgFinalUnitPrice  ma14SalesVolume  \\\n",
       "12          368            166.000000         159.000000        10.571429   \n",
       "14          667             69.000000          49.171282        12.785714   \n",
       "25          440            166.000000         166.000000         8.000000   \n",
       "26          708             54.546538          29.354231        32.642857   \n",
       "27          144             69.000000          63.080000         5.928571   \n",
       "\n",
       "    weekday    meanAge    gender  meanEducation  maritalStatus      plus  \\\n",
       "12        6  36.666667  0.333333       3.333333       1.000000  1.000000   \n",
       "14        3  29.310345  0.137931       3.178571       0.655172  0.275862   \n",
       "25        5  30.000000  1.000000       2.333333       0.333333  0.000000   \n",
       "26        4  30.666667  0.388889       2.888889       0.444444  0.263158   \n",
       "27        4  32.000000  0.600000       3.400000       0.400000  0.600000   \n",
       "\n",
       "    meanPurchasePower  meanUserLevel  meanCityLevel  sales  \n",
       "12           2.000000       3.000000       2.500000      3  \n",
       "14           2.275862       2.793103       2.285714     39  \n",
       "25           2.666667       2.000000       3.000000      3  \n",
       "26           2.222222       3.157895       2.375000     26  \n",
       "27           2.200000       2.800000       2.400000      5  "
      ]
     },
     "execution_count": 11,
     "metadata": {},
     "output_type": "execute_result"
    }
   ],
   "source": [
    "g=df[df['Labels_5'] ==2]\n",
    "g=g.drop('Labels_5',axis=1)\n",
    "g.head()"
   ]
  },
  {
   "cell_type": "markdown",
   "id": "d7f1cfd0-a10c-4d5d-b990-94b1fb2c55ab",
   "metadata": {},
   "source": [
    "### initilize the data"
   ]
  },
  {
   "cell_type": "code",
   "execution_count": 12,
   "id": "4d440c9a-ff73-4802-9d6b-d759de0c40c7",
   "metadata": {},
   "outputs": [
    {
     "data": {
      "text/html": [
       "<div>\n",
       "<style scoped>\n",
       "    .dataframe tbody tr th:only-of-type {\n",
       "        vertical-align: middle;\n",
       "    }\n",
       "\n",
       "    .dataframe tbody tr th {\n",
       "        vertical-align: top;\n",
       "    }\n",
       "\n",
       "    .dataframe thead th {\n",
       "        text-align: right;\n",
       "    }\n",
       "</style>\n",
       "<table border=\"1\" class=\"dataframe\">\n",
       "  <thead>\n",
       "    <tr style=\"text-align: right;\">\n",
       "      <th></th>\n",
       "      <th>productID</th>\n",
       "      <th>attribute1</th>\n",
       "      <th>attribute2</th>\n",
       "      <th>attribute3</th>\n",
       "      <th>attribute4</th>\n",
       "      <th>clickVolume</th>\n",
       "      <th>avgOriginalUnitPrice</th>\n",
       "      <th>avgFinalUnitPrice</th>\n",
       "      <th>ma14SalesVolume</th>\n",
       "      <th>meanAge</th>\n",
       "      <th>...</th>\n",
       "      <th>brandID_23</th>\n",
       "      <th>brandID_24</th>\n",
       "      <th>brandID_25</th>\n",
       "      <th>brandID_26</th>\n",
       "      <th>weekday_2</th>\n",
       "      <th>weekday_3</th>\n",
       "      <th>weekday_4</th>\n",
       "      <th>weekday_5</th>\n",
       "      <th>weekday_6</th>\n",
       "      <th>weekday_7</th>\n",
       "    </tr>\n",
       "  </thead>\n",
       "  <tbody>\n",
       "    <tr>\n",
       "      <th>0</th>\n",
       "      <td>3.176927</td>\n",
       "      <td>4.967586</td>\n",
       "      <td>60.0</td>\n",
       "      <td>0.851824</td>\n",
       "      <td>1.065053</td>\n",
       "      <td>0.674888</td>\n",
       "      <td>4.812973</td>\n",
       "      <td>5.202577</td>\n",
       "      <td>0.621738</td>\n",
       "      <td>7.830086</td>\n",
       "      <td>...</td>\n",
       "      <td>0.000000</td>\n",
       "      <td>0.0</td>\n",
       "      <td>0.0</td>\n",
       "      <td>0.0</td>\n",
       "      <td>0.0</td>\n",
       "      <td>0.000000</td>\n",
       "      <td>0.000000</td>\n",
       "      <td>0.000000</td>\n",
       "      <td>2.644256</td>\n",
       "      <td>0.0</td>\n",
       "    </tr>\n",
       "    <tr>\n",
       "      <th>1</th>\n",
       "      <td>2.071909</td>\n",
       "      <td>4.967586</td>\n",
       "      <td>60.0</td>\n",
       "      <td>0.638868</td>\n",
       "      <td>0.385613</td>\n",
       "      <td>1.223234</td>\n",
       "      <td>2.000573</td>\n",
       "      <td>1.608914</td>\n",
       "      <td>0.751967</td>\n",
       "      <td>6.259159</td>\n",
       "      <td>...</td>\n",
       "      <td>0.000000</td>\n",
       "      <td>0.0</td>\n",
       "      <td>0.0</td>\n",
       "      <td>0.0</td>\n",
       "      <td>0.0</td>\n",
       "      <td>2.879426</td>\n",
       "      <td>0.000000</td>\n",
       "      <td>0.000000</td>\n",
       "      <td>0.000000</td>\n",
       "      <td>0.0</td>\n",
       "    </tr>\n",
       "    <tr>\n",
       "      <th>2</th>\n",
       "      <td>3.176927</td>\n",
       "      <td>4.967586</td>\n",
       "      <td>60.0</td>\n",
       "      <td>0.638868</td>\n",
       "      <td>2.063556</td>\n",
       "      <td>0.806931</td>\n",
       "      <td>4.812973</td>\n",
       "      <td>5.431622</td>\n",
       "      <td>0.470504</td>\n",
       "      <td>6.406434</td>\n",
       "      <td>...</td>\n",
       "      <td>0.000000</td>\n",
       "      <td>0.0</td>\n",
       "      <td>0.0</td>\n",
       "      <td>0.0</td>\n",
       "      <td>0.0</td>\n",
       "      <td>0.000000</td>\n",
       "      <td>0.000000</td>\n",
       "      <td>2.664311</td>\n",
       "      <td>0.000000</td>\n",
       "      <td>0.0</td>\n",
       "    </tr>\n",
       "    <tr>\n",
       "      <th>3</th>\n",
       "      <td>0.759700</td>\n",
       "      <td>1.655862</td>\n",
       "      <td>60.0</td>\n",
       "      <td>1.277736</td>\n",
       "      <td>1.489521</td>\n",
       "      <td>1.298426</td>\n",
       "      <td>1.581512</td>\n",
       "      <td>0.960488</td>\n",
       "      <td>1.919826</td>\n",
       "      <td>6.548799</td>\n",
       "      <td>...</td>\n",
       "      <td>2.192196</td>\n",
       "      <td>0.0</td>\n",
       "      <td>0.0</td>\n",
       "      <td>0.0</td>\n",
       "      <td>0.0</td>\n",
       "      <td>0.000000</td>\n",
       "      <td>2.825455</td>\n",
       "      <td>0.000000</td>\n",
       "      <td>0.000000</td>\n",
       "      <td>0.0</td>\n",
       "    </tr>\n",
       "    <tr>\n",
       "      <th>4</th>\n",
       "      <td>2.762545</td>\n",
       "      <td>4.967586</td>\n",
       "      <td>60.0</td>\n",
       "      <td>0.212956</td>\n",
       "      <td>0.292254</td>\n",
       "      <td>0.264087</td>\n",
       "      <td>2.000573</td>\n",
       "      <td>2.064016</td>\n",
       "      <td>0.348677</td>\n",
       "      <td>6.833529</td>\n",
       "      <td>...</td>\n",
       "      <td>0.000000</td>\n",
       "      <td>0.0</td>\n",
       "      <td>0.0</td>\n",
       "      <td>0.0</td>\n",
       "      <td>0.0</td>\n",
       "      <td>0.000000</td>\n",
       "      <td>2.825455</td>\n",
       "      <td>0.000000</td>\n",
       "      <td>0.000000</td>\n",
       "      <td>0.0</td>\n",
       "    </tr>\n",
       "  </tbody>\n",
       "</table>\n",
       "<p>5 rows × 35 columns</p>\n",
       "</div>"
      ],
      "text/plain": [
       "   productID  attribute1  attribute2  attribute3  attribute4  clickVolume  \\\n",
       "0   3.176927    4.967586        60.0    0.851824    1.065053     0.674888   \n",
       "1   2.071909    4.967586        60.0    0.638868    0.385613     1.223234   \n",
       "2   3.176927    4.967586        60.0    0.638868    2.063556     0.806931   \n",
       "3   0.759700    1.655862        60.0    1.277736    1.489521     1.298426   \n",
       "4   2.762545    4.967586        60.0    0.212956    0.292254     0.264087   \n",
       "\n",
       "   avgOriginalUnitPrice  avgFinalUnitPrice  ma14SalesVolume   meanAge  ...  \\\n",
       "0              4.812973           5.202577         0.621738  7.830086  ...   \n",
       "1              2.000573           1.608914         0.751967  6.259159  ...   \n",
       "2              4.812973           5.431622         0.470504  6.406434  ...   \n",
       "3              1.581512           0.960488         1.919826  6.548799  ...   \n",
       "4              2.000573           2.064016         0.348677  6.833529  ...   \n",
       "\n",
       "   brandID_23  brandID_24  brandID_25  brandID_26  weekday_2  weekday_3  \\\n",
       "0    0.000000         0.0         0.0         0.0        0.0   0.000000   \n",
       "1    0.000000         0.0         0.0         0.0        0.0   2.879426   \n",
       "2    0.000000         0.0         0.0         0.0        0.0   0.000000   \n",
       "3    2.192196         0.0         0.0         0.0        0.0   0.000000   \n",
       "4    0.000000         0.0         0.0         0.0        0.0   0.000000   \n",
       "\n",
       "   weekday_4  weekday_5  weekday_6  weekday_7  \n",
       "0   0.000000   0.000000   2.644256        0.0  \n",
       "1   0.000000   0.000000   0.000000        0.0  \n",
       "2   0.000000   2.664311   0.000000        0.0  \n",
       "3   2.825455   0.000000   0.000000        0.0  \n",
       "4   2.825455   0.000000   0.000000        0.0  \n",
       "\n",
       "[5 rows x 35 columns]"
      ]
     },
     "execution_count": 12,
     "metadata": {},
     "output_type": "execute_result"
    }
   ],
   "source": [
    "x_stan,y =tk.initialize(g)\n",
    "x_stan.head()"
   ]
  },
  {
   "cell_type": "markdown",
   "id": "2a988539-225b-454f-a313-609c9e817d03",
   "metadata": {},
   "source": [
    "### compare dimension and datasize"
   ]
  },
  {
   "cell_type": "code",
   "execution_count": 13,
   "id": "4d63ad57-51c9-474d-bec3-8e542051967a",
   "metadata": {},
   "outputs": [
    {
     "name": "stdout",
     "output_type": "stream",
     "text": [
      "613\n"
     ]
    }
   ],
   "source": [
    "l2=len(g)\n",
    "print(l2)"
   ]
  },
  {
   "cell_type": "code",
   "execution_count": 14,
   "id": "182b909a-da49-4a4c-a147-2dd28c0b3489",
   "metadata": {},
   "outputs": [
    {
     "data": {
      "text/plain": [
       "20"
      ]
     },
     "execution_count": 14,
     "metadata": {},
     "output_type": "execute_result"
    }
   ],
   "source": [
    "len(g.columns)"
   ]
  },
  {
   "cell_type": "markdown",
   "id": "988e73d5-2ad8-42db-85c0-31b374dde0d7",
   "metadata": {},
   "source": [
    "n>>p"
   ]
  },
  {
   "cell_type": "markdown",
   "id": "d42fd961-d9fd-41ed-b1eb-ac901e5d5e25",
   "metadata": {},
   "source": [
    "### Finding the best alpha "
   ]
  },
  {
   "cell_type": "code",
   "execution_count": 15,
   "id": "0a6d46ac-543e-4829-9381-2f43a0c0bf9a",
   "metadata": {},
   "outputs": [
    {
     "data": {
      "image/png": "[encoded data removed]",
      "text/plain": [
       "<Figure size 432x288 with 1 Axes>"
      ]
     },
     "metadata": {
      "needs_background": "light"
     },
     "output_type": "display_data"
    }
   ],
   "source": [
    "tk.para_plot(10,g,800,1500)"
   ]
  },
  {
   "cell_type": "code",
   "execution_count": 16,
   "id": "3cfb4593-f528-4613-871f-28fd4a5566a1",
   "metadata": {},
   "outputs": [
    {
     "data": {
      "image/png": "[encoded data removed]",
      "text/plain": [
       "<Figure size 432x288 with 1 Axes>"
      ]
     },
     "metadata": {
      "needs_background": "light"
     },
     "output_type": "display_data"
    }
   ],
   "source": [
    "tk.para_plot(10,g,1205,1210)"
   ]
  },
  {
   "cell_type": "markdown",
   "id": "71a49f5c-2e87-43a1-8a2d-6694d62ee72d",
   "metadata": {},
   "source": [
    "### Compute the MSE for Group2"
   ]
  },
  {
   "cell_type": "markdown",
   "id": "63ec0d44-f4f5-46ce-a587-70a5f9e83ab4",
   "metadata": {},
   "source": [
    "the best alpha is 1207.7 for ridge_regression in Group2"
   ]
  },
  {
   "cell_type": "code",
   "execution_count": 17,
   "id": "af13f37e-7945-48e1-9ed1-8f68055ebafe",
   "metadata": {},
   "outputs": [
    {
     "name": "stdout",
     "output_type": "stream",
     "text": [
      "178.25768114464992\n"
     ]
    }
   ],
   "source": [
    "MSE_g2=tk.CV4Ridge_lr(g,1207.7)\n",
    "print(MSE_g2)"
   ]
  },
  {
   "cell_type": "code",
   "execution_count": null,
   "id": "14bc8b25-3b1a-459a-8edf-c2adfd5fe0da",
   "metadata": {},
   "outputs": [],
   "source": []
  },
  {
   "cell_type": "markdown",
   "id": "43ceb8b8-7fbb-4b09-aea3-ab84fca97e2c",
   "metadata": {},
   "source": [
    "## Product Group 3"
   ]
  },
  {
   "cell_type": "markdown",
   "id": "3a9397a6-6201-4382-b802-05f0b31e89c6",
   "metadata": {},
   "source": [
    "### choose group3"
   ]
  },
  {
   "cell_type": "code",
   "execution_count": 18,
   "id": "10d432d0-193e-4472-a0d3-c1ad1cf1bf5b",
   "metadata": {},
   "outputs": [
    {
     "data": {
      "text/html": [
       "<div>\n",
       "<style scoped>\n",
       "    .dataframe tbody tr th:only-of-type {\n",
       "        vertical-align: middle;\n",
       "    }\n",
       "\n",
       "    .dataframe tbody tr th {\n",
       "        vertical-align: top;\n",
       "    }\n",
       "\n",
       "    .dataframe thead th {\n",
       "        text-align: right;\n",
       "    }\n",
       "</style>\n",
       "<table border=\"1\" class=\"dataframe\">\n",
       "  <thead>\n",
       "    <tr style=\"text-align: right;\">\n",
       "      <th></th>\n",
       "      <th>productID</th>\n",
       "      <th>brandID</th>\n",
       "      <th>attribute1</th>\n",
       "      <th>attribute2</th>\n",
       "      <th>attribute3</th>\n",
       "      <th>attribute4</th>\n",
       "      <th>clickVolume</th>\n",
       "      <th>avgOriginalUnitPrice</th>\n",
       "      <th>avgFinalUnitPrice</th>\n",
       "      <th>ma14SalesVolume</th>\n",
       "      <th>weekday</th>\n",
       "      <th>meanAge</th>\n",
       "      <th>gender</th>\n",
       "      <th>meanEducation</th>\n",
       "      <th>maritalStatus</th>\n",
       "      <th>plus</th>\n",
       "      <th>meanPurchasePower</th>\n",
       "      <th>meanUserLevel</th>\n",
       "      <th>meanCityLevel</th>\n",
       "      <th>sales</th>\n",
       "    </tr>\n",
       "  </thead>\n",
       "  <tbody>\n",
       "    <tr>\n",
       "      <th>1</th>\n",
       "      <td>73</td>\n",
       "      <td>30</td>\n",
       "      <td>2</td>\n",
       "      <td>40</td>\n",
       "      <td>3</td>\n",
       "      <td>1.487173</td>\n",
       "      <td>1217</td>\n",
       "      <td>329.0</td>\n",
       "      <td>146.111111</td>\n",
       "      <td>8.642857</td>\n",
       "      <td>5</td>\n",
       "      <td>30.000000</td>\n",
       "      <td>0.000000</td>\n",
       "      <td>3.333333</td>\n",
       "      <td>0.571429</td>\n",
       "      <td>0.333333</td>\n",
       "      <td>2.285714</td>\n",
       "      <td>3.000000</td>\n",
       "      <td>2.000000</td>\n",
       "      <td>9</td>\n",
       "    </tr>\n",
       "    <tr>\n",
       "      <th>33</th>\n",
       "      <td>13</td>\n",
       "      <td>2</td>\n",
       "      <td>3</td>\n",
       "      <td>50</td>\n",
       "      <td>4</td>\n",
       "      <td>3.300992</td>\n",
       "      <td>1139</td>\n",
       "      <td>65.0</td>\n",
       "      <td>52.346207</td>\n",
       "      <td>40.000000</td>\n",
       "      <td>7</td>\n",
       "      <td>33.684211</td>\n",
       "      <td>0.263158</td>\n",
       "      <td>2.823529</td>\n",
       "      <td>0.470588</td>\n",
       "      <td>0.181818</td>\n",
       "      <td>2.352941</td>\n",
       "      <td>2.181818</td>\n",
       "      <td>2.250000</td>\n",
       "      <td>29</td>\n",
       "    </tr>\n",
       "    <tr>\n",
       "      <th>58</th>\n",
       "      <td>18</td>\n",
       "      <td>18</td>\n",
       "      <td>2</td>\n",
       "      <td>40</td>\n",
       "      <td>3</td>\n",
       "      <td>10.124413</td>\n",
       "      <td>622</td>\n",
       "      <td>66.0</td>\n",
       "      <td>31.718182</td>\n",
       "      <td>34.785714</td>\n",
       "      <td>5</td>\n",
       "      <td>32.846154</td>\n",
       "      <td>0.576923</td>\n",
       "      <td>2.884615</td>\n",
       "      <td>0.538462</td>\n",
       "      <td>0.290323</td>\n",
       "      <td>2.230769</td>\n",
       "      <td>2.290323</td>\n",
       "      <td>2.318182</td>\n",
       "      <td>33</td>\n",
       "    </tr>\n",
       "    <tr>\n",
       "      <th>72</th>\n",
       "      <td>73</td>\n",
       "      <td>30</td>\n",
       "      <td>2</td>\n",
       "      <td>40</td>\n",
       "      <td>6</td>\n",
       "      <td>12.847343</td>\n",
       "      <td>191</td>\n",
       "      <td>329.0</td>\n",
       "      <td>149.000000</td>\n",
       "      <td>8.571429</td>\n",
       "      <td>1</td>\n",
       "      <td>50.000000</td>\n",
       "      <td>1.000000</td>\n",
       "      <td>3.000000</td>\n",
       "      <td>0.000000</td>\n",
       "      <td>1.000000</td>\n",
       "      <td>2.000000</td>\n",
       "      <td>2.000000</td>\n",
       "      <td>2.000000</td>\n",
       "      <td>1</td>\n",
       "    </tr>\n",
       "    <tr>\n",
       "      <th>73</th>\n",
       "      <td>24</td>\n",
       "      <td>26</td>\n",
       "      <td>2</td>\n",
       "      <td>50</td>\n",
       "      <td>6</td>\n",
       "      <td>2.991092</td>\n",
       "      <td>1310</td>\n",
       "      <td>94.9</td>\n",
       "      <td>79.076471</td>\n",
       "      <td>25.857143</td>\n",
       "      <td>2</td>\n",
       "      <td>34.933333</td>\n",
       "      <td>0.428571</td>\n",
       "      <td>3.153846</td>\n",
       "      <td>0.500000</td>\n",
       "      <td>0.235294</td>\n",
       "      <td>2.357143</td>\n",
       "      <td>2.823529</td>\n",
       "      <td>2.066667</td>\n",
       "      <td>17</td>\n",
       "    </tr>\n",
       "  </tbody>\n",
       "</table>\n",
       "</div>"
      ],
      "text/plain": [
       "    productID  brandID  attribute1  attribute2  attribute3  attribute4  \\\n",
       "1          73       30           2          40           3    1.487173   \n",
       "33         13        2           3          50           4    3.300992   \n",
       "58         18       18           2          40           3   10.124413   \n",
       "72         73       30           2          40           6   12.847343   \n",
       "73         24       26           2          50           6    2.991092   \n",
       "\n",
       "    clickVolume  avgOriginalUnitPrice  avgFinalUnitPrice  ma14SalesVolume  \\\n",
       "1          1217                 329.0         146.111111         8.642857   \n",
       "33         1139                  65.0          52.346207        40.000000   \n",
       "58          622                  66.0          31.718182        34.785714   \n",
       "72          191                 329.0         149.000000         8.571429   \n",
       "73         1310                  94.9          79.076471        25.857143   \n",
       "\n",
       "    weekday    meanAge    gender  meanEducation  maritalStatus      plus  \\\n",
       "1         5  30.000000  0.000000       3.333333       0.571429  0.333333   \n",
       "33        7  33.684211  0.263158       2.823529       0.470588  0.181818   \n",
       "58        5  32.846154  0.576923       2.884615       0.538462  0.290323   \n",
       "72        1  50.000000  1.000000       3.000000       0.000000  1.000000   \n",
       "73        2  34.933333  0.428571       3.153846       0.500000  0.235294   \n",
       "\n",
       "    meanPurchasePower  meanUserLevel  meanCityLevel  sales  \n",
       "1            2.285714       3.000000       2.000000      9  \n",
       "33           2.352941       2.181818       2.250000     29  \n",
       "58           2.230769       2.290323       2.318182     33  \n",
       "72           2.000000       2.000000       2.000000      1  \n",
       "73           2.357143       2.823529       2.066667     17  "
      ]
     },
     "execution_count": 18,
     "metadata": {},
     "output_type": "execute_result"
    }
   ],
   "source": [
    "g=df[df['Labels_5'] ==3]\n",
    "g=g.drop('Labels_5',axis=1)\n",
    "g.head()"
   ]
  },
  {
   "cell_type": "markdown",
   "id": "5acd9d5f-946b-49e8-b779-f5f6a0172a93",
   "metadata": {},
   "source": [
    "### initilize the data"
   ]
  },
  {
   "cell_type": "code",
   "execution_count": 19,
   "id": "4aefe61c-f0c4-43ef-ba57-05c986a179cc",
   "metadata": {},
   "outputs": [
    {
     "data": {
      "text/html": [
       "<div>\n",
       "<style scoped>\n",
       "    .dataframe tbody tr th:only-of-type {\n",
       "        vertical-align: middle;\n",
       "    }\n",
       "\n",
       "    .dataframe tbody tr th {\n",
       "        vertical-align: top;\n",
       "    }\n",
       "\n",
       "    .dataframe thead th {\n",
       "        text-align: right;\n",
       "    }\n",
       "</style>\n",
       "<table border=\"1\" class=\"dataframe\">\n",
       "  <thead>\n",
       "    <tr style=\"text-align: right;\">\n",
       "      <th></th>\n",
       "      <th>productID</th>\n",
       "      <th>attribute1</th>\n",
       "      <th>attribute2</th>\n",
       "      <th>attribute3</th>\n",
       "      <th>attribute4</th>\n",
       "      <th>clickVolume</th>\n",
       "      <th>avgOriginalUnitPrice</th>\n",
       "      <th>avgFinalUnitPrice</th>\n",
       "      <th>ma14SalesVolume</th>\n",
       "      <th>meanAge</th>\n",
       "      <th>...</th>\n",
       "      <th>brandID_18</th>\n",
       "      <th>brandID_26</th>\n",
       "      <th>brandID_30</th>\n",
       "      <th>brandID_35</th>\n",
       "      <th>weekday_2</th>\n",
       "      <th>weekday_3</th>\n",
       "      <th>weekday_4</th>\n",
       "      <th>weekday_5</th>\n",
       "      <th>weekday_6</th>\n",
       "      <th>weekday_7</th>\n",
       "    </tr>\n",
       "  </thead>\n",
       "  <tbody>\n",
       "    <tr>\n",
       "      <th>0</th>\n",
       "      <td>2.600871</td>\n",
       "      <td>2.889972</td>\n",
       "      <td>8.267962</td>\n",
       "      <td>0.690458</td>\n",
       "      <td>0.081532</td>\n",
       "      <td>2.284238</td>\n",
       "      <td>3.246129</td>\n",
       "      <td>1.806009</td>\n",
       "      <td>0.629656</td>\n",
       "      <td>7.657001</td>\n",
       "      <td>...</td>\n",
       "      <td>0.000000</td>\n",
       "      <td>0.000000</td>\n",
       "      <td>3.669184</td>\n",
       "      <td>0.0</td>\n",
       "      <td>0.000000</td>\n",
       "      <td>0.0</td>\n",
       "      <td>0.0</td>\n",
       "      <td>2.611702</td>\n",
       "      <td>0.0</td>\n",
       "      <td>0.000000</td>\n",
       "    </tr>\n",
       "    <tr>\n",
       "      <th>1</th>\n",
       "      <td>0.463169</td>\n",
       "      <td>4.334958</td>\n",
       "      <td>10.334953</td>\n",
       "      <td>0.920611</td>\n",
       "      <td>0.180971</td>\n",
       "      <td>2.137836</td>\n",
       "      <td>0.641332</td>\n",
       "      <td>0.647026</td>\n",
       "      <td>2.914113</td>\n",
       "      <td>8.597335</td>\n",
       "      <td>...</td>\n",
       "      <td>0.000000</td>\n",
       "      <td>0.000000</td>\n",
       "      <td>0.000000</td>\n",
       "      <td>0.0</td>\n",
       "      <td>0.000000</td>\n",
       "      <td>0.0</td>\n",
       "      <td>0.0</td>\n",
       "      <td>0.000000</td>\n",
       "      <td>0.0</td>\n",
       "      <td>2.960836</td>\n",
       "    </tr>\n",
       "    <tr>\n",
       "      <th>2</th>\n",
       "      <td>0.641311</td>\n",
       "      <td>2.889972</td>\n",
       "      <td>8.267962</td>\n",
       "      <td>0.690458</td>\n",
       "      <td>0.555053</td>\n",
       "      <td>1.167458</td>\n",
       "      <td>0.651199</td>\n",
       "      <td>0.392053</td>\n",
       "      <td>2.534237</td>\n",
       "      <td>8.383435</td>\n",
       "      <td>...</td>\n",
       "      <td>2.460519</td>\n",
       "      <td>0.000000</td>\n",
       "      <td>0.000000</td>\n",
       "      <td>0.0</td>\n",
       "      <td>0.000000</td>\n",
       "      <td>0.0</td>\n",
       "      <td>0.0</td>\n",
       "      <td>2.611702</td>\n",
       "      <td>0.0</td>\n",
       "      <td>0.000000</td>\n",
       "    </tr>\n",
       "    <tr>\n",
       "      <th>3</th>\n",
       "      <td>2.600871</td>\n",
       "      <td>2.889972</td>\n",
       "      <td>8.267962</td>\n",
       "      <td>1.380917</td>\n",
       "      <td>0.704332</td>\n",
       "      <td>0.358496</td>\n",
       "      <td>3.246129</td>\n",
       "      <td>1.841717</td>\n",
       "      <td>0.624453</td>\n",
       "      <td>12.761669</td>\n",
       "      <td>...</td>\n",
       "      <td>0.000000</td>\n",
       "      <td>0.000000</td>\n",
       "      <td>3.669184</td>\n",
       "      <td>0.0</td>\n",
       "      <td>0.000000</td>\n",
       "      <td>0.0</td>\n",
       "      <td>0.0</td>\n",
       "      <td>0.000000</td>\n",
       "      <td>0.0</td>\n",
       "      <td>0.000000</td>\n",
       "    </tr>\n",
       "    <tr>\n",
       "      <th>4</th>\n",
       "      <td>0.855081</td>\n",
       "      <td>2.889972</td>\n",
       "      <td>10.334953</td>\n",
       "      <td>1.380917</td>\n",
       "      <td>0.163981</td>\n",
       "      <td>2.458793</td>\n",
       "      <td>0.936345</td>\n",
       "      <td>0.977426</td>\n",
       "      <td>1.883766</td>\n",
       "      <td>8.916153</td>\n",
       "      <td>...</td>\n",
       "      <td>0.000000</td>\n",
       "      <td>2.322582</td>\n",
       "      <td>0.000000</td>\n",
       "      <td>0.0</td>\n",
       "      <td>3.028091</td>\n",
       "      <td>0.0</td>\n",
       "      <td>0.0</td>\n",
       "      <td>0.000000</td>\n",
       "      <td>0.0</td>\n",
       "      <td>0.000000</td>\n",
       "    </tr>\n",
       "  </tbody>\n",
       "</table>\n",
       "<p>5 rows × 29 columns</p>\n",
       "</div>"
      ],
      "text/plain": [
       "   productID  attribute1  attribute2  attribute3  attribute4  clickVolume  \\\n",
       "0   2.600871    2.889972    8.267962    0.690458    0.081532     2.284238   \n",
       "1   0.463169    4.334958   10.334953    0.920611    0.180971     2.137836   \n",
       "2   0.641311    2.889972    8.267962    0.690458    0.555053     1.167458   \n",
       "3   2.600871    2.889972    8.267962    1.380917    0.704332     0.358496   \n",
       "4   0.855081    2.889972   10.334953    1.380917    0.163981     2.458793   \n",
       "\n",
       "   avgOriginalUnitPrice  avgFinalUnitPrice  ma14SalesVolume    meanAge  ...  \\\n",
       "0              3.246129           1.806009         0.629656   7.657001  ...   \n",
       "1              0.641332           0.647026         2.914113   8.597335  ...   \n",
       "2              0.651199           0.392053         2.534237   8.383435  ...   \n",
       "3              3.246129           1.841717         0.624453  12.761669  ...   \n",
       "4              0.936345           0.977426         1.883766   8.916153  ...   \n",
       "\n",
       "   brandID_18  brandID_26  brandID_30  brandID_35  weekday_2  weekday_3  \\\n",
       "0    0.000000    0.000000    3.669184         0.0   0.000000        0.0   \n",
       "1    0.000000    0.000000    0.000000         0.0   0.000000        0.0   \n",
       "2    2.460519    0.000000    0.000000         0.0   0.000000        0.0   \n",
       "3    0.000000    0.000000    3.669184         0.0   0.000000        0.0   \n",
       "4    0.000000    2.322582    0.000000         0.0   3.028091        0.0   \n",
       "\n",
       "   weekday_4  weekday_5  weekday_6  weekday_7  \n",
       "0        0.0   2.611702        0.0   0.000000  \n",
       "1        0.0   0.000000        0.0   2.960836  \n",
       "2        0.0   2.611702        0.0   0.000000  \n",
       "3        0.0   0.000000        0.0   0.000000  \n",
       "4        0.0   0.000000        0.0   0.000000  \n",
       "\n",
       "[5 rows x 29 columns]"
      ]
     },
     "execution_count": 19,
     "metadata": {},
     "output_type": "execute_result"
    }
   ],
   "source": [
    "x_stan,y =tk.initialize(g)\n",
    "x_stan.head()"
   ]
  },
  {
   "cell_type": "markdown",
   "id": "38e00f79-17a5-4d4a-a6c2-95fb4b662e5a",
   "metadata": {},
   "source": [
    "### compare dimension and datasize"
   ]
  },
  {
   "cell_type": "code",
   "execution_count": 20,
   "id": "0f5046fd-6147-4684-afc7-811b4a3f8753",
   "metadata": {},
   "outputs": [
    {
     "name": "stdout",
     "output_type": "stream",
     "text": [
      "297\n"
     ]
    }
   ],
   "source": [
    "l3=len(g)\n",
    "print(l3)"
   ]
  },
  {
   "cell_type": "code",
   "execution_count": 21,
   "id": "156eabb2-4346-4eda-bc7c-15dfe422c9ef",
   "metadata": {},
   "outputs": [
    {
     "data": {
      "text/plain": [
       "20"
      ]
     },
     "execution_count": 21,
     "metadata": {},
     "output_type": "execute_result"
    }
   ],
   "source": [
    "len(g.columns)"
   ]
  },
  {
   "cell_type": "markdown",
   "id": "598854b3-56b5-4254-8886-ae643f83e4f5",
   "metadata": {},
   "source": [
    "n>>p"
   ]
  },
  {
   "cell_type": "markdown",
   "id": "930041cd-96f8-4f90-baa9-381d12a56fb1",
   "metadata": {},
   "source": [
    "### Finding the best alpha "
   ]
  },
  {
   "cell_type": "code",
   "execution_count": 22,
   "id": "ae356d70-a7c7-4260-ace8-09415af6154f",
   "metadata": {},
   "outputs": [
    {
     "data": {
      "image/png": "[encoded data removed]",
      "text/plain": [
       "<Figure size 432x288 with 1 Axes>"
      ]
     },
     "metadata": {
      "needs_background": "light"
     },
     "output_type": "display_data"
    }
   ],
   "source": [
    "tk.para_plot(10,g,50,200)"
   ]
  },
  {
   "cell_type": "code",
   "execution_count": 23,
   "id": "fec18145-a11d-49da-833d-fbf9af389524",
   "metadata": {},
   "outputs": [
    {
     "data": {
      "image/png": "[encoded data removed]",
      "text/plain": [
       "<Figure size 432x288 with 1 Axes>"
      ]
     },
     "metadata": {
      "needs_background": "light"
     },
     "output_type": "display_data"
    }
   ],
   "source": [
    "tk.para_plot(10,g,99,104)"
   ]
  },
  {
   "cell_type": "markdown",
   "id": "24414ab0-e667-46bd-9fa5-e5e65b8aa2b4",
   "metadata": {},
   "source": [
    "### Compute the MSE for Group3"
   ]
  },
  {
   "cell_type": "markdown",
   "id": "dfdb5942-5066-450f-aa57-415726f9c0d7",
   "metadata": {},
   "source": [
    "the best alpha is 100.5 for ridge_regression in Group3"
   ]
  },
  {
   "cell_type": "code",
   "execution_count": 24,
   "id": "59198966-83c3-4c0f-ae79-4ad79f0384d0",
   "metadata": {},
   "outputs": [
    {
     "name": "stdout",
     "output_type": "stream",
     "text": [
      "105.68316143255814\n"
     ]
    }
   ],
   "source": [
    "MSE_g3=tk.CV4Ridge_lr(g,100.5)\n",
    "print(MSE_g3)"
   ]
  },
  {
   "cell_type": "code",
   "execution_count": null,
   "id": "c8a94c5c-768a-481c-a4d0-29339093fb7d",
   "metadata": {},
   "outputs": [],
   "source": []
  },
  {
   "cell_type": "markdown",
   "id": "b5f63913-0d21-446f-b7a1-0bbca97fe04b",
   "metadata": {},
   "source": [
    "## Product Group 4"
   ]
  },
  {
   "cell_type": "markdown",
   "id": "97edad69-3cd3-48e7-8273-183647ec1ac7",
   "metadata": {},
   "source": [
    "### choose group4"
   ]
  },
  {
   "cell_type": "code",
   "execution_count": 25,
   "id": "a96e3685-e63b-4dcb-9e3a-2f9b592874b5",
   "metadata": {},
   "outputs": [
    {
     "data": {
      "text/html": [
       "<div>\n",
       "<style scoped>\n",
       "    .dataframe tbody tr th:only-of-type {\n",
       "        vertical-align: middle;\n",
       "    }\n",
       "\n",
       "    .dataframe tbody tr th {\n",
       "        vertical-align: top;\n",
       "    }\n",
       "\n",
       "    .dataframe thead th {\n",
       "        text-align: right;\n",
       "    }\n",
       "</style>\n",
       "<table border=\"1\" class=\"dataframe\">\n",
       "  <thead>\n",
       "    <tr style=\"text-align: right;\">\n",
       "      <th></th>\n",
       "      <th>productID</th>\n",
       "      <th>brandID</th>\n",
       "      <th>attribute1</th>\n",
       "      <th>attribute2</th>\n",
       "      <th>attribute3</th>\n",
       "      <th>attribute4</th>\n",
       "      <th>clickVolume</th>\n",
       "      <th>avgOriginalUnitPrice</th>\n",
       "      <th>avgFinalUnitPrice</th>\n",
       "      <th>ma14SalesVolume</th>\n",
       "      <th>weekday</th>\n",
       "      <th>meanAge</th>\n",
       "      <th>gender</th>\n",
       "      <th>meanEducation</th>\n",
       "      <th>maritalStatus</th>\n",
       "      <th>plus</th>\n",
       "      <th>meanPurchasePower</th>\n",
       "      <th>meanUserLevel</th>\n",
       "      <th>meanCityLevel</th>\n",
       "      <th>sales</th>\n",
       "    </tr>\n",
       "  </thead>\n",
       "  <tbody>\n",
       "    <tr>\n",
       "      <th>5</th>\n",
       "      <td>6</td>\n",
       "      <td>26</td>\n",
       "      <td>3</td>\n",
       "      <td>70</td>\n",
       "      <td>7</td>\n",
       "      <td>5.780666</td>\n",
       "      <td>883</td>\n",
       "      <td>134.18</td>\n",
       "      <td>107.478667</td>\n",
       "      <td>42.214286</td>\n",
       "      <td>5</td>\n",
       "      <td>32.000000</td>\n",
       "      <td>0.100000</td>\n",
       "      <td>2.90</td>\n",
       "      <td>0.200000</td>\n",
       "      <td>0.142857</td>\n",
       "      <td>2.100000</td>\n",
       "      <td>3.714286</td>\n",
       "      <td>2.111111</td>\n",
       "      <td>15</td>\n",
       "    </tr>\n",
       "    <tr>\n",
       "      <th>13</th>\n",
       "      <td>68</td>\n",
       "      <td>36</td>\n",
       "      <td>3</td>\n",
       "      <td>70</td>\n",
       "      <td>17</td>\n",
       "      <td>3.853880</td>\n",
       "      <td>1357</td>\n",
       "      <td>154.00</td>\n",
       "      <td>131.887500</td>\n",
       "      <td>5.714286</td>\n",
       "      <td>6</td>\n",
       "      <td>35.000000</td>\n",
       "      <td>0.000000</td>\n",
       "      <td>3.25</td>\n",
       "      <td>0.750000</td>\n",
       "      <td>0.250000</td>\n",
       "      <td>2.500000</td>\n",
       "      <td>6.625000</td>\n",
       "      <td>1.500000</td>\n",
       "      <td>8</td>\n",
       "    </tr>\n",
       "    <tr>\n",
       "      <th>15</th>\n",
       "      <td>99</td>\n",
       "      <td>31</td>\n",
       "      <td>3</td>\n",
       "      <td>70</td>\n",
       "      <td>7</td>\n",
       "      <td>5.800680</td>\n",
       "      <td>93</td>\n",
       "      <td>68.00</td>\n",
       "      <td>34.000000</td>\n",
       "      <td>4.428571</td>\n",
       "      <td>6</td>\n",
       "      <td>30.000000</td>\n",
       "      <td>0.000000</td>\n",
       "      <td>3.00</td>\n",
       "      <td>1.000000</td>\n",
       "      <td>0.000000</td>\n",
       "      <td>2.000000</td>\n",
       "      <td>3.000000</td>\n",
       "      <td>2.000000</td>\n",
       "      <td>1</td>\n",
       "    </tr>\n",
       "    <tr>\n",
       "      <th>18</th>\n",
       "      <td>99</td>\n",
       "      <td>31</td>\n",
       "      <td>3</td>\n",
       "      <td>70</td>\n",
       "      <td>1</td>\n",
       "      <td>35.525149</td>\n",
       "      <td>1235</td>\n",
       "      <td>68.00</td>\n",
       "      <td>36.440476</td>\n",
       "      <td>1.714286</td>\n",
       "      <td>3</td>\n",
       "      <td>36.258065</td>\n",
       "      <td>0.258065</td>\n",
       "      <td>3.20</td>\n",
       "      <td>0.551724</td>\n",
       "      <td>0.225806</td>\n",
       "      <td>2.310345</td>\n",
       "      <td>2.838710</td>\n",
       "      <td>2.407407</td>\n",
       "      <td>42</td>\n",
       "    </tr>\n",
       "    <tr>\n",
       "      <th>20</th>\n",
       "      <td>99</td>\n",
       "      <td>31</td>\n",
       "      <td>3</td>\n",
       "      <td>70</td>\n",
       "      <td>2</td>\n",
       "      <td>7.264119</td>\n",
       "      <td>461</td>\n",
       "      <td>68.00</td>\n",
       "      <td>45.666667</td>\n",
       "      <td>1.785714</td>\n",
       "      <td>2</td>\n",
       "      <td>30.000000</td>\n",
       "      <td>0.000000</td>\n",
       "      <td>3.00</td>\n",
       "      <td>1.000000</td>\n",
       "      <td>0.000000</td>\n",
       "      <td>2.333333</td>\n",
       "      <td>2.333333</td>\n",
       "      <td>2.500000</td>\n",
       "      <td>3</td>\n",
       "    </tr>\n",
       "  </tbody>\n",
       "</table>\n",
       "</div>"
      ],
      "text/plain": [
       "    productID  brandID  attribute1  attribute2  attribute3  attribute4  \\\n",
       "5           6       26           3          70           7    5.780666   \n",
       "13         68       36           3          70          17    3.853880   \n",
       "15         99       31           3          70           7    5.800680   \n",
       "18         99       31           3          70           1   35.525149   \n",
       "20         99       31           3          70           2    7.264119   \n",
       "\n",
       "    clickVolume  avgOriginalUnitPrice  avgFinalUnitPrice  ma14SalesVolume  \\\n",
       "5           883                134.18         107.478667        42.214286   \n",
       "13         1357                154.00         131.887500         5.714286   \n",
       "15           93                 68.00          34.000000         4.428571   \n",
       "18         1235                 68.00          36.440476         1.714286   \n",
       "20          461                 68.00          45.666667         1.785714   \n",
       "\n",
       "    weekday    meanAge    gender  meanEducation  maritalStatus      plus  \\\n",
       "5         5  32.000000  0.100000           2.90       0.200000  0.142857   \n",
       "13        6  35.000000  0.000000           3.25       0.750000  0.250000   \n",
       "15        6  30.000000  0.000000           3.00       1.000000  0.000000   \n",
       "18        3  36.258065  0.258065           3.20       0.551724  0.225806   \n",
       "20        2  30.000000  0.000000           3.00       1.000000  0.000000   \n",
       "\n",
       "    meanPurchasePower  meanUserLevel  meanCityLevel  sales  \n",
       "5            2.100000       3.714286       2.111111     15  \n",
       "13           2.500000       6.625000       1.500000      8  \n",
       "15           2.000000       3.000000       2.000000      1  \n",
       "18           2.310345       2.838710       2.407407     42  \n",
       "20           2.333333       2.333333       2.500000      3  "
      ]
     },
     "execution_count": 25,
     "metadata": {},
     "output_type": "execute_result"
    }
   ],
   "source": [
    "g=df[df['Labels_5'] ==4]\n",
    "g=g.drop('Labels_5',axis=1)\n",
    "g.head()"
   ]
  },
  {
   "cell_type": "markdown",
   "id": "b62c75f2-e8db-4c27-b513-7e722eec2f08",
   "metadata": {},
   "source": [
    "### initilize the data"
   ]
  },
  {
   "cell_type": "code",
   "execution_count": 26,
   "id": "7ccb7789-9c77-47f9-86cc-f872839e9479",
   "metadata": {},
   "outputs": [
    {
     "data": {
      "text/html": [
       "<div>\n",
       "<style scoped>\n",
       "    .dataframe tbody tr th:only-of-type {\n",
       "        vertical-align: middle;\n",
       "    }\n",
       "\n",
       "    .dataframe tbody tr th {\n",
       "        vertical-align: top;\n",
       "    }\n",
       "\n",
       "    .dataframe thead th {\n",
       "        text-align: right;\n",
       "    }\n",
       "</style>\n",
       "<table border=\"1\" class=\"dataframe\">\n",
       "  <thead>\n",
       "    <tr style=\"text-align: right;\">\n",
       "      <th></th>\n",
       "      <th>productID</th>\n",
       "      <th>attribute1</th>\n",
       "      <th>attribute2</th>\n",
       "      <th>attribute3</th>\n",
       "      <th>attribute4</th>\n",
       "      <th>clickVolume</th>\n",
       "      <th>avgOriginalUnitPrice</th>\n",
       "      <th>avgFinalUnitPrice</th>\n",
       "      <th>ma14SalesVolume</th>\n",
       "      <th>meanAge</th>\n",
       "      <th>...</th>\n",
       "      <th>brandID_27</th>\n",
       "      <th>brandID_31</th>\n",
       "      <th>brandID_32</th>\n",
       "      <th>brandID_36</th>\n",
       "      <th>weekday_2</th>\n",
       "      <th>weekday_3</th>\n",
       "      <th>weekday_4</th>\n",
       "      <th>weekday_5</th>\n",
       "      <th>weekday_6</th>\n",
       "      <th>weekday_7</th>\n",
       "    </tr>\n",
       "  </thead>\n",
       "  <tbody>\n",
       "    <tr>\n",
       "      <th>0</th>\n",
       "      <td>0.218029</td>\n",
       "      <td>9.224266</td>\n",
       "      <td>14.46653</td>\n",
       "      <td>1.567270</td>\n",
       "      <td>0.331763</td>\n",
       "      <td>1.005894</td>\n",
       "      <td>2.926644</td>\n",
       "      <td>2.495542</td>\n",
       "      <td>1.664891</td>\n",
       "      <td>7.293238</td>\n",
       "      <td>...</td>\n",
       "      <td>0.0</td>\n",
       "      <td>0.000000</td>\n",
       "      <td>0.0</td>\n",
       "      <td>0.000000</td>\n",
       "      <td>0.000000</td>\n",
       "      <td>0.000000</td>\n",
       "      <td>0.0</td>\n",
       "      <td>2.687392</td>\n",
       "      <td>0.000000</td>\n",
       "      <td>0.0</td>\n",
       "    </tr>\n",
       "    <tr>\n",
       "      <th>1</th>\n",
       "      <td>2.470992</td>\n",
       "      <td>9.224266</td>\n",
       "      <td>14.46653</td>\n",
       "      <td>3.806226</td>\n",
       "      <td>0.221181</td>\n",
       "      <td>1.545864</td>\n",
       "      <td>3.358945</td>\n",
       "      <td>3.062289</td>\n",
       "      <td>0.225366</td>\n",
       "      <td>7.976979</td>\n",
       "      <td>...</td>\n",
       "      <td>0.0</td>\n",
       "      <td>0.000000</td>\n",
       "      <td>0.0</td>\n",
       "      <td>3.903606</td>\n",
       "      <td>0.000000</td>\n",
       "      <td>0.000000</td>\n",
       "      <td>0.0</td>\n",
       "      <td>0.000000</td>\n",
       "      <td>2.687392</td>\n",
       "      <td>0.0</td>\n",
       "    </tr>\n",
       "    <tr>\n",
       "      <th>2</th>\n",
       "      <td>3.597473</td>\n",
       "      <td>9.224266</td>\n",
       "      <td>14.46653</td>\n",
       "      <td>1.567270</td>\n",
       "      <td>0.332912</td>\n",
       "      <td>0.105944</td>\n",
       "      <td>1.483170</td>\n",
       "      <td>0.789444</td>\n",
       "      <td>0.174659</td>\n",
       "      <td>6.837410</td>\n",
       "      <td>...</td>\n",
       "      <td>0.0</td>\n",
       "      <td>2.904663</td>\n",
       "      <td>0.0</td>\n",
       "      <td>0.000000</td>\n",
       "      <td>0.000000</td>\n",
       "      <td>0.000000</td>\n",
       "      <td>0.0</td>\n",
       "      <td>0.000000</td>\n",
       "      <td>2.687392</td>\n",
       "      <td>0.0</td>\n",
       "    </tr>\n",
       "    <tr>\n",
       "      <th>3</th>\n",
       "      <td>3.597473</td>\n",
       "      <td>9.224266</td>\n",
       "      <td>14.46653</td>\n",
       "      <td>0.223896</td>\n",
       "      <td>2.038853</td>\n",
       "      <td>1.406884</td>\n",
       "      <td>1.483170</td>\n",
       "      <td>0.846110</td>\n",
       "      <td>0.067610</td>\n",
       "      <td>8.263709</td>\n",
       "      <td>...</td>\n",
       "      <td>0.0</td>\n",
       "      <td>2.904663</td>\n",
       "      <td>0.0</td>\n",
       "      <td>0.000000</td>\n",
       "      <td>0.000000</td>\n",
       "      <td>2.939371</td>\n",
       "      <td>0.0</td>\n",
       "      <td>0.000000</td>\n",
       "      <td>0.000000</td>\n",
       "      <td>0.0</td>\n",
       "    </tr>\n",
       "    <tr>\n",
       "      <th>4</th>\n",
       "      <td>3.597473</td>\n",
       "      <td>9.224266</td>\n",
       "      <td>14.46653</td>\n",
       "      <td>0.447791</td>\n",
       "      <td>0.416901</td>\n",
       "      <td>0.525161</td>\n",
       "      <td>1.483170</td>\n",
       "      <td>1.060332</td>\n",
       "      <td>0.070427</td>\n",
       "      <td>6.837410</td>\n",
       "      <td>...</td>\n",
       "      <td>0.0</td>\n",
       "      <td>2.904663</td>\n",
       "      <td>0.0</td>\n",
       "      <td>0.000000</td>\n",
       "      <td>2.887896</td>\n",
       "      <td>0.000000</td>\n",
       "      <td>0.0</td>\n",
       "      <td>0.000000</td>\n",
       "      <td>0.000000</td>\n",
       "      <td>0.0</td>\n",
       "    </tr>\n",
       "  </tbody>\n",
       "</table>\n",
       "<p>5 rows × 31 columns</p>\n",
       "</div>"
      ],
      "text/plain": [
       "   productID  attribute1  attribute2  attribute3  attribute4  clickVolume  \\\n",
       "0   0.218029    9.224266    14.46653    1.567270    0.331763     1.005894   \n",
       "1   2.470992    9.224266    14.46653    3.806226    0.221181     1.545864   \n",
       "2   3.597473    9.224266    14.46653    1.567270    0.332912     0.105944   \n",
       "3   3.597473    9.224266    14.46653    0.223896    2.038853     1.406884   \n",
       "4   3.597473    9.224266    14.46653    0.447791    0.416901     0.525161   \n",
       "\n",
       "   avgOriginalUnitPrice  avgFinalUnitPrice  ma14SalesVolume   meanAge  ...  \\\n",
       "0              2.926644           2.495542         1.664891  7.293238  ...   \n",
       "1              3.358945           3.062289         0.225366  7.976979  ...   \n",
       "2              1.483170           0.789444         0.174659  6.837410  ...   \n",
       "3              1.483170           0.846110         0.067610  8.263709  ...   \n",
       "4              1.483170           1.060332         0.070427  6.837410  ...   \n",
       "\n",
       "   brandID_27  brandID_31  brandID_32  brandID_36  weekday_2  weekday_3  \\\n",
       "0         0.0    0.000000         0.0    0.000000   0.000000   0.000000   \n",
       "1         0.0    0.000000         0.0    3.903606   0.000000   0.000000   \n",
       "2         0.0    2.904663         0.0    0.000000   0.000000   0.000000   \n",
       "3         0.0    2.904663         0.0    0.000000   0.000000   2.939371   \n",
       "4         0.0    2.904663         0.0    0.000000   2.887896   0.000000   \n",
       "\n",
       "   weekday_4  weekday_5  weekday_6  weekday_7  \n",
       "0        0.0   2.687392   0.000000        0.0  \n",
       "1        0.0   0.000000   2.687392        0.0  \n",
       "2        0.0   0.000000   2.687392        0.0  \n",
       "3        0.0   0.000000   0.000000        0.0  \n",
       "4        0.0   0.000000   0.000000        0.0  \n",
       "\n",
       "[5 rows x 31 columns]"
      ]
     },
     "execution_count": 26,
     "metadata": {},
     "output_type": "execute_result"
    }
   ],
   "source": [
    "x_stan,y =tk.initialize(g)\n",
    "x_stan.head()"
   ]
  },
  {
   "cell_type": "markdown",
   "id": "7466b3c5-fe9d-4805-8482-328136b0e61d",
   "metadata": {},
   "source": [
    "### compare dimension and datasize"
   ]
  },
  {
   "cell_type": "code",
   "execution_count": 27,
   "id": "7fb55c73-d427-4ec5-aedc-6acfc1842129",
   "metadata": {},
   "outputs": [
    {
     "name": "stdout",
     "output_type": "stream",
     "text": [
      "613\n"
     ]
    }
   ],
   "source": [
    "l4=len(g)\n",
    "print(l2)"
   ]
  },
  {
   "cell_type": "code",
   "execution_count": 28,
   "id": "06272a21-278a-449f-b374-a5045f93841c",
   "metadata": {},
   "outputs": [
    {
     "data": {
      "text/plain": [
       "20"
      ]
     },
     "execution_count": 28,
     "metadata": {},
     "output_type": "execute_result"
    }
   ],
   "source": [
    "len(g.columns)"
   ]
  },
  {
   "cell_type": "markdown",
   "id": "4cc28565-880e-4140-9d82-6fd3e5487fcd",
   "metadata": {},
   "source": [
    "n>>p"
   ]
  },
  {
   "cell_type": "markdown",
   "id": "b3ab696f-c560-42b1-9a22-cb938fb3b4f5",
   "metadata": {},
   "source": [
    "### Finding the best alpha "
   ]
  },
  {
   "cell_type": "code",
   "execution_count": 29,
   "id": "51aa7dfe-1be5-4f10-ae92-5e72eb73634a",
   "metadata": {},
   "outputs": [
    {
     "data": {
      "image/png": "[encoded data removed]",
      "text/plain": [
       "<Figure size 432x288 with 1 Axes>"
      ]
     },
     "metadata": {
      "needs_background": "light"
     },
     "output_type": "display_data"
    }
   ],
   "source": [
    "tk.para_plot(10,g,0.1,1)"
   ]
  },
  {
   "cell_type": "code",
   "execution_count": 30,
   "id": "64358f17-e67c-4383-af73-e7ef5b52d852",
   "metadata": {},
   "outputs": [
    {
     "data": {
      "image/png": "[encoded data removed]",
      "text/plain": [
       "<Figure size 432x288 with 1 Axes>"
      ]
     },
     "metadata": {
      "needs_background": "light"
     },
     "output_type": "display_data"
    }
   ],
   "source": [
    "tk.para_plot(10,g,1,10)"
   ]
  },
  {
   "cell_type": "markdown",
   "id": "8faaf5b2-e2c1-4d00-835e-96e54532a6d0",
   "metadata": {},
   "source": [
    "### Compute the MSE for Group4"
   ]
  },
  {
   "cell_type": "markdown",
   "id": "b5e3caed-a231-4dbd-841c-bfb42a880621",
   "metadata": {},
   "source": [
    "the best alpha is // for ridge_regression in Group4"
   ]
  },
  {
   "cell_type": "code",
   "execution_count": 31,
   "id": "8eb2dbbb-5af9-4abe-a09b-cb64f01b7aa3",
   "metadata": {},
   "outputs": [
    {
     "name": "stdout",
     "output_type": "stream",
     "text": [
      "918.0680163166289\n"
     ]
    }
   ],
   "source": [
    "MSE_g4=tk.CV4Ridge_lr(g,1)\n",
    "print(MSE_g4)"
   ]
  },
  {
   "cell_type": "markdown",
   "id": "56743666-926d-4696-be13-4409f05acdc8",
   "metadata": {},
   "source": [
    "# The weighted MSE:"
   ]
  },
  {
   "cell_type": "code",
   "execution_count": 32,
   "id": "3540d6d6-c3a8-44b7-8d3f-fdcab31cf07d",
   "metadata": {
    "tags": []
   },
   "outputs": [],
   "source": [
    "Weighted_MSE=(MSE_g1*l1+MSE_g2*l2+MSE_g3*l3+MSE_g4*l4)/(l1+l2+l3+l4)"
   ]
  },
  {
   "cell_type": "code",
   "execution_count": 33,
   "id": "a8ba057d-2383-4cde-b6d0-61b6b75997e1",
   "metadata": {},
   "outputs": [
    {
     "data": {
      "text/plain": [
       "379.34893703434636"
      ]
     },
     "execution_count": 33,
     "metadata": {},
     "output_type": "execute_result"
    }
   ],
   "source": [
    "Weighted_MSE"
   ]
  }
 ],
 "metadata": {
  "kernelspec": {
   "display_name": "Python 3",
   "language": "python",
   "name": "python3"
  },
  "language_info": {
   "codemirror_mode": {
    "name": "ipython",
    "version": 3
   },
   "file_extension": ".py",
   "mimetype": "text/x-python",
   "name": "python",
   "nbconvert_exporter": "python",
   "pygments_lexer": "ipython3",
   "version": "3.8.8"
  }
 },
 "nbformat": 4,
 "nbformat_minor": 5
}

{
 "cells": [
  {
   "cell_type": "code",
   "execution_count": 3,
   "id": "5644fd39-718f-4450-bf71-3e5b47df605d",
   "metadata": {},
   "outputs": [
    {
     "name": "stdout",
     "output_type": "stream",
     "text": [
      "The autoreload extension is already loaded. To reload it, use:\n",
      "  %reload_ext autoreload\n"
     ]
    }
   ],
   "source": [
    "%load_ext autoreload\n",
    "%autoreload 2\n",
    "import pandas as pd\n",
    "import numpy as np\n",
    "import toolkit4211 as tk"
   ]
  },
  {
   "cell_type": "code",
   "execution_count": null,
   "id": "0987ab0a-e7ab-4e8b-a2a8-37bfb8ed234e",
   "metadata": {},
   "outputs": [],
   "source": []
  },
  {
   "cell_type": "markdown",
   "id": "5724ecda-2997-4374-a62c-3485c551c6f6",
   "metadata": {},
   "source": [
    "### import data"
   ]
  },
  {
   "cell_type": "code",
   "execution_count": 4,
   "id": "6dbda6fc-025e-4428-8b7b-001dcccc8f03",
   "metadata": {},
   "outputs": [],
   "source": [
    "df=pd.read_csv('data-train345.csv')"
   ]
  },
  {
   "cell_type": "markdown",
   "id": "d8e857e7-ca28-4cca-9375-79958f8386d0",
   "metadata": {},
   "source": [
    "### choose to have no group"
   ]
  },
  {
   "cell_type": "code",
   "execution_count": 5,
   "id": "8e99dcfc-d947-4969-a28d-e81a27dbfdb2",
   "metadata": {},
   "outputs": [
    {
     "data": {
      "text/plain": [
       "Index(['productID', 'brandID', 'attribute1', 'attribute2', 'attribute3',\n",
       "       'attribute4', 'clickVolume', 'avgOriginalUnitPrice',\n",
       "       'avgFinalUnitPrice', 'ma14SalesVolume', 'weekday', 'meanAge', 'gender',\n",
       "       'meanEducation', 'maritalStatus', 'plus', 'meanPurchasePower',\n",
       "       'meanUserLevel', 'meanCityLevel', 'sales'],\n",
       "      dtype='object')"
      ]
     },
     "execution_count": 5,
     "metadata": {},
     "output_type": "execute_result"
    }
   ],
   "source": [
    "df=df.drop('Labels_3',axis=1)\n",
    "df=df.drop('Labels_4',axis=1)\n",
    "df=df.drop('Labels_5',axis=1)\n",
    "df.columns"
   ]
  },
  {
   "cell_type": "code",
   "execution_count": null,
   "id": "54219781-5fd0-489e-b247-0f943c6b9cbd",
   "metadata": {},
   "outputs": [],
   "source": []
  },
  {
   "cell_type": "markdown",
   "id": "769fe03c-52bf-4dd7-b0f9-3afc829a98aa",
   "metadata": {},
   "source": [
    "### initilize the data"
   ]
  },
  {
   "cell_type": "code",
   "execution_count": 7,
   "id": "33baea24-a5f6-45f1-88d5-4e98f85261fb",
   "metadata": {},
   "outputs": [
    {
     "data": {
      "text/html": [
       "<div>\n",
       "<style scoped>\n",
       "    .dataframe tbody tr th:only-of-type {\n",
       "        vertical-align: middle;\n",
       "    }\n",
       "\n",
       "    .dataframe tbody tr th {\n",
       "        vertical-align: top;\n",
       "    }\n",
       "\n",
       "    .dataframe thead th {\n",
       "        text-align: right;\n",
       "    }\n",
       "</style>\n",
       "<table border=\"1\" class=\"dataframe\">\n",
       "  <thead>\n",
       "    <tr style=\"text-align: right;\">\n",
       "      <th></th>\n",
       "      <th>productID</th>\n",
       "      <th>attribute1</th>\n",
       "      <th>attribute2</th>\n",
       "      <th>attribute3</th>\n",
       "      <th>attribute4</th>\n",
       "      <th>clickVolume</th>\n",
       "      <th>avgOriginalUnitPrice</th>\n",
       "      <th>avgFinalUnitPrice</th>\n",
       "      <th>ma14SalesVolume</th>\n",
       "      <th>meanAge</th>\n",
       "      <th>...</th>\n",
       "      <th>brandID_31</th>\n",
       "      <th>brandID_32</th>\n",
       "      <th>brandID_35</th>\n",
       "      <th>brandID_36</th>\n",
       "      <th>weekday_2</th>\n",
       "      <th>weekday_3</th>\n",
       "      <th>weekday_4</th>\n",
       "      <th>weekday_5</th>\n",
       "      <th>weekday_6</th>\n",
       "      <th>weekday_7</th>\n",
       "    </tr>\n",
       "  </thead>\n",
       "  <tbody>\n",
       "    <tr>\n",
       "      <th>0</th>\n",
       "      <td>0.951497</td>\n",
       "      <td>4.854051</td>\n",
       "      <td>5.053211</td>\n",
       "      <td>1.082883</td>\n",
       "      <td>0.114370</td>\n",
       "      <td>0.695162</td>\n",
       "      <td>0.800430</td>\n",
       "      <td>0.932833</td>\n",
       "      <td>1.151351</td>\n",
       "      <td>6.956173</td>\n",
       "      <td>...</td>\n",
       "      <td>0.0</td>\n",
       "      <td>0.0</td>\n",
       "      <td>0.000000</td>\n",
       "      <td>0.0</td>\n",
       "      <td>0.000000</td>\n",
       "      <td>2.939862</td>\n",
       "      <td>0.0</td>\n",
       "      <td>0.000000</td>\n",
       "      <td>0.00000</td>\n",
       "      <td>0.0</td>\n",
       "    </tr>\n",
       "    <tr>\n",
       "      <th>1</th>\n",
       "      <td>2.480688</td>\n",
       "      <td>3.236034</td>\n",
       "      <td>2.021284</td>\n",
       "      <td>0.649730</td>\n",
       "      <td>0.081066</td>\n",
       "      <td>1.129522</td>\n",
       "      <td>4.473197</td>\n",
       "      <td>2.534622</td>\n",
       "      <td>0.403807</td>\n",
       "      <td>6.628824</td>\n",
       "      <td>...</td>\n",
       "      <td>0.0</td>\n",
       "      <td>0.0</td>\n",
       "      <td>0.000000</td>\n",
       "      <td>0.0</td>\n",
       "      <td>0.000000</td>\n",
       "      <td>0.000000</td>\n",
       "      <td>0.0</td>\n",
       "      <td>2.679582</td>\n",
       "      <td>0.00000</td>\n",
       "      <td>0.0</td>\n",
       "    </tr>\n",
       "    <tr>\n",
       "      <th>2</th>\n",
       "      <td>2.378742</td>\n",
       "      <td>4.854051</td>\n",
       "      <td>5.053211</td>\n",
       "      <td>0.216577</td>\n",
       "      <td>0.148612</td>\n",
       "      <td>3.411768</td>\n",
       "      <td>1.427616</td>\n",
       "      <td>1.124063</td>\n",
       "      <td>1.518448</td>\n",
       "      <td>7.076883</td>\n",
       "      <td>...</td>\n",
       "      <td>0.0</td>\n",
       "      <td>0.0</td>\n",
       "      <td>0.000000</td>\n",
       "      <td>0.0</td>\n",
       "      <td>2.972749</td>\n",
       "      <td>0.000000</td>\n",
       "      <td>0.0</td>\n",
       "      <td>0.000000</td>\n",
       "      <td>0.00000</td>\n",
       "      <td>0.0</td>\n",
       "    </tr>\n",
       "    <tr>\n",
       "      <th>3</th>\n",
       "      <td>2.344760</td>\n",
       "      <td>4.854051</td>\n",
       "      <td>5.053211</td>\n",
       "      <td>0.433153</td>\n",
       "      <td>0.154329</td>\n",
       "      <td>2.492001</td>\n",
       "      <td>3.351264</td>\n",
       "      <td>3.546610</td>\n",
       "      <td>2.042397</td>\n",
       "      <td>7.106099</td>\n",
       "      <td>...</td>\n",
       "      <td>0.0</td>\n",
       "      <td>0.0</td>\n",
       "      <td>4.166672</td>\n",
       "      <td>0.0</td>\n",
       "      <td>0.000000</td>\n",
       "      <td>0.000000</td>\n",
       "      <td>0.0</td>\n",
       "      <td>2.679582</td>\n",
       "      <td>0.00000</td>\n",
       "      <td>0.0</td>\n",
       "    </tr>\n",
       "    <tr>\n",
       "      <th>4</th>\n",
       "      <td>2.344760</td>\n",
       "      <td>4.854051</td>\n",
       "      <td>5.053211</td>\n",
       "      <td>1.516037</td>\n",
       "      <td>0.344624</td>\n",
       "      <td>0.721149</td>\n",
       "      <td>3.399086</td>\n",
       "      <td>4.172007</td>\n",
       "      <td>2.009024</td>\n",
       "      <td>5.892288</td>\n",
       "      <td>...</td>\n",
       "      <td>0.0</td>\n",
       "      <td>0.0</td>\n",
       "      <td>4.166672</td>\n",
       "      <td>0.0</td>\n",
       "      <td>0.000000</td>\n",
       "      <td>0.000000</td>\n",
       "      <td>0.0</td>\n",
       "      <td>0.000000</td>\n",
       "      <td>2.70787</td>\n",
       "      <td>0.0</td>\n",
       "    </tr>\n",
       "  </tbody>\n",
       "</table>\n",
       "<p>5 rows × 52 columns</p>\n",
       "</div>"
      ],
      "text/plain": [
       "   productID  attribute1  attribute2  attribute3  attribute4  clickVolume  \\\n",
       "0   0.951497    4.854051    5.053211    1.082883    0.114370     0.695162   \n",
       "1   2.480688    3.236034    2.021284    0.649730    0.081066     1.129522   \n",
       "2   2.378742    4.854051    5.053211    0.216577    0.148612     3.411768   \n",
       "3   2.344760    4.854051    5.053211    0.433153    0.154329     2.492001   \n",
       "4   2.344760    4.854051    5.053211    1.516037    0.344624     0.721149   \n",
       "\n",
       "   avgOriginalUnitPrice  avgFinalUnitPrice  ma14SalesVolume   meanAge  ...  \\\n",
       "0              0.800430           0.932833         1.151351  6.956173  ...   \n",
       "1              4.473197           2.534622         0.403807  6.628824  ...   \n",
       "2              1.427616           1.124063         1.518448  7.076883  ...   \n",
       "3              3.351264           3.546610         2.042397  7.106099  ...   \n",
       "4              3.399086           4.172007         2.009024  5.892288  ...   \n",
       "\n",
       "   brandID_31  brandID_32  brandID_35  brandID_36  weekday_2  weekday_3  \\\n",
       "0         0.0         0.0    0.000000         0.0   0.000000   2.939862   \n",
       "1         0.0         0.0    0.000000         0.0   0.000000   0.000000   \n",
       "2         0.0         0.0    0.000000         0.0   2.972749   0.000000   \n",
       "3         0.0         0.0    4.166672         0.0   0.000000   0.000000   \n",
       "4         0.0         0.0    4.166672         0.0   0.000000   0.000000   \n",
       "\n",
       "   weekday_4  weekday_5  weekday_6  weekday_7  \n",
       "0        0.0   0.000000    0.00000        0.0  \n",
       "1        0.0   2.679582    0.00000        0.0  \n",
       "2        0.0   0.000000    0.00000        0.0  \n",
       "3        0.0   2.679582    0.00000        0.0  \n",
       "4        0.0   0.000000    2.70787        0.0  \n",
       "\n",
       "[5 rows x 52 columns]"
      ]
     },
     "execution_count": 7,
     "metadata": {},
     "output_type": "execute_result"
    }
   ],
   "source": [
    "g=df\n",
    "x_stan,y =tk.initialize(g)\n",
    "x_stan.head()"
   ]
  },
  {
   "cell_type": "markdown",
   "id": "5ee102bc-c6fd-4ec3-9d38-de1a9063e4ce",
   "metadata": {},
   "source": [
    "### compare dimension and datasize"
   ]
  },
  {
   "cell_type": "code",
   "execution_count": 8,
   "id": "2bd6ed30-dcaa-4472-9c62-73db6cc555d2",
   "metadata": {},
   "outputs": [
    {
     "name": "stdout",
     "output_type": "stream",
     "text": [
      "2314\n"
     ]
    }
   ],
   "source": [
    "l1=len(g)\n",
    "print(l1)"
   ]
  },
  {
   "cell_type": "code",
   "execution_count": 9,
   "id": "4420c136-5c48-4a45-b737-0e916a11e598",
   "metadata": {},
   "outputs": [
    {
     "data": {
      "text/plain": [
       "20"
      ]
     },
     "execution_count": 9,
     "metadata": {},
     "output_type": "execute_result"
    }
   ],
   "source": [
    "len(g.columns)"
   ]
  },
  {
   "cell_type": "markdown",
   "id": "ee784628-087f-4ed8-b7e4-d9a29943bebd",
   "metadata": {},
   "source": [
    "n>>p"
   ]
  },
  {
   "cell_type": "markdown",
   "id": "e1e5e862-9ff2-4680-83c6-326c72b3b904",
   "metadata": {},
   "source": [
    "### least square linear regression function"
   ]
  },
  {
   "cell_type": "code",
   "execution_count": 10,
   "id": "cbb835e9-44f6-462c-adc1-230873c5f359",
   "metadata": {},
   "outputs": [
    {
     "name": "stdout",
     "output_type": "stream",
     "text": [
      "                            OLS Regression Results                            \n",
      "==============================================================================\n",
      "Dep. Variable:                  sales   R-squared:                       0.544\n",
      "Model:                            OLS   Adj. R-squared:                  0.533\n",
      "Method:                 Least Squares   F-statistic:                     51.85\n",
      "Date:                Mon, 13 Dec 2021   Prob (F-statistic):               0.00\n",
      "Time:                        15:28:08   Log-Likelihood:                -10899.\n",
      "No. Observations:                2314   AIC:                         2.190e+04\n",
      "Df Residuals:                    2261   BIC:                         2.221e+04\n",
      "Df Model:                          52                                         \n",
      "Covariance Type:            nonrobust                                         \n",
      "========================================================================================\n",
      "                           coef    std err          t      P>|t|      [0.025      0.975]\n",
      "----------------------------------------------------------------------------------------\n",
      "Intercept                0.7589     12.232      0.062      0.951     -23.229      24.747\n",
      "productID               -0.4410      0.731     -0.604      0.546      -1.874       0.992\n",
      "attribute1              -0.6741      1.052     -0.641      0.522      -2.736       1.388\n",
      "attribute2               2.1788      0.930      2.343      0.019       0.355       4.003\n",
      "attribute3              -0.8516      0.570     -1.493      0.136      -1.970       0.267\n",
      "attribute4              -0.2909      0.571     -0.509      0.611      -1.411       0.829\n",
      "clickVolume             23.2014      0.662     35.054      0.000      21.903      24.499\n",
      "avgOriginalUnitPrice     9.9370      2.629      3.780      0.000       4.782      15.092\n",
      "avgFinalUnitPrice      -17.4679      2.463     -7.091      0.000     -22.298     -12.638\n",
      "ma14SalesVolume          3.1074      0.706      4.399      0.000       1.722       4.493\n",
      "meanAge                  0.0033      0.680      0.005      0.996      -1.329       1.336\n",
      "gender                  -0.1106      0.633     -0.175      0.861      -1.353       1.131\n",
      "meanEducation            0.7995      0.739      1.082      0.279      -0.650       2.249\n",
      "maritalStatus           -0.0109      0.670     -0.016      0.987      -1.325       1.304\n",
      "plus                     0.0079      0.670      0.012      0.991      -1.306       1.321\n",
      "meanPurchasePower        0.2815      0.614      0.458      0.647      -0.923       1.486\n",
      "meanUserLevel           -0.1483      0.696     -0.213      0.831      -1.513       1.217\n",
      "meanCityLevel           -0.5467      0.621     -0.880      0.379      -1.764       0.671\n",
      "brandID_3               -1.1513      0.657     -1.753      0.080      -2.439       0.137\n",
      "brandID_4                0.1068      0.768      0.139      0.889      -1.400       1.613\n",
      "brandID_7                3.0628      0.946      3.237      0.001       1.207       4.918\n",
      "brandID_8               -0.5032      0.661     -0.761      0.446      -1.799       0.793\n",
      "brandID_9                2.0136      0.769      2.620      0.009       0.506       3.521\n",
      "brandID_10              -0.8185      0.796     -1.029      0.304      -2.379       0.742\n",
      "brandID_11               5.4039      0.642      8.421      0.000       4.146       6.662\n",
      "brandID_12              -0.3146      0.718     -0.438      0.661      -1.722       1.093\n",
      "brandID_13              -0.7660      0.628     -1.221      0.222      -1.997       0.465\n",
      "brandID_14              -0.8658      0.633     -1.367      0.172      -2.107       0.376\n",
      "brandID_15              -0.6456      0.683     -0.946      0.344      -1.984       0.693\n",
      "brandID_16               0.1016      0.614      0.166      0.869      -1.102       1.306\n",
      "brandID_17              -0.8546      0.643     -1.329      0.184      -2.115       0.406\n",
      "brandID_18               0.8475      0.847      1.000      0.317      -0.814       2.509\n",
      "brandID_19               0.0011      0.627      0.002      0.999      -1.229       1.231\n",
      "brandID_20               1.6750      0.814      2.058      0.040       0.079       3.271\n",
      "brandID_21               2.8280      0.576      4.909      0.000       1.698       3.958\n",
      "brandID_22               1.1437      0.725      1.578      0.115      -0.277       2.565\n",
      "brandID_23               1.9798      0.920      2.153      0.031       0.176       3.783\n",
      "brandID_24               0.0683      0.619      0.110      0.912      -1.145       1.282\n",
      "brandID_25               1.2600      1.123      1.122      0.262      -0.943       3.463\n",
      "brandID_26               0.1008      0.915      0.110      0.912      -1.693       1.894\n",
      "brandID_27               1.7179      0.834      2.060      0.040       0.082       3.353\n",
      "brandID_28              -3.1052      0.995     -3.121      0.002      -5.056      -1.154\n",
      "brandID_30              -2.5962      0.971     -2.673      0.008      -4.501      -0.692\n",
      "brandID_31               0.4456      0.678      0.657      0.511      -0.884       1.775\n",
      "brandID_32              -0.2051      0.708     -0.290      0.772      -1.593       1.183\n",
      "brandID_35               0.5310      1.171      0.453      0.650      -1.766       2.828\n",
      "brandID_36              -3.3883      0.976     -3.473      0.001      -5.302      -1.475\n",
      "weekday_2               -0.2587      0.746     -0.347      0.729      -1.722       1.204\n",
      "weekday_3               -0.2330      0.750     -0.311      0.756      -1.704       1.238\n",
      "weekday_4                3.2951      0.774      4.256      0.000       1.777       4.813\n",
      "weekday_5                1.2535      0.782      1.603      0.109      -0.280       2.787\n",
      "weekday_6               -0.4050      0.777     -0.521      0.602      -1.930       1.119\n",
      "weekday_7                0.3946      0.734      0.537      0.591      -1.045       1.834\n",
      "==============================================================================\n",
      "Omnibus:                     1849.259   Durbin-Watson:                   1.978\n",
      "Prob(Omnibus):                  0.000   Jarque-Bera (JB):          1477624.315\n",
      "Skew:                           2.504   Prob(JB):                         0.00\n",
      "Kurtosis:                     126.695   Cond. No.                         404.\n",
      "==============================================================================\n",
      "\n",
      "Notes:\n",
      "[1] Standard Errors assume that the covariance matrix of the errors is correctly specified.\n"
     ]
    }
   ],
   "source": [
    "tk.LeastSq_lr(g)"
   ]
  },
  {
   "cell_type": "markdown",
   "id": "a16cfa46-1ecc-4a53-97c5-8993c8268ed2",
   "metadata": {},
   "source": [
    "### Cross Validation"
   ]
  },
  {
   "cell_type": "code",
   "execution_count": 11,
   "id": "bade555e-d62c-40ff-ad95-e0f08fdce898",
   "metadata": {
    "tags": []
   },
   "outputs": [
    {
     "name": "stdout",
     "output_type": "stream",
     "text": [
      "1122.3833605864088\n"
     ]
    }
   ],
   "source": [
    "MSE_g1=tk.CV4LeastSq_lr(g)\n",
    "print(MSE_g1)"
   ]
  },
  {
   "cell_type": "code",
   "execution_count": null,
   "id": "28530180-53b4-4c1f-89ca-1f74693d25c6",
   "metadata": {},
   "outputs": [],
   "source": []
  }
 ],
 "metadata": {
  "kernelspec": {
   "display_name": "Python 3",
   "language": "python",
   "name": "python3"
  },
  "language_info": {
   "codemirror_mode": {
    "name": "ipython",
    "version": 3
   },
   "file_extension": ".py",
   "mimetype": "text/x-python",
   "name": "python",
   "nbconvert_exporter": "python",
   "pygments_lexer": "ipython3",
   "version": "3.8.8"
  }
 },
 "nbformat": 4,
 "nbformat_minor": 5
}

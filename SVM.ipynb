{
 "cells": [
  {
   "cell_type": "code",
   "execution_count": 1,
   "id": "eed5607b",
   "metadata": {},
   "outputs": [],
   "source": [
    "import numpy as np\n",
    "import pandas as pd\n",
    "import matplotlib.pyplot as plt\n",
    "from sklearn.neighbors import KNeighborsClassifier\n",
    "from sklearn.model_selection import train_test_split, KFold\n",
    "from sklearn.decomposition import PCA\n",
    "from sklearn.metrics import mean_squared_error"
   ]
  },
  {
   "cell_type": "markdown",
   "id": "ab335688",
   "metadata": {},
   "source": [
    "Find the training data and test data."
   ]
  },
  {
   "cell_type": "code",
   "execution_count": 13,
   "id": "d624d238",
   "metadata": {},
   "outputs": [],
   "source": [
    "# K means Label number, i means the ith label in Labels_k\n",
    "def train_test(k, i):\n",
    "    train = pd.read_csv('Data-train345.csv', index_col = 0)\n",
    "    train1 = train.loc[train['Labels_' + str(k)] == i]\n",
    "    X_train = train1.drop(['sales', 'Labels_3', 'Labels_4', 'Labels_5'], axis = 1)\n",
    "    y_train = train1['sales']\n",
    "    return X_train, y_train"
   ]
  },
  {
   "cell_type": "code",
   "execution_count": 3,
   "id": "3f6e860a",
   "metadata": {},
   "outputs": [],
   "source": [
    "# n is the components of PCA. Return new training set.\n",
    "def SelfPCA(n1, X_train):\n",
    "    pca = PCA(n_components=n1)\n",
    "    pca.fit(X_train)\n",
    "    #print(pca.explained_variance_ratio_)  # This is the Variance of different 特征值，越好。\n",
    "    #print(pca.explained_variance_)\n",
    "    X_new = pca.transform(X_train)\n",
    "    X = pd.DataFrame(X_new)\n",
    "    return X"
   ]
  },
  {
   "cell_type": "markdown",
   "id": "b6d3ccad",
   "metadata": {},
   "source": [
    "********"
   ]
  },
  {
   "cell_type": "code",
   "execution_count": 4,
   "id": "dfe21c55",
   "metadata": {},
   "outputs": [],
   "source": [
    "from sklearn import svm"
   ]
  },
  {
   "cell_type": "code",
   "execution_count": 5,
   "id": "4cc7d0de",
   "metadata": {},
   "outputs": [],
   "source": [
    "def KFold_MSE(X_train, y_train, kernel):\n",
    "    MSE = []\n",
    "    kf = KFold(n_splits = 10)\n",
    "    for train_index, test_index in kf.split(X_train):\n",
    "        XX_train = X_train.iloc[train_index]\n",
    "        XX_test = X_train.iloc[test_index]\n",
    "        yy_train = y_train.iloc[train_index]\n",
    "        yy_test = y_train.iloc[test_index]\n",
    "        clf = svm.SVC(C=100, kernel=kernel, probability=True)\n",
    "        clf.fit(XX_train,yy_train)\n",
    "        MSE.append(mean_squared_error(clf.predict(XX_test),yy_test))\n",
    "        #plt.plot(clf.predict(XX_test))\n",
    "        #plt.plot(yy_test)\n",
    "        #plt.show()\n",
    "        #break\n",
    "    return MSE"
   ]
  },
  {
   "cell_type": "code",
   "execution_count": 6,
   "id": "0eef360b",
   "metadata": {},
   "outputs": [],
   "source": [
    "def main(k, i, n, kernel):\n",
    "    X_train, y_train = train_test(k, i)\n",
    "    X = SelfPCA(n, X_train)\n",
    "    # Before PCA\n",
    "    MSE = KFold_MSE(X_train, y_train, kernel)\n",
    "    # After PCA\n",
    "    MSE2 = KFold_MSE(X, y_train, kernel)\n",
    "    print(\"Before PCA: \" )\n",
    "    print(np.mean(MSE))\n",
    "    print(\"After PCA with n = \" + str(n) + \" :\" )\n",
    "    print(np.mean(MSE2))"
   ]
  },
  {
   "cell_type": "markdown",
   "id": "53fa3f5c",
   "metadata": {},
   "source": [
    "<b>Only need to change the parameter in FUNCTION MAIN."
   ]
  },
  {
   "cell_type": "markdown",
   "id": "e8330402",
   "metadata": {},
   "source": [
    "### main(k, i, n, kernel)\n",
    "#### k : Labels_k\n",
    "#### i: ith label in Labels_k (0 <= i < k)\n",
    "#### n: n_components of PCA\n",
    "#### Kernel: The kernel of SVM"
   ]
  },
  {
   "cell_type": "code",
   "execution_count": 14,
   "id": "4bc71b0d",
   "metadata": {},
   "outputs": [
    {
     "name": "stdout",
     "output_type": "stream",
     "text": [
      "Before PCA: \n",
      "431.4945054945056\n",
      "After PCA with n = 6 :\n",
      "428.1934065934066\n"
     ]
    }
   ],
   "source": [
    "# for i in range(0, 4):\n",
    "#print('For Label_4: i = ' + str(i))\n",
    "main(4, 0, 6, 'rbf')"
   ]
  },
  {
   "cell_type": "code",
   "execution_count": null,
   "id": "1cd758d6",
   "metadata": {},
   "outputs": [],
   "source": []
  }
 ],
 "metadata": {
  "kernelspec": {
   "display_name": "Python 3 (ipykernel)",
   "language": "python",
   "name": "python3"
  },
  "language_info": {
   "codemirror_mode": {
    "name": "ipython",
    "version": 3
   },
   "file_extension": ".py",
   "mimetype": "text/x-python",
   "name": "python",
   "nbconvert_exporter": "python",
   "pygments_lexer": "ipython3",
   "version": "3.9.7"
  }
 },
 "nbformat": 4,
 "nbformat_minor": 5
}

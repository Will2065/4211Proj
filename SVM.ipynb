{
 "cells": [
  {
   "cell_type": "code",
   "execution_count": 1,
   "id": "eed5607b",
   "metadata": {},
   "outputs": [],
   "source": [
    "%load_ext autoreload\n",
    "%autoreload 2\n",
    "import numpy as np\n",
    "import pandas as pd\n",
    "import matplotlib.pyplot as plt\n",
    "from sklearn.neighbors import KNeighborsClassifier\n",
    "from sklearn.model_selection import train_test_split, KFold\n",
    "from sklearn.decomposition import PCA\n",
    "from sklearn.metrics import mean_squared_error\n",
    "import toolkit4211 as tk"
   ]
  },
  {
   "cell_type": "markdown",
   "id": "ab335688",
   "metadata": {},
   "source": [
    "Find the training data and test data."
   ]
  },
  {
   "cell_type": "code",
   "execution_count": 2,
   "id": "d624d238",
   "metadata": {},
   "outputs": [],
   "source": [
    "# K means Label number, i means the ith label in Labels_k\n",
    "def train_test(k, i):\n",
    "    train = pd.read_csv('Data-train345.csv', index_col = 0)\n",
    "    train1 = train.loc[train['Labels_' + str(k)] == i]\n",
    "    train2 = train1.drop(['Labels_3', 'Labels_4', 'Labels_5'], axis = 1)\n",
    "    X_train, y_train = tk.initialize(train2)\n",
    "    return X_train, y_train"
   ]
  },
  {
   "cell_type": "code",
   "execution_count": 3,
   "id": "3f6e860a",
   "metadata": {},
   "outputs": [],
   "source": [
    "# n is the components of PCA. Return new training set.\n",
    "def SelfPCA(n1, X_train):\n",
    "    pca = PCA(n_components=n1)\n",
    "    pca.fit(X_train)\n",
    "    #print(pca.explained_variance_ratio_)  # This is the Variance of different 特征值，越好。\n",
    "    #print(pca.explained_variance_)\n",
    "    X_new = pca.transform(X_train)\n",
    "    X = pd.DataFrame(X_new)\n",
    "    return X"
   ]
  },
  {
   "cell_type": "markdown",
   "id": "b6d3ccad",
   "metadata": {},
   "source": [
    "********"
   ]
  },
  {
   "cell_type": "code",
   "execution_count": 4,
   "id": "dfe21c55",
   "metadata": {},
   "outputs": [],
   "source": [
    "from sklearn import svm"
   ]
  },
  {
   "cell_type": "code",
   "execution_count": 5,
   "id": "4cc7d0de",
   "metadata": {},
   "outputs": [],
   "source": [
    "def KFold_MSE(X_train, y_train, kernel):\n",
    "    MSE = []\n",
    "    kf = KFold(n_splits = 10)\n",
    "    for train_index, test_index in kf.split(X_train):\n",
    "        XX_train = X_train.iloc[train_index]\n",
    "        XX_test = X_train.iloc[test_index]\n",
    "        yy_train = y_train.iloc[train_index]\n",
    "        yy_test = y_train.iloc[test_index]\n",
    "        clf = svm.SVC(C=10, kernel=kernel, probability=True)\n",
    "        clf.fit(XX_train,yy_train)\n",
    "        MSE.append(mean_squared_error(clf.predict(XX_test),yy_test))\n",
    "        #plt.plot(clf.predict(XX_test))\n",
    "        #plt.plot(yy_test)\n",
    "        #plt.show()\n",
    "        #break\n",
    "    return MSE"
   ]
  },
  {
   "cell_type": "code",
   "execution_count": 13,
   "id": "0eef360b",
   "metadata": {},
   "outputs": [],
   "source": [
    "def main(k, i, kernel):\n",
    "    X_train, y_train = train_test(k, i)\n",
    "    MSEPCA = [];\n",
    "    # After PCA\n",
    "    for i in range(1, 28):\n",
    "        X = SelfPCA(i, X_train)\n",
    "        MSE2 = KFold_MSE(X, y_train, kernel)\n",
    "        MSEPCA.append(np.mean(MSE2))\n",
    "    # Before PCA\n",
    "    MSE = KFold_MSE(X_train, y_train, kernel)\n",
    "    print(\"Before PCA: \" )\n",
    "    print(np.mean(MSE))\n",
    "    print(\"After PCA the best: \" )\n",
    "    print(min(MSEPCA))\n",
    "    n = np.argmin(MSEPCA)\n",
    "    print(\"Recomend n = \" + str(n))\n",
    "    \n",
    "    return np.mean(MSE), min(MSEPCA), len(y_train)"
   ]
  },
  {
   "cell_type": "markdown",
   "id": "53fa3f5c",
   "metadata": {},
   "source": [
    "<b>Only need to change the parameter in FUNCTION MAIN."
   ]
  },
  {
   "cell_type": "markdown",
   "id": "e8330402",
   "metadata": {},
   "source": [
    "### main(k, i, n, kernel)\n",
    "#### k : Labels_k\n",
    "#### i: ith label in Labels_k (0 <= i < k)\n",
    "#### n: n_components of PCA\n",
    "#### Kernel: The kernel of SVM"
   ]
  },
  {
   "cell_type": "code",
   "execution_count": 7,
   "id": "4bc71b0d",
   "metadata": {},
   "outputs": [],
   "source": [
    "def final(k):\n",
    "    totalNUM = 0\n",
    "    totalMSE = 0\n",
    "    totalMSEPCA = 0\n",
    "    for i in range(0, k):\n",
    "        print('\\nFor Label_' + str(k) + ': i = ' + str(i))\n",
    "        MSE, MSEPCA, LEN = main(k, i, 'rbf')\n",
    "        totalMSE = totalMSE + MSE * LEN\n",
    "        totalNUM = totalNUM + LEN\n",
    "        totalMSEPCA = totalMSEPCA + MSEPCA * LEN\n",
    "    print('\\nIn total: ')\n",
    "    print('MSE : ', str(totalMSE / totalNUM))\n",
    "    print('MSE after PCA: ', str(totalMSEPCA / totalNUM))"
   ]
  },
  {
   "cell_type": "code",
   "execution_count": 8,
   "id": "1cd758d6",
   "metadata": {},
   "outputs": [
    {
     "name": "stdout",
     "output_type": "stream",
     "text": [
      "\n",
      "For Label_3: i = 0\n",
      "Before PCA: \n",
      "2772.677272727273\n",
      "After PCA the best: \n",
      "2054.544318181818\n",
      "Recomend n = 6\n",
      "\n",
      "For Label_3: i = 1\n",
      "Before PCA: \n",
      "703.0285714285715\n",
      "After PCA the best: \n",
      "536.5208791208792\n",
      "Recomend n = 6\n",
      "\n",
      "For Label_3: i = 2\n",
      "Before PCA: \n",
      "1268.4509433962264\n",
      "After PCA the best: \n",
      "660.2037373004354\n",
      "Recomend n = 5\n",
      "\n",
      "In total: \n",
      "MSE :  1618.1418730940459\n",
      "MSE after PCA:  1141.8235775045064\n"
     ]
    }
   ],
   "source": [
    "final(3)"
   ]
  },
  {
   "cell_type": "code",
   "execution_count": 11,
   "id": "9e347c83",
   "metadata": {},
   "outputs": [
    {
     "name": "stdout",
     "output_type": "stream",
     "text": [
      "\n",
      "For Label_4: i = 0\n",
      "Before PCA: \n",
      "1268.4509433962264\n",
      "After PCA the best: \n",
      "678.655442670537\n",
      "Recomend n = 5\n",
      "\n",
      "For Label_4: i = 1\n",
      "Before PCA: \n",
      "1495.0089106292967\n",
      "After PCA the best: \n",
      "634.411475409836\n",
      "Recomend n = 3\n",
      "\n",
      "For Label_4: i = 2\n",
      "Before PCA: \n",
      "2772.677272727273\n",
      "After PCA the best: \n",
      "1327.0943181818182\n",
      "Recomend n = 8\n",
      "\n",
      "For Label_4: i = 3\n",
      "Before PCA: \n",
      "701.0677011494253\n",
      "After PCA the best: \n",
      "467.6898850574713\n",
      "Recomend n = 4\n",
      "\n",
      "In total: \n",
      "MSE :  1827.6931131360243\n",
      "MSE after PCA:  886.4548756472169\n"
     ]
    }
   ],
   "source": [
    "final(4)"
   ]
  },
  {
   "cell_type": "code",
   "execution_count": 14,
   "id": "1f7f3f52",
   "metadata": {},
   "outputs": [
    {
     "name": "stdout",
     "output_type": "stream",
     "text": [
      "\n",
      "For Label_5: i = 0\n",
      "Before PCA: \n",
      "1848.3152631578948\n",
      "After PCA the best: \n",
      "723.2976315789474\n",
      "Recomend n = 3\n",
      "\n",
      "For Label_5: i = 1\n",
      "Before PCA: \n",
      "740.242746400886\n",
      "After PCA the best: \n",
      "543.7418604651162\n",
      "Recomend n = 23\n",
      "\n",
      "For Label_5: i = 2\n",
      "Before PCA: \n",
      "1495.0089106292967\n",
      "After PCA the best: \n",
      "621.7127445795875\n",
      "Recomend n = 3\n",
      "\n",
      "For Label_5: i = 3\n",
      "Before PCA: \n",
      "3324.31297036297\n",
      "After PCA the best: \n",
      "2265.2138528138526\n",
      "Recomend n = 6\n",
      "\n",
      "For Label_5: i = 4\n",
      "Before PCA: \n",
      "701.0677011494253\n",
      "After PCA the best: \n",
      "467.6898850574713\n",
      "Recomend n = 4\n",
      "\n",
      "In total: \n",
      "MSE :  1898.9331474307778\n",
      "MSE after PCA:  1149.3720801903007\n"
     ]
    }
   ],
   "source": [
    "final(5)"
   ]
  },
  {
   "cell_type": "code",
   "execution_count": null,
   "id": "641fc8a5",
   "metadata": {},
   "outputs": [],
   "source": []
  }
 ],
 "metadata": {
  "kernelspec": {
   "display_name": "Python 3 (ipykernel)",
   "language": "python",
   "name": "python3"
  },
  "language_info": {
   "codemirror_mode": {
    "name": "ipython",
    "version": 3
   },
   "file_extension": ".py",
   "mimetype": "text/x-python",
   "name": "python",
   "nbconvert_exporter": "python",
   "pygments_lexer": "ipython3",
   "version": "3.9.7"
  }
 },
 "nbformat": 4,
 "nbformat_minor": 5
}

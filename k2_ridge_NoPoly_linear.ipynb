{
 "cells": [
  {
   "cell_type": "code",
   "execution_count": 1,
   "id": "aa8e2a58-4367-4384-b255-2a7aa75d37e7",
   "metadata": {},
   "outputs": [],
   "source": [
    "%load_ext autoreload\n",
    "%autoreload 2\n",
    "import pandas as pd\n",
    "import numpy as np\n",
    "import toolkit4211 as tk"
   ]
  },
  {
   "cell_type": "markdown",
   "id": "c40b06ee-209b-4610-aa75-dd3b1c8d4c90",
   "metadata": {},
   "source": [
    "# K=2"
   ]
  },
  {
   "cell_type": "markdown",
   "id": "2e5f0474-a0ce-4de0-b0e0-0aefae9a53ac",
   "metadata": {},
   "source": [
    "### import data"
   ]
  },
  {
   "cell_type": "code",
   "execution_count": 2,
   "id": "0af4e7dd-39b6-49d4-9819-8eeb50e1bbbc",
   "metadata": {},
   "outputs": [],
   "source": [
    "df=pd.read_csv('data-train345.csv')"
   ]
  },
  {
   "cell_type": "markdown",
   "id": "389dbd0d-b280-4b43-87d7-66af5ca3f769",
   "metadata": {},
   "source": [
    "### choose to have 3 group"
   ]
  },
  {
   "cell_type": "code",
   "execution_count": 3,
   "id": "ccb006ef-7fcf-410e-af6d-b0ddad13b47a",
   "metadata": {},
   "outputs": [
    {
     "data": {
      "text/plain": [
       "Index(['productID', 'brandID', 'attribute1', 'attribute2', 'attribute3',\n",
       "       'attribute4', 'clickVolume', 'avgOriginalUnitPrice',\n",
       "       'avgFinalUnitPrice', 'ma14SalesVolume', 'weekday', 'meanAge', 'gender',\n",
       "       'meanEducation', 'maritalStatus', 'plus', 'meanPurchasePower',\n",
       "       'meanUserLevel', 'meanCityLevel', 'sales', 'Labels_3'],\n",
       "      dtype='object')"
      ]
     },
     "execution_count": 3,
     "metadata": {},
     "output_type": "execute_result"
    }
   ],
   "source": [
    "df=df.drop('Labels_4',axis=1)\n",
    "df=df.drop('Labels_5',axis=1)\n",
    "df.columns"
   ]
  },
  {
   "cell_type": "code",
   "execution_count": null,
   "id": "c4480b11-4130-4cfb-a4a9-ef294ac53459",
   "metadata": {},
   "outputs": [],
   "source": []
  },
  {
   "cell_type": "markdown",
   "id": "e81a0e96-a378-4aba-8129-bbca6d593879",
   "metadata": {},
   "source": [
    "## Product Group 1"
   ]
  },
  {
   "cell_type": "markdown",
   "id": "89906105-24f1-4cfd-994e-f966bb0556e7",
   "metadata": {},
   "source": [
    "### choose group1"
   ]
  },
  {
   "cell_type": "code",
   "execution_count": 4,
   "id": "c356d7c6-c4af-4ace-9511-1e98e3cd12fb",
   "metadata": {},
   "outputs": [
    {
     "data": {
      "text/html": [
       "<div>\n",
       "<style scoped>\n",
       "    .dataframe tbody tr th:only-of-type {\n",
       "        vertical-align: middle;\n",
       "    }\n",
       "\n",
       "    .dataframe tbody tr th {\n",
       "        vertical-align: top;\n",
       "    }\n",
       "\n",
       "    .dataframe thead th {\n",
       "        text-align: right;\n",
       "    }\n",
       "</style>\n",
       "<table border=\"1\" class=\"dataframe\">\n",
       "  <thead>\n",
       "    <tr style=\"text-align: right;\">\n",
       "      <th></th>\n",
       "      <th>productID</th>\n",
       "      <th>brandID</th>\n",
       "      <th>attribute1</th>\n",
       "      <th>attribute2</th>\n",
       "      <th>attribute3</th>\n",
       "      <th>attribute4</th>\n",
       "      <th>clickVolume</th>\n",
       "      <th>avgOriginalUnitPrice</th>\n",
       "      <th>avgFinalUnitPrice</th>\n",
       "      <th>ma14SalesVolume</th>\n",
       "      <th>weekday</th>\n",
       "      <th>meanAge</th>\n",
       "      <th>gender</th>\n",
       "      <th>meanEducation</th>\n",
       "      <th>maritalStatus</th>\n",
       "      <th>plus</th>\n",
       "      <th>meanPurchasePower</th>\n",
       "      <th>meanUserLevel</th>\n",
       "      <th>meanCityLevel</th>\n",
       "      <th>sales</th>\n",
       "    </tr>\n",
       "  </thead>\n",
       "  <tbody>\n",
       "    <tr>\n",
       "      <th>0</th>\n",
       "      <td>28</td>\n",
       "      <td>4</td>\n",
       "      <td>3</td>\n",
       "      <td>100</td>\n",
       "      <td>5</td>\n",
       "      <td>2.098131</td>\n",
       "      <td>749</td>\n",
       "      <td>58.870968</td>\n",
       "      <td>53.774194</td>\n",
       "      <td>24.642857</td>\n",
       "      <td>3</td>\n",
       "      <td>31.481481</td>\n",
       "      <td>0.370370</td>\n",
       "      <td>3.222222</td>\n",
       "      <td>0.555556</td>\n",
       "      <td>0.357143</td>\n",
       "      <td>2.259259</td>\n",
       "      <td>3.178571</td>\n",
       "      <td>1.884615</td>\n",
       "      <td>31</td>\n",
       "    </tr>\n",
       "    <tr>\n",
       "      <th>2</th>\n",
       "      <td>70</td>\n",
       "      <td>3</td>\n",
       "      <td>3</td>\n",
       "      <td>100</td>\n",
       "      <td>1</td>\n",
       "      <td>2.726300</td>\n",
       "      <td>3676</td>\n",
       "      <td>105.000000</td>\n",
       "      <td>64.797872</td>\n",
       "      <td>32.500000</td>\n",
       "      <td>2</td>\n",
       "      <td>32.027778</td>\n",
       "      <td>0.194444</td>\n",
       "      <td>3.073529</td>\n",
       "      <td>0.611940</td>\n",
       "      <td>0.320000</td>\n",
       "      <td>2.223881</td>\n",
       "      <td>2.866667</td>\n",
       "      <td>2.000000</td>\n",
       "      <td>94</td>\n",
       "    </tr>\n",
       "    <tr>\n",
       "      <th>3</th>\n",
       "      <td>69</td>\n",
       "      <td>35</td>\n",
       "      <td>3</td>\n",
       "      <td>100</td>\n",
       "      <td>2</td>\n",
       "      <td>2.831175</td>\n",
       "      <td>2685</td>\n",
       "      <td>246.482759</td>\n",
       "      <td>204.448276</td>\n",
       "      <td>43.714286</td>\n",
       "      <td>5</td>\n",
       "      <td>32.160000</td>\n",
       "      <td>0.280000</td>\n",
       "      <td>3.125000</td>\n",
       "      <td>0.480000</td>\n",
       "      <td>0.357143</td>\n",
       "      <td>2.160000</td>\n",
       "      <td>3.357143</td>\n",
       "      <td>1.833333</td>\n",
       "      <td>29</td>\n",
       "    </tr>\n",
       "    <tr>\n",
       "      <th>4</th>\n",
       "      <td>69</td>\n",
       "      <td>35</td>\n",
       "      <td>3</td>\n",
       "      <td>100</td>\n",
       "      <td>7</td>\n",
       "      <td>6.322161</td>\n",
       "      <td>777</td>\n",
       "      <td>250.000000</td>\n",
       "      <td>240.500000</td>\n",
       "      <td>43.000000</td>\n",
       "      <td>6</td>\n",
       "      <td>26.666667</td>\n",
       "      <td>0.000000</td>\n",
       "      <td>3.333333</td>\n",
       "      <td>0.000000</td>\n",
       "      <td>0.500000</td>\n",
       "      <td>2.000000</td>\n",
       "      <td>2.750000</td>\n",
       "      <td>1.333333</td>\n",
       "      <td>4</td>\n",
       "    </tr>\n",
       "    <tr>\n",
       "      <th>6</th>\n",
       "      <td>96</td>\n",
       "      <td>35</td>\n",
       "      <td>3</td>\n",
       "      <td>100</td>\n",
       "      <td>7</td>\n",
       "      <td>36.112149</td>\n",
       "      <td>313</td>\n",
       "      <td>180.000000</td>\n",
       "      <td>121.000000</td>\n",
       "      <td>5.357143</td>\n",
       "      <td>1</td>\n",
       "      <td>33.333333</td>\n",
       "      <td>0.000000</td>\n",
       "      <td>3.333333</td>\n",
       "      <td>0.666667</td>\n",
       "      <td>0.666667</td>\n",
       "      <td>3.000000</td>\n",
       "      <td>2.666667</td>\n",
       "      <td>2.666667</td>\n",
       "      <td>5</td>\n",
       "    </tr>\n",
       "  </tbody>\n",
       "</table>\n",
       "</div>"
      ],
      "text/plain": [
       "   productID  brandID  attribute1  attribute2  attribute3  attribute4  \\\n",
       "0         28        4           3         100           5    2.098131   \n",
       "2         70        3           3         100           1    2.726300   \n",
       "3         69       35           3         100           2    2.831175   \n",
       "4         69       35           3         100           7    6.322161   \n",
       "6         96       35           3         100           7   36.112149   \n",
       "\n",
       "   clickVolume  avgOriginalUnitPrice  avgFinalUnitPrice  ma14SalesVolume  \\\n",
       "0          749             58.870968          53.774194        24.642857   \n",
       "2         3676            105.000000          64.797872        32.500000   \n",
       "3         2685            246.482759         204.448276        43.714286   \n",
       "4          777            250.000000         240.500000        43.000000   \n",
       "6          313            180.000000         121.000000         5.357143   \n",
       "\n",
       "   weekday    meanAge    gender  meanEducation  maritalStatus      plus  \\\n",
       "0        3  31.481481  0.370370       3.222222       0.555556  0.357143   \n",
       "2        2  32.027778  0.194444       3.073529       0.611940  0.320000   \n",
       "3        5  32.160000  0.280000       3.125000       0.480000  0.357143   \n",
       "4        6  26.666667  0.000000       3.333333       0.000000  0.500000   \n",
       "6        1  33.333333  0.000000       3.333333       0.666667  0.666667   \n",
       "\n",
       "   meanPurchasePower  meanUserLevel  meanCityLevel  sales  \n",
       "0           2.259259       3.178571       1.884615     31  \n",
       "2           2.223881       2.866667       2.000000     94  \n",
       "3           2.160000       3.357143       1.833333     29  \n",
       "4           2.000000       2.750000       1.333333      4  \n",
       "6           3.000000       2.666667       2.666667      5  "
      ]
     },
     "execution_count": 4,
     "metadata": {},
     "output_type": "execute_result"
    }
   ],
   "source": [
    "g=df[df['Labels_3'] ==1]\n",
    "g=g.drop('Labels_3',axis=1)\n",
    "g.head()"
   ]
  },
  {
   "cell_type": "markdown",
   "id": "85b53a75-2ab1-4109-a4f2-f6f177cea91f",
   "metadata": {},
   "source": [
    "### initilize the data"
   ]
  },
  {
   "cell_type": "code",
   "execution_count": 5,
   "id": "a10457a1-815f-4f1b-afb1-31d79d2ad769",
   "metadata": {},
   "outputs": [
    {
     "data": {
      "text/html": [
       "<div>\n",
       "<style scoped>\n",
       "    .dataframe tbody tr th:only-of-type {\n",
       "        vertical-align: middle;\n",
       "    }\n",
       "\n",
       "    .dataframe tbody tr th {\n",
       "        vertical-align: top;\n",
       "    }\n",
       "\n",
       "    .dataframe thead th {\n",
       "        text-align: right;\n",
       "    }\n",
       "</style>\n",
       "<table border=\"1\" class=\"dataframe\">\n",
       "  <thead>\n",
       "    <tr style=\"text-align: right;\">\n",
       "      <th></th>\n",
       "      <th>productID</th>\n",
       "      <th>attribute1</th>\n",
       "      <th>attribute2</th>\n",
       "      <th>attribute3</th>\n",
       "      <th>attribute4</th>\n",
       "      <th>clickVolume</th>\n",
       "      <th>avgOriginalUnitPrice</th>\n",
       "      <th>avgFinalUnitPrice</th>\n",
       "      <th>ma14SalesVolume</th>\n",
       "      <th>meanAge</th>\n",
       "      <th>...</th>\n",
       "      <th>brandID_31</th>\n",
       "      <th>brandID_32</th>\n",
       "      <th>brandID_35</th>\n",
       "      <th>brandID_36</th>\n",
       "      <th>weekday_2</th>\n",
       "      <th>weekday_3</th>\n",
       "      <th>weekday_4</th>\n",
       "      <th>weekday_5</th>\n",
       "      <th>weekday_6</th>\n",
       "      <th>weekday_7</th>\n",
       "    </tr>\n",
       "  </thead>\n",
       "  <tbody>\n",
       "    <tr>\n",
       "      <th>0</th>\n",
       "      <td>1.035217</td>\n",
       "      <td>7.065858</td>\n",
       "      <td>11.344574</td>\n",
       "      <td>1.087809</td>\n",
       "      <td>0.106444</td>\n",
       "      <td>0.568054</td>\n",
       "      <td>0.797814</td>\n",
       "      <td>0.942305</td>\n",
       "      <td>1.012607</td>\n",
       "      <td>6.814589</td>\n",
       "      <td>...</td>\n",
       "      <td>0.0</td>\n",
       "      <td>0.0</td>\n",
       "      <td>0.000000</td>\n",
       "      <td>0.0</td>\n",
       "      <td>0.000000</td>\n",
       "      <td>2.942257</td>\n",
       "      <td>0.0</td>\n",
       "      <td>0.000000</td>\n",
       "      <td>0.000000</td>\n",
       "      <td>0.0</td>\n",
       "    </tr>\n",
       "    <tr>\n",
       "      <th>1</th>\n",
       "      <td>2.588042</td>\n",
       "      <td>7.065858</td>\n",
       "      <td>11.344574</td>\n",
       "      <td>0.217562</td>\n",
       "      <td>0.138313</td>\n",
       "      <td>2.787939</td>\n",
       "      <td>1.422950</td>\n",
       "      <td>1.135477</td>\n",
       "      <td>1.335467</td>\n",
       "      <td>6.932842</td>\n",
       "      <td>...</td>\n",
       "      <td>0.0</td>\n",
       "      <td>0.0</td>\n",
       "      <td>0.000000</td>\n",
       "      <td>0.0</td>\n",
       "      <td>2.965813</td>\n",
       "      <td>0.000000</td>\n",
       "      <td>0.0</td>\n",
       "      <td>0.000000</td>\n",
       "      <td>0.000000</td>\n",
       "      <td>0.0</td>\n",
       "    </tr>\n",
       "    <tr>\n",
       "      <th>2</th>\n",
       "      <td>2.551069</td>\n",
       "      <td>7.065858</td>\n",
       "      <td>11.344574</td>\n",
       "      <td>0.435123</td>\n",
       "      <td>0.143633</td>\n",
       "      <td>2.036349</td>\n",
       "      <td>3.340311</td>\n",
       "      <td>3.582624</td>\n",
       "      <td>1.796277</td>\n",
       "      <td>6.961463</td>\n",
       "      <td>...</td>\n",
       "      <td>0.0</td>\n",
       "      <td>0.0</td>\n",
       "      <td>3.504763</td>\n",
       "      <td>0.0</td>\n",
       "      <td>0.000000</td>\n",
       "      <td>0.000000</td>\n",
       "      <td>0.0</td>\n",
       "      <td>2.712368</td>\n",
       "      <td>0.000000</td>\n",
       "      <td>0.0</td>\n",
       "    </tr>\n",
       "    <tr>\n",
       "      <th>3</th>\n",
       "      <td>2.551069</td>\n",
       "      <td>7.065858</td>\n",
       "      <td>11.344574</td>\n",
       "      <td>1.522932</td>\n",
       "      <td>0.320740</td>\n",
       "      <td>0.589290</td>\n",
       "      <td>3.387977</td>\n",
       "      <td>4.214372</td>\n",
       "      <td>1.766926</td>\n",
       "      <td>5.772357</td>\n",
       "      <td>...</td>\n",
       "      <td>0.0</td>\n",
       "      <td>0.0</td>\n",
       "      <td>3.504763</td>\n",
       "      <td>0.0</td>\n",
       "      <td>0.000000</td>\n",
       "      <td>0.000000</td>\n",
       "      <td>0.0</td>\n",
       "      <td>0.000000</td>\n",
       "      <td>2.740878</td>\n",
       "      <td>0.0</td>\n",
       "    </tr>\n",
       "    <tr>\n",
       "      <th>4</th>\n",
       "      <td>3.549314</td>\n",
       "      <td>7.065858</td>\n",
       "      <td>11.344574</td>\n",
       "      <td>1.522932</td>\n",
       "      <td>1.832067</td>\n",
       "      <td>0.237384</td>\n",
       "      <td>2.439343</td>\n",
       "      <td>2.120329</td>\n",
       "      <td>0.220132</td>\n",
       "      <td>7.215447</td>\n",
       "      <td>...</td>\n",
       "      <td>0.0</td>\n",
       "      <td>0.0</td>\n",
       "      <td>3.504763</td>\n",
       "      <td>0.0</td>\n",
       "      <td>0.000000</td>\n",
       "      <td>0.000000</td>\n",
       "      <td>0.0</td>\n",
       "      <td>0.000000</td>\n",
       "      <td>0.000000</td>\n",
       "      <td>0.0</td>\n",
       "    </tr>\n",
       "  </tbody>\n",
       "</table>\n",
       "<p>5 rows × 42 columns</p>\n",
       "</div>"
      ],
      "text/plain": [
       "   productID  attribute1  attribute2  attribute3  attribute4  clickVolume  \\\n",
       "0   1.035217    7.065858   11.344574    1.087809    0.106444     0.568054   \n",
       "1   2.588042    7.065858   11.344574    0.217562    0.138313     2.787939   \n",
       "2   2.551069    7.065858   11.344574    0.435123    0.143633     2.036349   \n",
       "3   2.551069    7.065858   11.344574    1.522932    0.320740     0.589290   \n",
       "4   3.549314    7.065858   11.344574    1.522932    1.832067     0.237384   \n",
       "\n",
       "   avgOriginalUnitPrice  avgFinalUnitPrice  ma14SalesVolume   meanAge  ...  \\\n",
       "0              0.797814           0.942305         1.012607  6.814589  ...   \n",
       "1              1.422950           1.135477         1.335467  6.932842  ...   \n",
       "2              3.340311           3.582624         1.796277  6.961463  ...   \n",
       "3              3.387977           4.214372         1.766926  5.772357  ...   \n",
       "4              2.439343           2.120329         0.220132  7.215447  ...   \n",
       "\n",
       "   brandID_31  brandID_32  brandID_35  brandID_36  weekday_2  weekday_3  \\\n",
       "0         0.0         0.0    0.000000         0.0   0.000000   2.942257   \n",
       "1         0.0         0.0    0.000000         0.0   2.965813   0.000000   \n",
       "2         0.0         0.0    3.504763         0.0   0.000000   0.000000   \n",
       "3         0.0         0.0    3.504763         0.0   0.000000   0.000000   \n",
       "4         0.0         0.0    3.504763         0.0   0.000000   0.000000   \n",
       "\n",
       "   weekday_4  weekday_5  weekday_6  weekday_7  \n",
       "0        0.0   0.000000   0.000000        0.0  \n",
       "1        0.0   0.000000   0.000000        0.0  \n",
       "2        0.0   2.712368   0.000000        0.0  \n",
       "3        0.0   0.000000   2.740878        0.0  \n",
       "4        0.0   0.000000   0.000000        0.0  \n",
       "\n",
       "[5 rows x 42 columns]"
      ]
     },
     "execution_count": 5,
     "metadata": {},
     "output_type": "execute_result"
    }
   ],
   "source": [
    "x_stan,y =tk.initialize(g)\n",
    "x_stan.head()"
   ]
  },
  {
   "cell_type": "markdown",
   "id": "5e17abae-d92c-4895-9a9a-67eee355729c",
   "metadata": {},
   "source": [
    "### compare dimension and datasize"
   ]
  },
  {
   "cell_type": "code",
   "execution_count": 6,
   "id": "3f218605-86f0-44d4-a9ee-afdd66d97647",
   "metadata": {},
   "outputs": [
    {
     "name": "stdout",
     "output_type": "stream",
     "text": [
      "1208\n"
     ]
    }
   ],
   "source": [
    "l1=len(g)\n",
    "print(l1)"
   ]
  },
  {
   "cell_type": "code",
   "execution_count": 7,
   "id": "f79ffee8-e39a-48f4-9ea5-efb2e55e36c0",
   "metadata": {},
   "outputs": [
    {
     "data": {
      "text/plain": [
       "20"
      ]
     },
     "execution_count": 7,
     "metadata": {},
     "output_type": "execute_result"
    }
   ],
   "source": [
    "len(g.columns)"
   ]
  },
  {
   "cell_type": "markdown",
   "id": "4bd462cf-b1f8-4f00-ac35-946beeb0f91c",
   "metadata": {},
   "source": [
    "n>>p"
   ]
  },
  {
   "cell_type": "markdown",
   "id": "cb95d49d-f0b1-47f9-92fc-ceea2b28034e",
   "metadata": {},
   "source": [
    "### Finding the best alpha "
   ]
  },
  {
   "cell_type": "code",
   "execution_count": 8,
   "id": "ada785b1-3bac-4075-8f46-8a5a0bf471e4",
   "metadata": {},
   "outputs": [
    {
     "data": {
      "image/png": "[encoded data removed]",
      "text/plain": [
       "<Figure size 432x288 with 1 Axes>"
      ]
     },
     "metadata": {
      "needs_background": "light"
     },
     "output_type": "display_data"
    }
   ],
   "source": [
    "tk.para_plot(10,g,0.1,10)"
   ]
  },
  {
   "cell_type": "code",
   "execution_count": 9,
   "id": "6e649541-522f-475c-9b15-050b8f919642",
   "metadata": {},
   "outputs": [
    {
     "data": {
      "image/png": "[encoded data removed]",
      "text/plain": [
       "<Figure size 432x288 with 1 Axes>"
      ]
     },
     "metadata": {
      "needs_background": "light"
     },
     "output_type": "display_data"
    }
   ],
   "source": [
    "tk.para_plot(10,g,5.6,5.62)"
   ]
  },
  {
   "cell_type": "markdown",
   "id": "05eb58be-aafd-4287-8030-406d48cb1e27",
   "metadata": {},
   "source": [
    "### Compute the MSE for Group1"
   ]
  },
  {
   "cell_type": "markdown",
   "id": "40222f37-1d9e-44d6-ab1b-81fee964b257",
   "metadata": {},
   "source": [
    "the best alpha is 5.615 for ridge_regression in Group1"
   ]
  },
  {
   "cell_type": "code",
   "execution_count": 10,
   "id": "60c5a6d3-638d-4dcf-87f3-ff2560177782",
   "metadata": {},
   "outputs": [
    {
     "name": "stdout",
     "output_type": "stream",
     "text": [
      "716.645369174594\n"
     ]
    }
   ],
   "source": [
    "MSE_g1=tk.CV4Ridge_lr(g,5.615)\n",
    "print(MSE_g1)"
   ]
  },
  {
   "cell_type": "code",
   "execution_count": null,
   "id": "473ce2e7-a558-4272-83b5-0a4ab9594fb5",
   "metadata": {},
   "outputs": [],
   "source": []
  },
  {
   "cell_type": "markdown",
   "id": "9fe134d2-0bcb-473c-9b54-07faa65c6678",
   "metadata": {},
   "source": [
    "## Product Group 2"
   ]
  },
  {
   "cell_type": "markdown",
   "id": "7b3090be-7129-47d9-b114-1ae0103d3dd8",
   "metadata": {},
   "source": [
    "### choose group2"
   ]
  },
  {
   "cell_type": "code",
   "execution_count": 11,
   "id": "87a1e286-e29d-42cb-a5f8-a208aaf8de8e",
   "metadata": {},
   "outputs": [
    {
     "data": {
      "text/html": [
       "<div>\n",
       "<style scoped>\n",
       "    .dataframe tbody tr th:only-of-type {\n",
       "        vertical-align: middle;\n",
       "    }\n",
       "\n",
       "    .dataframe tbody tr th {\n",
       "        vertical-align: top;\n",
       "    }\n",
       "\n",
       "    .dataframe thead th {\n",
       "        text-align: right;\n",
       "    }\n",
       "</style>\n",
       "<table border=\"1\" class=\"dataframe\">\n",
       "  <thead>\n",
       "    <tr style=\"text-align: right;\">\n",
       "      <th></th>\n",
       "      <th>productID</th>\n",
       "      <th>brandID</th>\n",
       "      <th>attribute1</th>\n",
       "      <th>attribute2</th>\n",
       "      <th>attribute3</th>\n",
       "      <th>attribute4</th>\n",
       "      <th>clickVolume</th>\n",
       "      <th>avgOriginalUnitPrice</th>\n",
       "      <th>avgFinalUnitPrice</th>\n",
       "      <th>ma14SalesVolume</th>\n",
       "      <th>weekday</th>\n",
       "      <th>meanAge</th>\n",
       "      <th>gender</th>\n",
       "      <th>meanEducation</th>\n",
       "      <th>maritalStatus</th>\n",
       "      <th>plus</th>\n",
       "      <th>meanPurchasePower</th>\n",
       "      <th>meanUserLevel</th>\n",
       "      <th>meanCityLevel</th>\n",
       "      <th>sales</th>\n",
       "    </tr>\n",
       "  </thead>\n",
       "  <tbody>\n",
       "    <tr>\n",
       "      <th>1</th>\n",
       "      <td>73</td>\n",
       "      <td>30</td>\n",
       "      <td>2</td>\n",
       "      <td>40</td>\n",
       "      <td>3</td>\n",
       "      <td>1.487173</td>\n",
       "      <td>1217</td>\n",
       "      <td>329.00</td>\n",
       "      <td>146.111111</td>\n",
       "      <td>8.642857</td>\n",
       "      <td>5</td>\n",
       "      <td>30.000000</td>\n",
       "      <td>0.000000</td>\n",
       "      <td>3.333333</td>\n",
       "      <td>0.571429</td>\n",
       "      <td>0.333333</td>\n",
       "      <td>2.285714</td>\n",
       "      <td>3.000000</td>\n",
       "      <td>2.000000</td>\n",
       "      <td>9</td>\n",
       "    </tr>\n",
       "    <tr>\n",
       "      <th>5</th>\n",
       "      <td>6</td>\n",
       "      <td>26</td>\n",
       "      <td>3</td>\n",
       "      <td>70</td>\n",
       "      <td>7</td>\n",
       "      <td>5.780666</td>\n",
       "      <td>883</td>\n",
       "      <td>134.18</td>\n",
       "      <td>107.478667</td>\n",
       "      <td>42.214286</td>\n",
       "      <td>5</td>\n",
       "      <td>32.000000</td>\n",
       "      <td>0.100000</td>\n",
       "      <td>2.900000</td>\n",
       "      <td>0.200000</td>\n",
       "      <td>0.142857</td>\n",
       "      <td>2.100000</td>\n",
       "      <td>3.714286</td>\n",
       "      <td>2.111111</td>\n",
       "      <td>15</td>\n",
       "    </tr>\n",
       "    <tr>\n",
       "      <th>12</th>\n",
       "      <td>92</td>\n",
       "      <td>22</td>\n",
       "      <td>3</td>\n",
       "      <td>60</td>\n",
       "      <td>4</td>\n",
       "      <td>18.322989</td>\n",
       "      <td>368</td>\n",
       "      <td>166.00</td>\n",
       "      <td>159.000000</td>\n",
       "      <td>10.571429</td>\n",
       "      <td>6</td>\n",
       "      <td>36.666667</td>\n",
       "      <td>0.333333</td>\n",
       "      <td>3.333333</td>\n",
       "      <td>1.000000</td>\n",
       "      <td>1.000000</td>\n",
       "      <td>2.000000</td>\n",
       "      <td>3.000000</td>\n",
       "      <td>2.500000</td>\n",
       "      <td>3</td>\n",
       "    </tr>\n",
       "    <tr>\n",
       "      <th>13</th>\n",
       "      <td>68</td>\n",
       "      <td>36</td>\n",
       "      <td>3</td>\n",
       "      <td>70</td>\n",
       "      <td>17</td>\n",
       "      <td>3.853880</td>\n",
       "      <td>1357</td>\n",
       "      <td>154.00</td>\n",
       "      <td>131.887500</td>\n",
       "      <td>5.714286</td>\n",
       "      <td>6</td>\n",
       "      <td>35.000000</td>\n",
       "      <td>0.000000</td>\n",
       "      <td>3.250000</td>\n",
       "      <td>0.750000</td>\n",
       "      <td>0.250000</td>\n",
       "      <td>2.500000</td>\n",
       "      <td>6.625000</td>\n",
       "      <td>1.500000</td>\n",
       "      <td>8</td>\n",
       "    </tr>\n",
       "    <tr>\n",
       "      <th>14</th>\n",
       "      <td>60</td>\n",
       "      <td>2</td>\n",
       "      <td>3</td>\n",
       "      <td>60</td>\n",
       "      <td>3</td>\n",
       "      <td>6.634016</td>\n",
       "      <td>667</td>\n",
       "      <td>69.00</td>\n",
       "      <td>49.171282</td>\n",
       "      <td>12.785714</td>\n",
       "      <td>3</td>\n",
       "      <td>29.310345</td>\n",
       "      <td>0.137931</td>\n",
       "      <td>3.178571</td>\n",
       "      <td>0.655172</td>\n",
       "      <td>0.275862</td>\n",
       "      <td>2.275862</td>\n",
       "      <td>2.793103</td>\n",
       "      <td>2.285714</td>\n",
       "      <td>39</td>\n",
       "    </tr>\n",
       "  </tbody>\n",
       "</table>\n",
       "</div>"
      ],
      "text/plain": [
       "    productID  brandID  attribute1  attribute2  attribute3  attribute4  \\\n",
       "1          73       30           2          40           3    1.487173   \n",
       "5           6       26           3          70           7    5.780666   \n",
       "12         92       22           3          60           4   18.322989   \n",
       "13         68       36           3          70          17    3.853880   \n",
       "14         60        2           3          60           3    6.634016   \n",
       "\n",
       "    clickVolume  avgOriginalUnitPrice  avgFinalUnitPrice  ma14SalesVolume  \\\n",
       "1          1217                329.00         146.111111         8.642857   \n",
       "5           883                134.18         107.478667        42.214286   \n",
       "12          368                166.00         159.000000        10.571429   \n",
       "13         1357                154.00         131.887500         5.714286   \n",
       "14          667                 69.00          49.171282        12.785714   \n",
       "\n",
       "    weekday    meanAge    gender  meanEducation  maritalStatus      plus  \\\n",
       "1         5  30.000000  0.000000       3.333333       0.571429  0.333333   \n",
       "5         5  32.000000  0.100000       2.900000       0.200000  0.142857   \n",
       "12        6  36.666667  0.333333       3.333333       1.000000  1.000000   \n",
       "13        6  35.000000  0.000000       3.250000       0.750000  0.250000   \n",
       "14        3  29.310345  0.137931       3.178571       0.655172  0.275862   \n",
       "\n",
       "    meanPurchasePower  meanUserLevel  meanCityLevel  sales  \n",
       "1            2.285714       3.000000       2.000000      9  \n",
       "5            2.100000       3.714286       2.111111     15  \n",
       "12           2.000000       3.000000       2.500000      3  \n",
       "13           2.500000       6.625000       1.500000      8  \n",
       "14           2.275862       2.793103       2.285714     39  "
      ]
     },
     "execution_count": 11,
     "metadata": {},
     "output_type": "execute_result"
    }
   ],
   "source": [
    "g=df[df['Labels_3'] ==2]\n",
    "g=g.drop('Labels_3',axis=1)\n",
    "g.head()"
   ]
  },
  {
   "cell_type": "markdown",
   "id": "fc71f9d7-ccd3-4748-9779-1a72dbb41d9d",
   "metadata": {},
   "source": [
    "### initilize the data"
   ]
  },
  {
   "cell_type": "code",
   "execution_count": 12,
   "id": "cc4278e4-5e6f-4941-8b6e-947840c666b6",
   "metadata": {},
   "outputs": [
    {
     "data": {
      "text/html": [
       "<div>\n",
       "<style scoped>\n",
       "    .dataframe tbody tr th:only-of-type {\n",
       "        vertical-align: middle;\n",
       "    }\n",
       "\n",
       "    .dataframe tbody tr th {\n",
       "        vertical-align: top;\n",
       "    }\n",
       "\n",
       "    .dataframe thead th {\n",
       "        text-align: right;\n",
       "    }\n",
       "</style>\n",
       "<table border=\"1\" class=\"dataframe\">\n",
       "  <thead>\n",
       "    <tr style=\"text-align: right;\">\n",
       "      <th></th>\n",
       "      <th>productID</th>\n",
       "      <th>attribute1</th>\n",
       "      <th>attribute2</th>\n",
       "      <th>attribute3</th>\n",
       "      <th>attribute4</th>\n",
       "      <th>clickVolume</th>\n",
       "      <th>avgOriginalUnitPrice</th>\n",
       "      <th>avgFinalUnitPrice</th>\n",
       "      <th>ma14SalesVolume</th>\n",
       "      <th>meanAge</th>\n",
       "      <th>...</th>\n",
       "      <th>brandID_30</th>\n",
       "      <th>brandID_31</th>\n",
       "      <th>brandID_35</th>\n",
       "      <th>brandID_36</th>\n",
       "      <th>weekday_2</th>\n",
       "      <th>weekday_3</th>\n",
       "      <th>weekday_4</th>\n",
       "      <th>weekday_5</th>\n",
       "      <th>weekday_6</th>\n",
       "      <th>weekday_7</th>\n",
       "    </tr>\n",
       "  </thead>\n",
       "  <tbody>\n",
       "    <tr>\n",
       "      <th>0</th>\n",
       "      <td>2.294131</td>\n",
       "      <td>3.274612</td>\n",
       "      <td>4.746814</td>\n",
       "      <td>0.646641</td>\n",
       "      <td>0.088989</td>\n",
       "      <td>1.696192</td>\n",
       "      <td>5.114830</td>\n",
       "      <td>2.782420</td>\n",
       "      <td>0.492396</td>\n",
       "      <td>6.793663</td>\n",
       "      <td>...</td>\n",
       "      <td>6.863346</td>\n",
       "      <td>0.0</td>\n",
       "      <td>0.0</td>\n",
       "      <td>0.00000</td>\n",
       "      <td>0.0</td>\n",
       "      <td>0.000000</td>\n",
       "      <td>0.0</td>\n",
       "      <td>2.645623</td>\n",
       "      <td>0.000000</td>\n",
       "      <td>0.0</td>\n",
       "    </tr>\n",
       "    <tr>\n",
       "      <th>1</th>\n",
       "      <td>0.188559</td>\n",
       "      <td>4.911918</td>\n",
       "      <td>8.306924</td>\n",
       "      <td>1.508828</td>\n",
       "      <td>0.345903</td>\n",
       "      <td>1.230680</td>\n",
       "      <td>2.086042</td>\n",
       "      <td>2.046736</td>\n",
       "      <td>2.405008</td>\n",
       "      <td>7.246574</td>\n",
       "      <td>...</td>\n",
       "      <td>0.000000</td>\n",
       "      <td>0.0</td>\n",
       "      <td>0.0</td>\n",
       "      <td>0.00000</td>\n",
       "      <td>0.0</td>\n",
       "      <td>0.000000</td>\n",
       "      <td>0.0</td>\n",
       "      <td>2.645623</td>\n",
       "      <td>0.000000</td>\n",
       "      <td>0.0</td>\n",
       "    </tr>\n",
       "    <tr>\n",
       "      <th>2</th>\n",
       "      <td>2.891234</td>\n",
       "      <td>4.911918</td>\n",
       "      <td>7.120221</td>\n",
       "      <td>0.862188</td>\n",
       "      <td>1.096409</td>\n",
       "      <td>0.512899</td>\n",
       "      <td>2.580735</td>\n",
       "      <td>3.027866</td>\n",
       "      <td>0.602269</td>\n",
       "      <td>8.303366</td>\n",
       "      <td>...</td>\n",
       "      <td>0.000000</td>\n",
       "      <td>0.0</td>\n",
       "      <td>0.0</td>\n",
       "      <td>0.00000</td>\n",
       "      <td>0.0</td>\n",
       "      <td>0.000000</td>\n",
       "      <td>0.0</td>\n",
       "      <td>0.000000</td>\n",
       "      <td>2.673651</td>\n",
       "      <td>0.0</td>\n",
       "    </tr>\n",
       "    <tr>\n",
       "      <th>3</th>\n",
       "      <td>2.136999</td>\n",
       "      <td>4.911918</td>\n",
       "      <td>8.306924</td>\n",
       "      <td>3.664298</td>\n",
       "      <td>0.230608</td>\n",
       "      <td>1.891316</td>\n",
       "      <td>2.394176</td>\n",
       "      <td>2.511558</td>\n",
       "      <td>0.325551</td>\n",
       "      <td>7.925940</td>\n",
       "      <td>...</td>\n",
       "      <td>0.000000</td>\n",
       "      <td>0.0</td>\n",
       "      <td>0.0</td>\n",
       "      <td>5.56116</td>\n",
       "      <td>0.0</td>\n",
       "      <td>0.000000</td>\n",
       "      <td>0.0</td>\n",
       "      <td>0.000000</td>\n",
       "      <td>2.673651</td>\n",
       "      <td>0.0</td>\n",
       "    </tr>\n",
       "    <tr>\n",
       "      <th>4</th>\n",
       "      <td>1.885587</td>\n",
       "      <td>4.911918</td>\n",
       "      <td>7.120221</td>\n",
       "      <td>0.646641</td>\n",
       "      <td>0.396966</td>\n",
       "      <td>0.929630</td>\n",
       "      <td>1.072715</td>\n",
       "      <td>0.936378</td>\n",
       "      <td>0.728420</td>\n",
       "      <td>6.637487</td>\n",
       "      <td>...</td>\n",
       "      <td>0.000000</td>\n",
       "      <td>0.0</td>\n",
       "      <td>0.0</td>\n",
       "      <td>0.00000</td>\n",
       "      <td>0.0</td>\n",
       "      <td>2.937254</td>\n",
       "      <td>0.0</td>\n",
       "      <td>0.000000</td>\n",
       "      <td>0.000000</td>\n",
       "      <td>0.0</td>\n",
       "    </tr>\n",
       "  </tbody>\n",
       "</table>\n",
       "<p>5 rows × 42 columns</p>\n",
       "</div>"
      ],
      "text/plain": [
       "   productID  attribute1  attribute2  attribute3  attribute4  clickVolume  \\\n",
       "0   2.294131    3.274612    4.746814    0.646641    0.088989     1.696192   \n",
       "1   0.188559    4.911918    8.306924    1.508828    0.345903     1.230680   \n",
       "2   2.891234    4.911918    7.120221    0.862188    1.096409     0.512899   \n",
       "3   2.136999    4.911918    8.306924    3.664298    0.230608     1.891316   \n",
       "4   1.885587    4.911918    7.120221    0.646641    0.396966     0.929630   \n",
       "\n",
       "   avgOriginalUnitPrice  avgFinalUnitPrice  ma14SalesVolume   meanAge  ...  \\\n",
       "0              5.114830           2.782420         0.492396  6.793663  ...   \n",
       "1              2.086042           2.046736         2.405008  7.246574  ...   \n",
       "2              2.580735           3.027866         0.602269  8.303366  ...   \n",
       "3              2.394176           2.511558         0.325551  7.925940  ...   \n",
       "4              1.072715           0.936378         0.728420  6.637487  ...   \n",
       "\n",
       "   brandID_30  brandID_31  brandID_35  brandID_36  weekday_2  weekday_3  \\\n",
       "0    6.863346         0.0         0.0     0.00000        0.0   0.000000   \n",
       "1    0.000000         0.0         0.0     0.00000        0.0   0.000000   \n",
       "2    0.000000         0.0         0.0     0.00000        0.0   0.000000   \n",
       "3    0.000000         0.0         0.0     5.56116        0.0   0.000000   \n",
       "4    0.000000         0.0         0.0     0.00000        0.0   2.937254   \n",
       "\n",
       "   weekday_4  weekday_5  weekday_6  weekday_7  \n",
       "0        0.0   2.645623   0.000000        0.0  \n",
       "1        0.0   2.645623   0.000000        0.0  \n",
       "2        0.0   0.000000   2.673651        0.0  \n",
       "3        0.0   0.000000   2.673651        0.0  \n",
       "4        0.0   0.000000   0.000000        0.0  \n",
       "\n",
       "[5 rows x 42 columns]"
      ]
     },
     "execution_count": 12,
     "metadata": {},
     "output_type": "execute_result"
    }
   ],
   "source": [
    "x_stan,y =tk.initialize(g)\n",
    "x_stan.head()"
   ]
  },
  {
   "cell_type": "markdown",
   "id": "52110750-e36a-467e-ac47-01d07ef9ec56",
   "metadata": {},
   "source": [
    "### compare dimension and datasize"
   ]
  },
  {
   "cell_type": "code",
   "execution_count": 13,
   "id": "0910b831-6d96-430f-9bd7-38d3ee147412",
   "metadata": {},
   "outputs": [
    {
     "name": "stdout",
     "output_type": "stream",
     "text": [
      "1106\n"
     ]
    }
   ],
   "source": [
    "l2=len(g)\n",
    "print(l2)"
   ]
  },
  {
   "cell_type": "code",
   "execution_count": 14,
   "id": "65ad865a-d0e7-49dd-a946-a17ce4294ee0",
   "metadata": {},
   "outputs": [
    {
     "data": {
      "text/plain": [
       "20"
      ]
     },
     "execution_count": 14,
     "metadata": {},
     "output_type": "execute_result"
    }
   ],
   "source": [
    "len(g.columns)"
   ]
  },
  {
   "cell_type": "markdown",
   "id": "1a108ae4-e94b-49ed-988e-e5bb41add086",
   "metadata": {},
   "source": [
    "n>>p"
   ]
  },
  {
   "cell_type": "markdown",
   "id": "789941a6-80a2-4f2c-88b8-3fafa0d7ac9e",
   "metadata": {},
   "source": [
    "### Finding the best alpha "
   ]
  },
  {
   "cell_type": "code",
   "execution_count": 15,
   "id": "5c54ebbf-cf1a-4caf-94a4-7a01ee309dbe",
   "metadata": {},
   "outputs": [
    {
     "data": {
      "image/png": "[encoded data removed]",
      "text/plain": [
       "<Figure size 432x288 with 1 Axes>"
      ]
     },
     "metadata": {
      "needs_background": "light"
     },
     "output_type": "display_data"
    }
   ],
   "source": [
    "tk.para_plot(10,g,800,1200)"
   ]
  },
  {
   "cell_type": "code",
   "execution_count": 16,
   "id": "6062afc3-9a94-4bdf-8e95-860477762116",
   "metadata": {},
   "outputs": [
    {
     "data": {
      "image/png": "[encoded data removed]",
      "text/plain": [
       "<Figure size 432x288 with 1 Axes>"
      ]
     },
     "metadata": {
      "needs_background": "light"
     },
     "output_type": "display_data"
    }
   ],
   "source": [
    "tk.para_plot(10,g,996,998)"
   ]
  },
  {
   "cell_type": "markdown",
   "id": "2ec9bb8c-06c4-4659-a2e2-9531c60ffe57",
   "metadata": {},
   "source": [
    "### Compute the MSE for Group2"
   ]
  },
  {
   "cell_type": "markdown",
   "id": "0c7a0e11-6ab5-462c-a594-1a356e068611",
   "metadata": {},
   "source": [
    "the best alpha is 996.8 for ridge_regression in Group1"
   ]
  },
  {
   "cell_type": "code",
   "execution_count": 17,
   "id": "32d27ed6-b619-482c-bc98-3cba89ecec42",
   "metadata": {},
   "outputs": [
    {
     "name": "stdout",
     "output_type": "stream",
     "text": [
      "191.22948859659778\n"
     ]
    }
   ],
   "source": [
    "MSE_g2=tk.CV4Ridge_lr(g,886.8)\n",
    "print(MSE_g2)"
   ]
  },
  {
   "cell_type": "code",
   "execution_count": null,
   "id": "6ecafeab-f038-43e5-bed7-97873169da73",
   "metadata": {},
   "outputs": [],
   "source": []
  },
  {
   "cell_type": "markdown",
   "id": "5f1e00ba-3f5b-43fd-b238-82b227edb76e",
   "metadata": {},
   "source": [
    "# The weighted MSE:"
   ]
  },
  {
   "cell_type": "code",
   "execution_count": 19,
   "id": "848d81b1-7f74-4beb-a195-3fb23e8e0d21",
   "metadata": {
    "tags": []
   },
   "outputs": [],
   "source": [
    "Weighted_MSE=(MSE_g1*l1+MSE_g2*l2)/(l1+l2)"
   ]
  },
  {
   "cell_type": "code",
   "execution_count": 20,
   "id": "c3166aed-462d-4c23-98ee-8f1361bac7ae",
   "metadata": {},
   "outputs": [
    {
     "data": {
      "text/plain": [
       "465.51746774016715"
      ]
     },
     "execution_count": 20,
     "metadata": {},
     "output_type": "execute_result"
    }
   ],
   "source": [
    "Weighted_MSE"
   ]
  },
  {
   "cell_type": "code",
   "execution_count": null,
   "id": "ab73f620-39f8-485d-b40c-a60da6b75b60",
   "metadata": {},
   "outputs": [],
   "source": []
  }
 ],
 "metadata": {
  "kernelspec": {
   "display_name": "Python 3",
   "language": "python",
   "name": "python3"
  },
  "language_info": {
   "codemirror_mode": {
    "name": "ipython",
    "version": 3
   },
   "file_extension": ".py",
   "mimetype": "text/x-python",
   "name": "python",
   "nbconvert_exporter": "python",
   "pygments_lexer": "ipython3",
   "version": "3.8.8"
  }
 },
 "nbformat": 4,
 "nbformat_minor": 5
}

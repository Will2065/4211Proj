{
 "cells": [
  {
   "cell_type": "code",
   "execution_count": 1,
   "id": "4dc05ce0-9a9d-456e-a931-8a9b7eed5bf6",
   "metadata": {},
   "outputs": [],
   "source": [
    "%load_ext autoreload\n",
    "%autoreload 2\n",
    "import pandas as pd\n",
    "import numpy as np\n",
    "import toolkit4211 as tk"
   ]
  },
  {
   "cell_type": "markdown",
   "id": "125f2112-b15a-4d1c-869b-1ea578b86a96",
   "metadata": {},
   "source": [
    "# K=3"
   ]
  },
  {
   "cell_type": "markdown",
   "id": "e7b0b8cf-cf67-4b21-a4f7-a7be2afafee5",
   "metadata": {},
   "source": [
    "### import data"
   ]
  },
  {
   "cell_type": "code",
   "execution_count": 2,
   "id": "3c83737e-af75-409a-92a7-f253a66dd556",
   "metadata": {},
   "outputs": [],
   "source": [
    "df=pd.read_csv('data-train345.csv')"
   ]
  },
  {
   "cell_type": "markdown",
   "id": "83527e0d-9d51-442f-9b09-bd0eac658886",
   "metadata": {},
   "source": [
    "### choose to have 3 group"
   ]
  },
  {
   "cell_type": "code",
   "execution_count": 3,
   "id": "d41d17dc-56db-4ad6-87d7-684ecca47c98",
   "metadata": {},
   "outputs": [
    {
     "data": {
      "text/plain": [
       "Index(['productID', 'brandID', 'attribute1', 'attribute2', 'attribute3',\n",
       "       'attribute4', 'clickVolume', 'avgOriginalUnitPrice',\n",
       "       'avgFinalUnitPrice', 'ma14SalesVolume', 'weekday', 'meanAge', 'gender',\n",
       "       'meanEducation', 'maritalStatus', 'plus', 'meanPurchasePower',\n",
       "       'meanUserLevel', 'meanCityLevel', 'sales', 'Labels_4'],\n",
       "      dtype='object')"
      ]
     },
     "execution_count": 3,
     "metadata": {},
     "output_type": "execute_result"
    }
   ],
   "source": [
    "df=df.drop('Labels_3',axis=1)\n",
    "df=df.drop('Labels_5',axis=1)\n",
    "df.columns"
   ]
  },
  {
   "cell_type": "code",
   "execution_count": null,
   "id": "5d1c9d0f-e003-42b7-9e02-0229117b3b0b",
   "metadata": {},
   "outputs": [],
   "source": []
  },
  {
   "cell_type": "markdown",
   "id": "9c00c2df-f1da-48a9-bc96-9d5eefb61006",
   "metadata": {},
   "source": [
    "## Product Group 1"
   ]
  },
  {
   "cell_type": "markdown",
   "id": "c8674046-f799-417d-b425-cf8f4286b12f",
   "metadata": {},
   "source": [
    "### choose group1"
   ]
  },
  {
   "cell_type": "code",
   "execution_count": 4,
   "id": "f53176c3-4943-4482-b4db-fbbb3c73fb9c",
   "metadata": {},
   "outputs": [
    {
     "data": {
      "text/html": [
       "<div>\n",
       "<style scoped>\n",
       "    .dataframe tbody tr th:only-of-type {\n",
       "        vertical-align: middle;\n",
       "    }\n",
       "\n",
       "    .dataframe tbody tr th {\n",
       "        vertical-align: top;\n",
       "    }\n",
       "\n",
       "    .dataframe thead th {\n",
       "        text-align: right;\n",
       "    }\n",
       "</style>\n",
       "<table border=\"1\" class=\"dataframe\">\n",
       "  <thead>\n",
       "    <tr style=\"text-align: right;\">\n",
       "      <th></th>\n",
       "      <th>productID</th>\n",
       "      <th>brandID</th>\n",
       "      <th>attribute1</th>\n",
       "      <th>attribute2</th>\n",
       "      <th>attribute3</th>\n",
       "      <th>attribute4</th>\n",
       "      <th>clickVolume</th>\n",
       "      <th>avgOriginalUnitPrice</th>\n",
       "      <th>avgFinalUnitPrice</th>\n",
       "      <th>ma14SalesVolume</th>\n",
       "      <th>weekday</th>\n",
       "      <th>meanAge</th>\n",
       "      <th>gender</th>\n",
       "      <th>meanEducation</th>\n",
       "      <th>maritalStatus</th>\n",
       "      <th>plus</th>\n",
       "      <th>meanPurchasePower</th>\n",
       "      <th>meanUserLevel</th>\n",
       "      <th>meanCityLevel</th>\n",
       "      <th>sales</th>\n",
       "    </tr>\n",
       "  </thead>\n",
       "  <tbody>\n",
       "    <tr>\n",
       "      <th>1</th>\n",
       "      <td>73</td>\n",
       "      <td>30</td>\n",
       "      <td>2</td>\n",
       "      <td>40</td>\n",
       "      <td>3</td>\n",
       "      <td>1.487173</td>\n",
       "      <td>1217</td>\n",
       "      <td>329.000000</td>\n",
       "      <td>146.111111</td>\n",
       "      <td>8.642857</td>\n",
       "      <td>5</td>\n",
       "      <td>30.000000</td>\n",
       "      <td>0.000000</td>\n",
       "      <td>3.333333</td>\n",
       "      <td>0.571429</td>\n",
       "      <td>0.333333</td>\n",
       "      <td>2.285714</td>\n",
       "      <td>3.000000</td>\n",
       "      <td>2.000000</td>\n",
       "      <td>9</td>\n",
       "    </tr>\n",
       "    <tr>\n",
       "      <th>12</th>\n",
       "      <td>92</td>\n",
       "      <td>22</td>\n",
       "      <td>3</td>\n",
       "      <td>60</td>\n",
       "      <td>4</td>\n",
       "      <td>18.322989</td>\n",
       "      <td>368</td>\n",
       "      <td>166.000000</td>\n",
       "      <td>159.000000</td>\n",
       "      <td>10.571429</td>\n",
       "      <td>6</td>\n",
       "      <td>36.666667</td>\n",
       "      <td>0.333333</td>\n",
       "      <td>3.333333</td>\n",
       "      <td>1.000000</td>\n",
       "      <td>1.000000</td>\n",
       "      <td>2.000000</td>\n",
       "      <td>3.000000</td>\n",
       "      <td>2.500000</td>\n",
       "      <td>3</td>\n",
       "    </tr>\n",
       "    <tr>\n",
       "      <th>14</th>\n",
       "      <td>60</td>\n",
       "      <td>2</td>\n",
       "      <td>3</td>\n",
       "      <td>60</td>\n",
       "      <td>3</td>\n",
       "      <td>6.634016</td>\n",
       "      <td>667</td>\n",
       "      <td>69.000000</td>\n",
       "      <td>49.171282</td>\n",
       "      <td>12.785714</td>\n",
       "      <td>3</td>\n",
       "      <td>29.310345</td>\n",
       "      <td>0.137931</td>\n",
       "      <td>3.178571</td>\n",
       "      <td>0.655172</td>\n",
       "      <td>0.275862</td>\n",
       "      <td>2.275862</td>\n",
       "      <td>2.793103</td>\n",
       "      <td>2.285714</td>\n",
       "      <td>39</td>\n",
       "    </tr>\n",
       "    <tr>\n",
       "      <th>25</th>\n",
       "      <td>92</td>\n",
       "      <td>22</td>\n",
       "      <td>3</td>\n",
       "      <td>60</td>\n",
       "      <td>3</td>\n",
       "      <td>35.501079</td>\n",
       "      <td>440</td>\n",
       "      <td>166.000000</td>\n",
       "      <td>166.000000</td>\n",
       "      <td>8.000000</td>\n",
       "      <td>5</td>\n",
       "      <td>30.000000</td>\n",
       "      <td>1.000000</td>\n",
       "      <td>2.333333</td>\n",
       "      <td>0.333333</td>\n",
       "      <td>0.000000</td>\n",
       "      <td>2.666667</td>\n",
       "      <td>2.000000</td>\n",
       "      <td>3.000000</td>\n",
       "      <td>3</td>\n",
       "    </tr>\n",
       "    <tr>\n",
       "      <th>26</th>\n",
       "      <td>22</td>\n",
       "      <td>23</td>\n",
       "      <td>1</td>\n",
       "      <td>60</td>\n",
       "      <td>6</td>\n",
       "      <td>25.625473</td>\n",
       "      <td>708</td>\n",
       "      <td>54.546538</td>\n",
       "      <td>29.354231</td>\n",
       "      <td>32.642857</td>\n",
       "      <td>4</td>\n",
       "      <td>30.666667</td>\n",
       "      <td>0.388889</td>\n",
       "      <td>2.888889</td>\n",
       "      <td>0.444444</td>\n",
       "      <td>0.263158</td>\n",
       "      <td>2.222222</td>\n",
       "      <td>3.157895</td>\n",
       "      <td>2.375000</td>\n",
       "      <td>26</td>\n",
       "    </tr>\n",
       "  </tbody>\n",
       "</table>\n",
       "</div>"
      ],
      "text/plain": [
       "    productID  brandID  attribute1  attribute2  attribute3  attribute4  \\\n",
       "1          73       30           2          40           3    1.487173   \n",
       "12         92       22           3          60           4   18.322989   \n",
       "14         60        2           3          60           3    6.634016   \n",
       "25         92       22           3          60           3   35.501079   \n",
       "26         22       23           1          60           6   25.625473   \n",
       "\n",
       "    clickVolume  avgOriginalUnitPrice  avgFinalUnitPrice  ma14SalesVolume  \\\n",
       "1          1217            329.000000         146.111111         8.642857   \n",
       "12          368            166.000000         159.000000        10.571429   \n",
       "14          667             69.000000          49.171282        12.785714   \n",
       "25          440            166.000000         166.000000         8.000000   \n",
       "26          708             54.546538          29.354231        32.642857   \n",
       "\n",
       "    weekday    meanAge    gender  meanEducation  maritalStatus      plus  \\\n",
       "1         5  30.000000  0.000000       3.333333       0.571429  0.333333   \n",
       "12        6  36.666667  0.333333       3.333333       1.000000  1.000000   \n",
       "14        3  29.310345  0.137931       3.178571       0.655172  0.275862   \n",
       "25        5  30.000000  1.000000       2.333333       0.333333  0.000000   \n",
       "26        4  30.666667  0.388889       2.888889       0.444444  0.263158   \n",
       "\n",
       "    meanPurchasePower  meanUserLevel  meanCityLevel  sales  \n",
       "1            2.285714       3.000000       2.000000      9  \n",
       "12           2.000000       3.000000       2.500000      3  \n",
       "14           2.275862       2.793103       2.285714     39  \n",
       "25           2.666667       2.000000       3.000000      3  \n",
       "26           2.222222       3.157895       2.375000     26  "
      ]
     },
     "execution_count": 4,
     "metadata": {},
     "output_type": "execute_result"
    }
   ],
   "source": [
    "g=df[df['Labels_4'] ==0]\n",
    "g=g.drop('Labels_4',axis=1)\n",
    "g.head()"
   ]
  },
  {
   "cell_type": "markdown",
   "id": "2fb751c1-bf72-416a-88fe-7737f8e2d082",
   "metadata": {},
   "source": [
    "### initilize the data"
   ]
  },
  {
   "cell_type": "code",
   "execution_count": 5,
   "id": "9a9676a9-994b-4b57-887b-7dc043a1148a",
   "metadata": {},
   "outputs": [
    {
     "data": {
      "text/html": [
       "<div>\n",
       "<style scoped>\n",
       "    .dataframe tbody tr th:only-of-type {\n",
       "        vertical-align: middle;\n",
       "    }\n",
       "\n",
       "    .dataframe tbody tr th {\n",
       "        vertical-align: top;\n",
       "    }\n",
       "\n",
       "    .dataframe thead th {\n",
       "        text-align: right;\n",
       "    }\n",
       "</style>\n",
       "<table border=\"1\" class=\"dataframe\">\n",
       "  <thead>\n",
       "    <tr style=\"text-align: right;\">\n",
       "      <th></th>\n",
       "      <th>productID</th>\n",
       "      <th>attribute1</th>\n",
       "      <th>attribute2</th>\n",
       "      <th>attribute3</th>\n",
       "      <th>attribute4</th>\n",
       "      <th>clickVolume</th>\n",
       "      <th>avgOriginalUnitPrice</th>\n",
       "      <th>avgFinalUnitPrice</th>\n",
       "      <th>ma14SalesVolume</th>\n",
       "      <th>meanAge</th>\n",
       "      <th>...</th>\n",
       "      <th>brandID_25</th>\n",
       "      <th>brandID_26</th>\n",
       "      <th>brandID_30</th>\n",
       "      <th>brandID_35</th>\n",
       "      <th>weekday_2</th>\n",
       "      <th>weekday_3</th>\n",
       "      <th>weekday_4</th>\n",
       "      <th>weekday_5</th>\n",
       "      <th>weekday_6</th>\n",
       "      <th>weekday_7</th>\n",
       "    </tr>\n",
       "  </thead>\n",
       "  <tbody>\n",
       "    <tr>\n",
       "      <th>0</th>\n",
       "      <td>2.447926</td>\n",
       "      <td>3.148577</td>\n",
       "      <td>5.706787</td>\n",
       "      <td>0.654415</td>\n",
       "      <td>0.084742</td>\n",
       "      <td>2.203531</td>\n",
       "      <td>4.872370</td>\n",
       "      <td>2.632100</td>\n",
       "      <td>0.537856</td>\n",
       "      <td>6.631068</td>\n",
       "      <td>...</td>\n",
       "      <td>0.0</td>\n",
       "      <td>0.0</td>\n",
       "      <td>6.240493</td>\n",
       "      <td>0.0</td>\n",
       "      <td>0.0</td>\n",
       "      <td>0.000000</td>\n",
       "      <td>0.000000</td>\n",
       "      <td>2.646635</td>\n",
       "      <td>0.000000</td>\n",
       "      <td>0.0</td>\n",
       "    </tr>\n",
       "    <tr>\n",
       "      <th>1</th>\n",
       "      <td>3.085057</td>\n",
       "      <td>4.722865</td>\n",
       "      <td>8.560181</td>\n",
       "      <td>0.872553</td>\n",
       "      <td>1.044084</td>\n",
       "      <td>0.666310</td>\n",
       "      <td>2.458400</td>\n",
       "      <td>2.864285</td>\n",
       "      <td>0.657873</td>\n",
       "      <td>8.104639</td>\n",
       "      <td>...</td>\n",
       "      <td>0.0</td>\n",
       "      <td>0.0</td>\n",
       "      <td>0.000000</td>\n",
       "      <td>0.0</td>\n",
       "      <td>0.0</td>\n",
       "      <td>0.000000</td>\n",
       "      <td>0.000000</td>\n",
       "      <td>0.000000</td>\n",
       "      <td>2.695187</td>\n",
       "      <td>0.0</td>\n",
       "    </tr>\n",
       "    <tr>\n",
       "      <th>2</th>\n",
       "      <td>2.011994</td>\n",
       "      <td>4.722865</td>\n",
       "      <td>8.560181</td>\n",
       "      <td>0.654415</td>\n",
       "      <td>0.378021</td>\n",
       "      <td>1.207687</td>\n",
       "      <td>1.021865</td>\n",
       "      <td>0.885790</td>\n",
       "      <td>0.795671</td>\n",
       "      <td>6.478630</td>\n",
       "      <td>...</td>\n",
       "      <td>0.0</td>\n",
       "      <td>0.0</td>\n",
       "      <td>0.000000</td>\n",
       "      <td>0.0</td>\n",
       "      <td>0.0</td>\n",
       "      <td>2.924836</td>\n",
       "      <td>0.000000</td>\n",
       "      <td>0.000000</td>\n",
       "      <td>0.000000</td>\n",
       "      <td>0.0</td>\n",
       "    </tr>\n",
       "    <tr>\n",
       "      <th>3</th>\n",
       "      <td>3.085057</td>\n",
       "      <td>4.722865</td>\n",
       "      <td>8.560181</td>\n",
       "      <td>0.654415</td>\n",
       "      <td>2.022930</td>\n",
       "      <td>0.796675</td>\n",
       "      <td>2.458400</td>\n",
       "      <td>2.990386</td>\n",
       "      <td>0.497850</td>\n",
       "      <td>6.631068</td>\n",
       "      <td>...</td>\n",
       "      <td>0.0</td>\n",
       "      <td>0.0</td>\n",
       "      <td>0.000000</td>\n",
       "      <td>0.0</td>\n",
       "      <td>0.0</td>\n",
       "      <td>0.000000</td>\n",
       "      <td>0.000000</td>\n",
       "      <td>2.646635</td>\n",
       "      <td>0.000000</td>\n",
       "      <td>0.0</td>\n",
       "    </tr>\n",
       "    <tr>\n",
       "      <th>4</th>\n",
       "      <td>0.737731</td>\n",
       "      <td>1.574288</td>\n",
       "      <td>8.560181</td>\n",
       "      <td>1.308830</td>\n",
       "      <td>1.460196</td>\n",
       "      <td>1.281923</td>\n",
       "      <td>0.807814</td>\n",
       "      <td>0.528798</td>\n",
       "      <td>2.031405</td>\n",
       "      <td>6.778425</td>\n",
       "      <td>...</td>\n",
       "      <td>0.0</td>\n",
       "      <td>0.0</td>\n",
       "      <td>0.000000</td>\n",
       "      <td>0.0</td>\n",
       "      <td>0.0</td>\n",
       "      <td>0.000000</td>\n",
       "      <td>2.788003</td>\n",
       "      <td>0.000000</td>\n",
       "      <td>0.000000</td>\n",
       "      <td>0.0</td>\n",
       "    </tr>\n",
       "  </tbody>\n",
       "</table>\n",
       "<p>5 rows × 38 columns</p>\n",
       "</div>"
      ],
      "text/plain": [
       "   productID  attribute1  attribute2  attribute3  attribute4  clickVolume  \\\n",
       "0   2.447926    3.148577    5.706787    0.654415    0.084742     2.203531   \n",
       "1   3.085057    4.722865    8.560181    0.872553    1.044084     0.666310   \n",
       "2   2.011994    4.722865    8.560181    0.654415    0.378021     1.207687   \n",
       "3   3.085057    4.722865    8.560181    0.654415    2.022930     0.796675   \n",
       "4   0.737731    1.574288    8.560181    1.308830    1.460196     1.281923   \n",
       "\n",
       "   avgOriginalUnitPrice  avgFinalUnitPrice  ma14SalesVolume   meanAge  ...  \\\n",
       "0              4.872370           2.632100         0.537856  6.631068  ...   \n",
       "1              2.458400           2.864285         0.657873  8.104639  ...   \n",
       "2              1.021865           0.885790         0.795671  6.478630  ...   \n",
       "3              2.458400           2.990386         0.497850  6.631068  ...   \n",
       "4              0.807814           0.528798         2.031405  6.778425  ...   \n",
       "\n",
       "   brandID_25  brandID_26  brandID_30  brandID_35  weekday_2  weekday_3  \\\n",
       "0         0.0         0.0    6.240493         0.0        0.0   0.000000   \n",
       "1         0.0         0.0    0.000000         0.0        0.0   0.000000   \n",
       "2         0.0         0.0    0.000000         0.0        0.0   2.924836   \n",
       "3         0.0         0.0    0.000000         0.0        0.0   0.000000   \n",
       "4         0.0         0.0    0.000000         0.0        0.0   0.000000   \n",
       "\n",
       "   weekday_4  weekday_5  weekday_6  weekday_7  \n",
       "0   0.000000   2.646635   0.000000        0.0  \n",
       "1   0.000000   0.000000   2.695187        0.0  \n",
       "2   0.000000   0.000000   0.000000        0.0  \n",
       "3   0.000000   2.646635   0.000000        0.0  \n",
       "4   2.788003   0.000000   0.000000        0.0  \n",
       "\n",
       "[5 rows x 38 columns]"
      ]
     },
     "execution_count": 5,
     "metadata": {},
     "output_type": "execute_result"
    }
   ],
   "source": [
    "x_stan,y =tk.initialize(g)\n",
    "x_stan.head()"
   ]
  },
  {
   "cell_type": "markdown",
   "id": "bb904ddf-1112-4b72-b812-0acbdc7eb984",
   "metadata": {},
   "source": [
    "### compare dimension and datasize"
   ]
  },
  {
   "cell_type": "code",
   "execution_count": 6,
   "id": "e9b87174-3057-4c5c-ae3b-a08f506398a8",
   "metadata": {},
   "outputs": [
    {
     "name": "stdout",
     "output_type": "stream",
     "text": [
      "910\n"
     ]
    }
   ],
   "source": [
    "l1=len(g)\n",
    "print(l1)"
   ]
  },
  {
   "cell_type": "code",
   "execution_count": 7,
   "id": "61d06bb1-2245-4793-9252-e65786cf6c1d",
   "metadata": {},
   "outputs": [
    {
     "data": {
      "text/plain": [
       "20"
      ]
     },
     "execution_count": 7,
     "metadata": {},
     "output_type": "execute_result"
    }
   ],
   "source": [
    "len(g.columns)"
   ]
  },
  {
   "cell_type": "markdown",
   "id": "17045d12-ed81-4851-92af-bd8be64844e6",
   "metadata": {},
   "source": [
    "n>>p"
   ]
  },
  {
   "cell_type": "markdown",
   "id": "00bc52eb-1067-456e-bb73-189311e80519",
   "metadata": {},
   "source": [
    "### Finding the best alpha "
   ]
  },
  {
   "cell_type": "code",
   "execution_count": 8,
   "id": "02a40585-b525-448e-8ae5-042b4d3d73eb",
   "metadata": {},
   "outputs": [
    {
     "data": {
      "image/png": "[encoded data removed]",
      "text/plain": [
       "<Figure size 432x288 with 1 Axes>"
      ]
     },
     "metadata": {
      "needs_background": "light"
     },
     "output_type": "display_data"
    }
   ],
   "source": [
    "tk.para_plot(10,g,800,1500)"
   ]
  },
  {
   "cell_type": "code",
   "execution_count": 9,
   "id": "79bc1379-02f3-431e-9711-55a82a94c789",
   "metadata": {},
   "outputs": [
    {
     "data": {
      "image/png": "[encoded data removed]",
      "text/plain": [
       "<Figure size 432x288 with 1 Axes>"
      ]
     },
     "metadata": {
      "needs_background": "light"
     },
     "output_type": "display_data"
    }
   ],
   "source": [
    "tk.para_plot(10,g,1112,1114)"
   ]
  },
  {
   "cell_type": "markdown",
   "id": "a36fe3a0-e715-4a9b-a747-9048fe84616f",
   "metadata": {},
   "source": [
    "### Compute the MSE for Group1"
   ]
  },
  {
   "cell_type": "markdown",
   "id": "a023ec65-f902-4ba4-b2da-36d003517280",
   "metadata": {},
   "source": [
    "the best alpha is 1113.2 for ridge_regression in Group1"
   ]
  },
  {
   "cell_type": "code",
   "execution_count": 10,
   "id": "ed1d77c4-feee-442d-81cd-f4dbf6fdb02c",
   "metadata": {},
   "outputs": [
    {
     "name": "stdout",
     "output_type": "stream",
     "text": [
      "165.28995475828702\n"
     ]
    }
   ],
   "source": [
    "MSE_g1=tk.CV4Ridge_lr(g,1113.2)\n",
    "print(MSE_g1)"
   ]
  },
  {
   "cell_type": "code",
   "execution_count": null,
   "id": "d570371e-cc71-4f17-ab9e-6d45ddba4d02",
   "metadata": {},
   "outputs": [],
   "source": []
  },
  {
   "cell_type": "markdown",
   "id": "96dfd033-0d54-4570-b6f3-c8d0399eeab7",
   "metadata": {},
   "source": [
    "## Product Group 2"
   ]
  },
  {
   "cell_type": "markdown",
   "id": "298cce5c-cd38-4eb7-bfcf-472c3823e02f",
   "metadata": {},
   "source": [
    "### choose group2"
   ]
  },
  {
   "cell_type": "code",
   "execution_count": 11,
   "id": "5a688ec7-efd6-4c57-b70c-1dfeed23bdf1",
   "metadata": {},
   "outputs": [
    {
     "data": {
      "text/html": [
       "<div>\n",
       "<style scoped>\n",
       "    .dataframe tbody tr th:only-of-type {\n",
       "        vertical-align: middle;\n",
       "    }\n",
       "\n",
       "    .dataframe tbody tr th {\n",
       "        vertical-align: top;\n",
       "    }\n",
       "\n",
       "    .dataframe thead th {\n",
       "        text-align: right;\n",
       "    }\n",
       "</style>\n",
       "<table border=\"1\" class=\"dataframe\">\n",
       "  <thead>\n",
       "    <tr style=\"text-align: right;\">\n",
       "      <th></th>\n",
       "      <th>productID</th>\n",
       "      <th>brandID</th>\n",
       "      <th>attribute1</th>\n",
       "      <th>attribute2</th>\n",
       "      <th>attribute3</th>\n",
       "      <th>attribute4</th>\n",
       "      <th>clickVolume</th>\n",
       "      <th>avgOriginalUnitPrice</th>\n",
       "      <th>avgFinalUnitPrice</th>\n",
       "      <th>ma14SalesVolume</th>\n",
       "      <th>weekday</th>\n",
       "      <th>meanAge</th>\n",
       "      <th>gender</th>\n",
       "      <th>meanEducation</th>\n",
       "      <th>maritalStatus</th>\n",
       "      <th>plus</th>\n",
       "      <th>meanPurchasePower</th>\n",
       "      <th>meanUserLevel</th>\n",
       "      <th>meanCityLevel</th>\n",
       "      <th>sales</th>\n",
       "    </tr>\n",
       "  </thead>\n",
       "  <tbody>\n",
       "    <tr>\n",
       "      <th>0</th>\n",
       "      <td>28</td>\n",
       "      <td>4</td>\n",
       "      <td>3</td>\n",
       "      <td>100</td>\n",
       "      <td>5</td>\n",
       "      <td>2.098131</td>\n",
       "      <td>749</td>\n",
       "      <td>58.870968</td>\n",
       "      <td>53.774194</td>\n",
       "      <td>24.642857</td>\n",
       "      <td>3</td>\n",
       "      <td>31.481481</td>\n",
       "      <td>0.370370</td>\n",
       "      <td>3.222222</td>\n",
       "      <td>0.555556</td>\n",
       "      <td>0.357143</td>\n",
       "      <td>2.259259</td>\n",
       "      <td>3.178571</td>\n",
       "      <td>1.884615</td>\n",
       "      <td>31</td>\n",
       "    </tr>\n",
       "    <tr>\n",
       "      <th>2</th>\n",
       "      <td>70</td>\n",
       "      <td>3</td>\n",
       "      <td>3</td>\n",
       "      <td>100</td>\n",
       "      <td>1</td>\n",
       "      <td>2.726300</td>\n",
       "      <td>3676</td>\n",
       "      <td>105.000000</td>\n",
       "      <td>64.797872</td>\n",
       "      <td>32.500000</td>\n",
       "      <td>2</td>\n",
       "      <td>32.027778</td>\n",
       "      <td>0.194444</td>\n",
       "      <td>3.073529</td>\n",
       "      <td>0.611940</td>\n",
       "      <td>0.320000</td>\n",
       "      <td>2.223881</td>\n",
       "      <td>2.866667</td>\n",
       "      <td>2.000000</td>\n",
       "      <td>94</td>\n",
       "    </tr>\n",
       "    <tr>\n",
       "      <th>3</th>\n",
       "      <td>69</td>\n",
       "      <td>35</td>\n",
       "      <td>3</td>\n",
       "      <td>100</td>\n",
       "      <td>2</td>\n",
       "      <td>2.831175</td>\n",
       "      <td>2685</td>\n",
       "      <td>246.482759</td>\n",
       "      <td>204.448276</td>\n",
       "      <td>43.714286</td>\n",
       "      <td>5</td>\n",
       "      <td>32.160000</td>\n",
       "      <td>0.280000</td>\n",
       "      <td>3.125000</td>\n",
       "      <td>0.480000</td>\n",
       "      <td>0.357143</td>\n",
       "      <td>2.160000</td>\n",
       "      <td>3.357143</td>\n",
       "      <td>1.833333</td>\n",
       "      <td>29</td>\n",
       "    </tr>\n",
       "    <tr>\n",
       "      <th>4</th>\n",
       "      <td>69</td>\n",
       "      <td>35</td>\n",
       "      <td>3</td>\n",
       "      <td>100</td>\n",
       "      <td>7</td>\n",
       "      <td>6.322161</td>\n",
       "      <td>777</td>\n",
       "      <td>250.000000</td>\n",
       "      <td>240.500000</td>\n",
       "      <td>43.000000</td>\n",
       "      <td>6</td>\n",
       "      <td>26.666667</td>\n",
       "      <td>0.000000</td>\n",
       "      <td>3.333333</td>\n",
       "      <td>0.000000</td>\n",
       "      <td>0.500000</td>\n",
       "      <td>2.000000</td>\n",
       "      <td>2.750000</td>\n",
       "      <td>1.333333</td>\n",
       "      <td>4</td>\n",
       "    </tr>\n",
       "    <tr>\n",
       "      <th>6</th>\n",
       "      <td>96</td>\n",
       "      <td>35</td>\n",
       "      <td>3</td>\n",
       "      <td>100</td>\n",
       "      <td>7</td>\n",
       "      <td>36.112149</td>\n",
       "      <td>313</td>\n",
       "      <td>180.000000</td>\n",
       "      <td>121.000000</td>\n",
       "      <td>5.357143</td>\n",
       "      <td>1</td>\n",
       "      <td>33.333333</td>\n",
       "      <td>0.000000</td>\n",
       "      <td>3.333333</td>\n",
       "      <td>0.666667</td>\n",
       "      <td>0.666667</td>\n",
       "      <td>3.000000</td>\n",
       "      <td>2.666667</td>\n",
       "      <td>2.666667</td>\n",
       "      <td>5</td>\n",
       "    </tr>\n",
       "  </tbody>\n",
       "</table>\n",
       "</div>"
      ],
      "text/plain": [
       "   productID  brandID  attribute1  attribute2  attribute3  attribute4  \\\n",
       "0         28        4           3         100           5    2.098131   \n",
       "2         70        3           3         100           1    2.726300   \n",
       "3         69       35           3         100           2    2.831175   \n",
       "4         69       35           3         100           7    6.322161   \n",
       "6         96       35           3         100           7   36.112149   \n",
       "\n",
       "   clickVolume  avgOriginalUnitPrice  avgFinalUnitPrice  ma14SalesVolume  \\\n",
       "0          749             58.870968          53.774194        24.642857   \n",
       "2         3676            105.000000          64.797872        32.500000   \n",
       "3         2685            246.482759         204.448276        43.714286   \n",
       "4          777            250.000000         240.500000        43.000000   \n",
       "6          313            180.000000         121.000000         5.357143   \n",
       "\n",
       "   weekday    meanAge    gender  meanEducation  maritalStatus      plus  \\\n",
       "0        3  31.481481  0.370370       3.222222       0.555556  0.357143   \n",
       "2        2  32.027778  0.194444       3.073529       0.611940  0.320000   \n",
       "3        5  32.160000  0.280000       3.125000       0.480000  0.357143   \n",
       "4        6  26.666667  0.000000       3.333333       0.000000  0.500000   \n",
       "6        1  33.333333  0.000000       3.333333       0.666667  0.666667   \n",
       "\n",
       "   meanPurchasePower  meanUserLevel  meanCityLevel  sales  \n",
       "0           2.259259       3.178571       1.884615     31  \n",
       "2           2.223881       2.866667       2.000000     94  \n",
       "3           2.160000       3.357143       1.833333     29  \n",
       "4           2.000000       2.750000       1.333333      4  \n",
       "6           3.000000       2.666667       2.666667      5  "
      ]
     },
     "execution_count": 11,
     "metadata": {},
     "output_type": "execute_result"
    }
   ],
   "source": [
    "g=df[df['Labels_4'] ==2]\n",
    "g=g.drop('Labels_4',axis=1)\n",
    "g.head()"
   ]
  },
  {
   "cell_type": "markdown",
   "id": "5b8f755d-f315-43f8-8869-d06613895825",
   "metadata": {},
   "source": [
    "### initilize the data"
   ]
  },
  {
   "cell_type": "code",
   "execution_count": 12,
   "id": "f868d821-5b48-4269-b8c9-8003116f7acb",
   "metadata": {},
   "outputs": [
    {
     "data": {
      "text/html": [
       "<div>\n",
       "<style scoped>\n",
       "    .dataframe tbody tr th:only-of-type {\n",
       "        vertical-align: middle;\n",
       "    }\n",
       "\n",
       "    .dataframe tbody tr th {\n",
       "        vertical-align: top;\n",
       "    }\n",
       "\n",
       "    .dataframe thead th {\n",
       "        text-align: right;\n",
       "    }\n",
       "</style>\n",
       "<table border=\"1\" class=\"dataframe\">\n",
       "  <thead>\n",
       "    <tr style=\"text-align: right;\">\n",
       "      <th></th>\n",
       "      <th>productID</th>\n",
       "      <th>attribute1</th>\n",
       "      <th>attribute2</th>\n",
       "      <th>attribute3</th>\n",
       "      <th>attribute4</th>\n",
       "      <th>clickVolume</th>\n",
       "      <th>avgOriginalUnitPrice</th>\n",
       "      <th>avgFinalUnitPrice</th>\n",
       "      <th>ma14SalesVolume</th>\n",
       "      <th>meanAge</th>\n",
       "      <th>...</th>\n",
       "      <th>brandID_26</th>\n",
       "      <th>brandID_28</th>\n",
       "      <th>brandID_35</th>\n",
       "      <th>brandID_36</th>\n",
       "      <th>weekday_2</th>\n",
       "      <th>weekday_3</th>\n",
       "      <th>weekday_4</th>\n",
       "      <th>weekday_5</th>\n",
       "      <th>weekday_6</th>\n",
       "      <th>weekday_7</th>\n",
       "    </tr>\n",
       "  </thead>\n",
       "  <tbody>\n",
       "    <tr>\n",
       "      <th>0</th>\n",
       "      <td>0.930193</td>\n",
       "      <td>6.410959</td>\n",
       "      <td>31.372798</td>\n",
       "      <td>1.057051</td>\n",
       "      <td>0.106870</td>\n",
       "      <td>0.501264</td>\n",
       "      <td>0.757466</td>\n",
       "      <td>0.931132</td>\n",
       "      <td>1.052633</td>\n",
       "      <td>6.866756</td>\n",
       "      <td>...</td>\n",
       "      <td>0.0</td>\n",
       "      <td>0.0</td>\n",
       "      <td>0.000000</td>\n",
       "      <td>0.0</td>\n",
       "      <td>0.000000</td>\n",
       "      <td>2.956017</td>\n",
       "      <td>0.0</td>\n",
       "      <td>0.000000</td>\n",
       "      <td>0.000000</td>\n",
       "      <td>0.0</td>\n",
       "    </tr>\n",
       "    <tr>\n",
       "      <th>1</th>\n",
       "      <td>2.325483</td>\n",
       "      <td>6.410959</td>\n",
       "      <td>31.372798</td>\n",
       "      <td>0.211410</td>\n",
       "      <td>0.138867</td>\n",
       "      <td>2.460143</td>\n",
       "      <td>1.350988</td>\n",
       "      <td>1.122014</td>\n",
       "      <td>1.388255</td>\n",
       "      <td>6.985914</td>\n",
       "      <td>...</td>\n",
       "      <td>0.0</td>\n",
       "      <td>0.0</td>\n",
       "      <td>0.000000</td>\n",
       "      <td>0.0</td>\n",
       "      <td>3.023716</td>\n",
       "      <td>0.000000</td>\n",
       "      <td>0.0</td>\n",
       "      <td>0.000000</td>\n",
       "      <td>0.000000</td>\n",
       "      <td>0.0</td>\n",
       "    </tr>\n",
       "    <tr>\n",
       "      <th>2</th>\n",
       "      <td>2.292262</td>\n",
       "      <td>6.410959</td>\n",
       "      <td>31.372798</td>\n",
       "      <td>0.422821</td>\n",
       "      <td>0.144209</td>\n",
       "      <td>1.796922</td>\n",
       "      <td>3.171382</td>\n",
       "      <td>3.540144</td>\n",
       "      <td>1.867279</td>\n",
       "      <td>7.014755</td>\n",
       "      <td>...</td>\n",
       "      <td>0.0</td>\n",
       "      <td>0.0</td>\n",
       "      <td>3.047629</td>\n",
       "      <td>0.0</td>\n",
       "      <td>0.000000</td>\n",
       "      <td>0.000000</td>\n",
       "      <td>0.0</td>\n",
       "      <td>2.710697</td>\n",
       "      <td>0.000000</td>\n",
       "      <td>0.0</td>\n",
       "    </tr>\n",
       "    <tr>\n",
       "      <th>3</th>\n",
       "      <td>2.292262</td>\n",
       "      <td>6.410959</td>\n",
       "      <td>31.372798</td>\n",
       "      <td>1.479872</td>\n",
       "      <td>0.322025</td>\n",
       "      <td>0.520003</td>\n",
       "      <td>3.216637</td>\n",
       "      <td>4.164401</td>\n",
       "      <td>1.836768</td>\n",
       "      <td>5.816546</td>\n",
       "      <td>...</td>\n",
       "      <td>0.0</td>\n",
       "      <td>0.0</td>\n",
       "      <td>3.047629</td>\n",
       "      <td>0.0</td>\n",
       "      <td>0.000000</td>\n",
       "      <td>0.000000</td>\n",
       "      <td>0.0</td>\n",
       "      <td>0.000000</td>\n",
       "      <td>2.734027</td>\n",
       "      <td>0.0</td>\n",
       "    </tr>\n",
       "    <tr>\n",
       "      <th>4</th>\n",
       "      <td>3.189234</td>\n",
       "      <td>6.410959</td>\n",
       "      <td>31.372798</td>\n",
       "      <td>1.479872</td>\n",
       "      <td>1.839406</td>\n",
       "      <td>0.209474</td>\n",
       "      <td>2.315979</td>\n",
       "      <td>2.095187</td>\n",
       "      <td>0.228833</td>\n",
       "      <td>7.270683</td>\n",
       "      <td>...</td>\n",
       "      <td>0.0</td>\n",
       "      <td>0.0</td>\n",
       "      <td>3.047629</td>\n",
       "      <td>0.0</td>\n",
       "      <td>0.000000</td>\n",
       "      <td>0.000000</td>\n",
       "      <td>0.0</td>\n",
       "      <td>0.000000</td>\n",
       "      <td>0.000000</td>\n",
       "      <td>0.0</td>\n",
       "    </tr>\n",
       "  </tbody>\n",
       "</table>\n",
       "<p>5 rows × 38 columns</p>\n",
       "</div>"
      ],
      "text/plain": [
       "   productID  attribute1  attribute2  attribute3  attribute4  clickVolume  \\\n",
       "0   0.930193    6.410959   31.372798    1.057051    0.106870     0.501264   \n",
       "1   2.325483    6.410959   31.372798    0.211410    0.138867     2.460143   \n",
       "2   2.292262    6.410959   31.372798    0.422821    0.144209     1.796922   \n",
       "3   2.292262    6.410959   31.372798    1.479872    0.322025     0.520003   \n",
       "4   3.189234    6.410959   31.372798    1.479872    1.839406     0.209474   \n",
       "\n",
       "   avgOriginalUnitPrice  avgFinalUnitPrice  ma14SalesVolume   meanAge  ...  \\\n",
       "0              0.757466           0.931132         1.052633  6.866756  ...   \n",
       "1              1.350988           1.122014         1.388255  6.985914  ...   \n",
       "2              3.171382           3.540144         1.867279  7.014755  ...   \n",
       "3              3.216637           4.164401         1.836768  5.816546  ...   \n",
       "4              2.315979           2.095187         0.228833  7.270683  ...   \n",
       "\n",
       "   brandID_26  brandID_28  brandID_35  brandID_36  weekday_2  weekday_3  \\\n",
       "0         0.0         0.0    0.000000         0.0   0.000000   2.956017   \n",
       "1         0.0         0.0    0.000000         0.0   3.023716   0.000000   \n",
       "2         0.0         0.0    3.047629         0.0   0.000000   0.000000   \n",
       "3         0.0         0.0    3.047629         0.0   0.000000   0.000000   \n",
       "4         0.0         0.0    3.047629         0.0   0.000000   0.000000   \n",
       "\n",
       "   weekday_4  weekday_5  weekday_6  weekday_7  \n",
       "0        0.0   0.000000   0.000000        0.0  \n",
       "1        0.0   0.000000   0.000000        0.0  \n",
       "2        0.0   2.710697   0.000000        0.0  \n",
       "3        0.0   0.000000   2.734027        0.0  \n",
       "4        0.0   0.000000   0.000000        0.0  \n",
       "\n",
       "[5 rows x 38 columns]"
      ]
     },
     "execution_count": 12,
     "metadata": {},
     "output_type": "execute_result"
    }
   ],
   "source": [
    "x_stan,y =tk.initialize(g)\n",
    "x_stan.head()"
   ]
  },
  {
   "cell_type": "markdown",
   "id": "4df477ba-a269-4ce5-8580-600af4c5baa7",
   "metadata": {},
   "source": [
    "### compare dimension and datasize"
   ]
  },
  {
   "cell_type": "code",
   "execution_count": 13,
   "id": "e1701801-4519-40b4-9f88-69698b256ce6",
   "metadata": {},
   "outputs": [
    {
     "name": "stdout",
     "output_type": "stream",
     "text": [
      "880\n"
     ]
    }
   ],
   "source": [
    "l2=len(g)\n",
    "print(l2)"
   ]
  },
  {
   "cell_type": "code",
   "execution_count": 14,
   "id": "0217185a-4667-4151-9d5e-c677df2afa48",
   "metadata": {},
   "outputs": [
    {
     "data": {
      "text/plain": [
       "20"
      ]
     },
     "execution_count": 14,
     "metadata": {},
     "output_type": "execute_result"
    }
   ],
   "source": [
    "len(g.columns)"
   ]
  },
  {
   "cell_type": "markdown",
   "id": "3088daa8-daad-45c8-b5a2-eca738278659",
   "metadata": {},
   "source": [
    "n>>p"
   ]
  },
  {
   "cell_type": "markdown",
   "id": "486d7387-1bf8-40ff-a009-726fa4854d88",
   "metadata": {},
   "source": [
    "### Finding the best alpha "
   ]
  },
  {
   "cell_type": "code",
   "execution_count": 15,
   "id": "f809b310-9e5b-45c4-95ec-9fc53731da07",
   "metadata": {},
   "outputs": [
    {
     "data": {
      "image/png": "[encoded data removed]",
      "text/plain": [
       "<Figure size 432x288 with 1 Axes>"
      ]
     },
     "metadata": {
      "needs_background": "light"
     },
     "output_type": "display_data"
    }
   ],
   "source": [
    "tk.para_plot(10,g,200,400)"
   ]
  },
  {
   "cell_type": "code",
   "execution_count": 16,
   "id": "0a954aa0-dfe8-4358-b9bb-bd3dcb319fcc",
   "metadata": {},
   "outputs": [
    {
     "data": {
      "image/png": "[encoded data removed]",
      "text/plain": [
       "<Figure size 432x288 with 1 Axes>"
      ]
     },
     "metadata": {
      "needs_background": "light"
     },
     "output_type": "display_data"
    }
   ],
   "source": [
    "tk.para_plot(10,g,263,263.5)"
   ]
  },
  {
   "cell_type": "markdown",
   "id": "ca653da4-7d21-49bf-bacc-85e4d0100485",
   "metadata": {},
   "source": [
    "### Compute the MSE for Group2"
   ]
  },
  {
   "cell_type": "markdown",
   "id": "baec982f-225e-4413-a1bb-f717db10af7e",
   "metadata": {},
   "source": [
    "the best alpha is 263.1 for ridge_regression in Group2"
   ]
  },
  {
   "cell_type": "code",
   "execution_count": 17,
   "id": "96b8591d-c020-45b9-9529-4356a872a9ba",
   "metadata": {},
   "outputs": [
    {
     "name": "stdout",
     "output_type": "stream",
     "text": [
      "291.00675109748573\n"
     ]
    }
   ],
   "source": [
    "MSE_g2=tk.CV4Ridge_lr(g,263.1)\n",
    "print(MSE_g2)"
   ]
  },
  {
   "cell_type": "code",
   "execution_count": null,
   "id": "33426b3e-fa8f-4a00-beba-3b5f9534ee5f",
   "metadata": {},
   "outputs": [],
   "source": []
  },
  {
   "cell_type": "markdown",
   "id": "77b5faf0-d14c-45da-98a6-c927d5bfde80",
   "metadata": {},
   "source": [
    "## Product Group 3"
   ]
  },
  {
   "cell_type": "markdown",
   "id": "e9d04918-6f33-49ae-91ee-e5f5a7738a8e",
   "metadata": {},
   "source": [
    "### choose group3"
   ]
  },
  {
   "cell_type": "code",
   "execution_count": 18,
   "id": "1519428a-328a-47db-857f-4d22af8701f9",
   "metadata": {},
   "outputs": [
    {
     "data": {
      "text/html": [
       "<div>\n",
       "<style scoped>\n",
       "    .dataframe tbody tr th:only-of-type {\n",
       "        vertical-align: middle;\n",
       "    }\n",
       "\n",
       "    .dataframe tbody tr th {\n",
       "        vertical-align: top;\n",
       "    }\n",
       "\n",
       "    .dataframe thead th {\n",
       "        text-align: right;\n",
       "    }\n",
       "</style>\n",
       "<table border=\"1\" class=\"dataframe\">\n",
       "  <thead>\n",
       "    <tr style=\"text-align: right;\">\n",
       "      <th></th>\n",
       "      <th>productID</th>\n",
       "      <th>brandID</th>\n",
       "      <th>attribute1</th>\n",
       "      <th>attribute2</th>\n",
       "      <th>attribute3</th>\n",
       "      <th>attribute4</th>\n",
       "      <th>clickVolume</th>\n",
       "      <th>avgOriginalUnitPrice</th>\n",
       "      <th>avgFinalUnitPrice</th>\n",
       "      <th>ma14SalesVolume</th>\n",
       "      <th>weekday</th>\n",
       "      <th>meanAge</th>\n",
       "      <th>gender</th>\n",
       "      <th>meanEducation</th>\n",
       "      <th>maritalStatus</th>\n",
       "      <th>plus</th>\n",
       "      <th>meanPurchasePower</th>\n",
       "      <th>meanUserLevel</th>\n",
       "      <th>meanCityLevel</th>\n",
       "      <th>sales</th>\n",
       "    </tr>\n",
       "  </thead>\n",
       "  <tbody>\n",
       "    <tr>\n",
       "      <th>5</th>\n",
       "      <td>6</td>\n",
       "      <td>26</td>\n",
       "      <td>3</td>\n",
       "      <td>70</td>\n",
       "      <td>7</td>\n",
       "      <td>5.780666</td>\n",
       "      <td>883</td>\n",
       "      <td>134.18</td>\n",
       "      <td>107.478667</td>\n",
       "      <td>42.214286</td>\n",
       "      <td>5</td>\n",
       "      <td>32.000000</td>\n",
       "      <td>0.100000</td>\n",
       "      <td>2.90</td>\n",
       "      <td>0.200000</td>\n",
       "      <td>0.142857</td>\n",
       "      <td>2.100000</td>\n",
       "      <td>3.714286</td>\n",
       "      <td>2.111111</td>\n",
       "      <td>15</td>\n",
       "    </tr>\n",
       "    <tr>\n",
       "      <th>13</th>\n",
       "      <td>68</td>\n",
       "      <td>36</td>\n",
       "      <td>3</td>\n",
       "      <td>70</td>\n",
       "      <td>17</td>\n",
       "      <td>3.853880</td>\n",
       "      <td>1357</td>\n",
       "      <td>154.00</td>\n",
       "      <td>131.887500</td>\n",
       "      <td>5.714286</td>\n",
       "      <td>6</td>\n",
       "      <td>35.000000</td>\n",
       "      <td>0.000000</td>\n",
       "      <td>3.25</td>\n",
       "      <td>0.750000</td>\n",
       "      <td>0.250000</td>\n",
       "      <td>2.500000</td>\n",
       "      <td>6.625000</td>\n",
       "      <td>1.500000</td>\n",
       "      <td>8</td>\n",
       "    </tr>\n",
       "    <tr>\n",
       "      <th>15</th>\n",
       "      <td>99</td>\n",
       "      <td>31</td>\n",
       "      <td>3</td>\n",
       "      <td>70</td>\n",
       "      <td>7</td>\n",
       "      <td>5.800680</td>\n",
       "      <td>93</td>\n",
       "      <td>68.00</td>\n",
       "      <td>34.000000</td>\n",
       "      <td>4.428571</td>\n",
       "      <td>6</td>\n",
       "      <td>30.000000</td>\n",
       "      <td>0.000000</td>\n",
       "      <td>3.00</td>\n",
       "      <td>1.000000</td>\n",
       "      <td>0.000000</td>\n",
       "      <td>2.000000</td>\n",
       "      <td>3.000000</td>\n",
       "      <td>2.000000</td>\n",
       "      <td>1</td>\n",
       "    </tr>\n",
       "    <tr>\n",
       "      <th>18</th>\n",
       "      <td>99</td>\n",
       "      <td>31</td>\n",
       "      <td>3</td>\n",
       "      <td>70</td>\n",
       "      <td>1</td>\n",
       "      <td>35.525149</td>\n",
       "      <td>1235</td>\n",
       "      <td>68.00</td>\n",
       "      <td>36.440476</td>\n",
       "      <td>1.714286</td>\n",
       "      <td>3</td>\n",
       "      <td>36.258065</td>\n",
       "      <td>0.258065</td>\n",
       "      <td>3.20</td>\n",
       "      <td>0.551724</td>\n",
       "      <td>0.225806</td>\n",
       "      <td>2.310345</td>\n",
       "      <td>2.838710</td>\n",
       "      <td>2.407407</td>\n",
       "      <td>42</td>\n",
       "    </tr>\n",
       "    <tr>\n",
       "      <th>20</th>\n",
       "      <td>99</td>\n",
       "      <td>31</td>\n",
       "      <td>3</td>\n",
       "      <td>70</td>\n",
       "      <td>2</td>\n",
       "      <td>7.264119</td>\n",
       "      <td>461</td>\n",
       "      <td>68.00</td>\n",
       "      <td>45.666667</td>\n",
       "      <td>1.785714</td>\n",
       "      <td>2</td>\n",
       "      <td>30.000000</td>\n",
       "      <td>0.000000</td>\n",
       "      <td>3.00</td>\n",
       "      <td>1.000000</td>\n",
       "      <td>0.000000</td>\n",
       "      <td>2.333333</td>\n",
       "      <td>2.333333</td>\n",
       "      <td>2.500000</td>\n",
       "      <td>3</td>\n",
       "    </tr>\n",
       "  </tbody>\n",
       "</table>\n",
       "</div>"
      ],
      "text/plain": [
       "    productID  brandID  attribute1  attribute2  attribute3  attribute4  \\\n",
       "5           6       26           3          70           7    5.780666   \n",
       "13         68       36           3          70          17    3.853880   \n",
       "15         99       31           3          70           7    5.800680   \n",
       "18         99       31           3          70           1   35.525149   \n",
       "20         99       31           3          70           2    7.264119   \n",
       "\n",
       "    clickVolume  avgOriginalUnitPrice  avgFinalUnitPrice  ma14SalesVolume  \\\n",
       "5           883                134.18         107.478667        42.214286   \n",
       "13         1357                154.00         131.887500         5.714286   \n",
       "15           93                 68.00          34.000000         4.428571   \n",
       "18         1235                 68.00          36.440476         1.714286   \n",
       "20          461                 68.00          45.666667         1.785714   \n",
       "\n",
       "    weekday    meanAge    gender  meanEducation  maritalStatus      plus  \\\n",
       "5         5  32.000000  0.100000           2.90       0.200000  0.142857   \n",
       "13        6  35.000000  0.000000           3.25       0.750000  0.250000   \n",
       "15        6  30.000000  0.000000           3.00       1.000000  0.000000   \n",
       "18        3  36.258065  0.258065           3.20       0.551724  0.225806   \n",
       "20        2  30.000000  0.000000           3.00       1.000000  0.000000   \n",
       "\n",
       "    meanPurchasePower  meanUserLevel  meanCityLevel  sales  \n",
       "5            2.100000       3.714286       2.111111     15  \n",
       "13           2.500000       6.625000       1.500000      8  \n",
       "15           2.000000       3.000000       2.000000      1  \n",
       "18           2.310345       2.838710       2.407407     42  \n",
       "20           2.333333       2.333333       2.500000      3  "
      ]
     },
     "execution_count": 18,
     "metadata": {},
     "output_type": "execute_result"
    }
   ],
   "source": [
    "g=df[df['Labels_4'] ==3]\n",
    "g=g.drop('Labels_4',axis=1)\n",
    "g.head()"
   ]
  },
  {
   "cell_type": "markdown",
   "id": "e3360c59-0f7b-4b6b-80db-277284f9b55f",
   "metadata": {},
   "source": [
    "### initilize the data"
   ]
  },
  {
   "cell_type": "code",
   "execution_count": 19,
   "id": "06c1d6f7-5ea4-4bff-8132-3311f1771a94",
   "metadata": {},
   "outputs": [
    {
     "data": {
      "text/html": [
       "<div>\n",
       "<style scoped>\n",
       "    .dataframe tbody tr th:only-of-type {\n",
       "        vertical-align: middle;\n",
       "    }\n",
       "\n",
       "    .dataframe tbody tr th {\n",
       "        vertical-align: top;\n",
       "    }\n",
       "\n",
       "    .dataframe thead th {\n",
       "        text-align: right;\n",
       "    }\n",
       "</style>\n",
       "<table border=\"1\" class=\"dataframe\">\n",
       "  <thead>\n",
       "    <tr style=\"text-align: right;\">\n",
       "      <th></th>\n",
       "      <th>productID</th>\n",
       "      <th>attribute1</th>\n",
       "      <th>attribute2</th>\n",
       "      <th>attribute3</th>\n",
       "      <th>attribute4</th>\n",
       "      <th>clickVolume</th>\n",
       "      <th>avgOriginalUnitPrice</th>\n",
       "      <th>avgFinalUnitPrice</th>\n",
       "      <th>ma14SalesVolume</th>\n",
       "      <th>meanAge</th>\n",
       "      <th>...</th>\n",
       "      <th>brandID_27</th>\n",
       "      <th>brandID_31</th>\n",
       "      <th>brandID_32</th>\n",
       "      <th>brandID_36</th>\n",
       "      <th>weekday_2</th>\n",
       "      <th>weekday_3</th>\n",
       "      <th>weekday_4</th>\n",
       "      <th>weekday_5</th>\n",
       "      <th>weekday_6</th>\n",
       "      <th>weekday_7</th>\n",
       "    </tr>\n",
       "  </thead>\n",
       "  <tbody>\n",
       "    <tr>\n",
       "      <th>0</th>\n",
       "      <td>0.218029</td>\n",
       "      <td>9.224266</td>\n",
       "      <td>14.46653</td>\n",
       "      <td>1.567270</td>\n",
       "      <td>0.331763</td>\n",
       "      <td>1.005894</td>\n",
       "      <td>2.926644</td>\n",
       "      <td>2.495542</td>\n",
       "      <td>1.664891</td>\n",
       "      <td>7.293238</td>\n",
       "      <td>...</td>\n",
       "      <td>0.0</td>\n",
       "      <td>0.000000</td>\n",
       "      <td>0.0</td>\n",
       "      <td>0.000000</td>\n",
       "      <td>0.000000</td>\n",
       "      <td>0.000000</td>\n",
       "      <td>0.0</td>\n",
       "      <td>2.687392</td>\n",
       "      <td>0.000000</td>\n",
       "      <td>0.0</td>\n",
       "    </tr>\n",
       "    <tr>\n",
       "      <th>1</th>\n",
       "      <td>2.470992</td>\n",
       "      <td>9.224266</td>\n",
       "      <td>14.46653</td>\n",
       "      <td>3.806226</td>\n",
       "      <td>0.221181</td>\n",
       "      <td>1.545864</td>\n",
       "      <td>3.358945</td>\n",
       "      <td>3.062289</td>\n",
       "      <td>0.225366</td>\n",
       "      <td>7.976979</td>\n",
       "      <td>...</td>\n",
       "      <td>0.0</td>\n",
       "      <td>0.000000</td>\n",
       "      <td>0.0</td>\n",
       "      <td>3.903606</td>\n",
       "      <td>0.000000</td>\n",
       "      <td>0.000000</td>\n",
       "      <td>0.0</td>\n",
       "      <td>0.000000</td>\n",
       "      <td>2.687392</td>\n",
       "      <td>0.0</td>\n",
       "    </tr>\n",
       "    <tr>\n",
       "      <th>2</th>\n",
       "      <td>3.597473</td>\n",
       "      <td>9.224266</td>\n",
       "      <td>14.46653</td>\n",
       "      <td>1.567270</td>\n",
       "      <td>0.332912</td>\n",
       "      <td>0.105944</td>\n",
       "      <td>1.483170</td>\n",
       "      <td>0.789444</td>\n",
       "      <td>0.174659</td>\n",
       "      <td>6.837410</td>\n",
       "      <td>...</td>\n",
       "      <td>0.0</td>\n",
       "      <td>2.904663</td>\n",
       "      <td>0.0</td>\n",
       "      <td>0.000000</td>\n",
       "      <td>0.000000</td>\n",
       "      <td>0.000000</td>\n",
       "      <td>0.0</td>\n",
       "      <td>0.000000</td>\n",
       "      <td>2.687392</td>\n",
       "      <td>0.0</td>\n",
       "    </tr>\n",
       "    <tr>\n",
       "      <th>3</th>\n",
       "      <td>3.597473</td>\n",
       "      <td>9.224266</td>\n",
       "      <td>14.46653</td>\n",
       "      <td>0.223896</td>\n",
       "      <td>2.038853</td>\n",
       "      <td>1.406884</td>\n",
       "      <td>1.483170</td>\n",
       "      <td>0.846110</td>\n",
       "      <td>0.067610</td>\n",
       "      <td>8.263709</td>\n",
       "      <td>...</td>\n",
       "      <td>0.0</td>\n",
       "      <td>2.904663</td>\n",
       "      <td>0.0</td>\n",
       "      <td>0.000000</td>\n",
       "      <td>0.000000</td>\n",
       "      <td>2.939371</td>\n",
       "      <td>0.0</td>\n",
       "      <td>0.000000</td>\n",
       "      <td>0.000000</td>\n",
       "      <td>0.0</td>\n",
       "    </tr>\n",
       "    <tr>\n",
       "      <th>4</th>\n",
       "      <td>3.597473</td>\n",
       "      <td>9.224266</td>\n",
       "      <td>14.46653</td>\n",
       "      <td>0.447791</td>\n",
       "      <td>0.416901</td>\n",
       "      <td>0.525161</td>\n",
       "      <td>1.483170</td>\n",
       "      <td>1.060332</td>\n",
       "      <td>0.070427</td>\n",
       "      <td>6.837410</td>\n",
       "      <td>...</td>\n",
       "      <td>0.0</td>\n",
       "      <td>2.904663</td>\n",
       "      <td>0.0</td>\n",
       "      <td>0.000000</td>\n",
       "      <td>2.887896</td>\n",
       "      <td>0.000000</td>\n",
       "      <td>0.0</td>\n",
       "      <td>0.000000</td>\n",
       "      <td>0.000000</td>\n",
       "      <td>0.0</td>\n",
       "    </tr>\n",
       "  </tbody>\n",
       "</table>\n",
       "<p>5 rows × 31 columns</p>\n",
       "</div>"
      ],
      "text/plain": [
       "   productID  attribute1  attribute2  attribute3  attribute4  clickVolume  \\\n",
       "0   0.218029    9.224266    14.46653    1.567270    0.331763     1.005894   \n",
       "1   2.470992    9.224266    14.46653    3.806226    0.221181     1.545864   \n",
       "2   3.597473    9.224266    14.46653    1.567270    0.332912     0.105944   \n",
       "3   3.597473    9.224266    14.46653    0.223896    2.038853     1.406884   \n",
       "4   3.597473    9.224266    14.46653    0.447791    0.416901     0.525161   \n",
       "\n",
       "   avgOriginalUnitPrice  avgFinalUnitPrice  ma14SalesVolume   meanAge  ...  \\\n",
       "0              2.926644           2.495542         1.664891  7.293238  ...   \n",
       "1              3.358945           3.062289         0.225366  7.976979  ...   \n",
       "2              1.483170           0.789444         0.174659  6.837410  ...   \n",
       "3              1.483170           0.846110         0.067610  8.263709  ...   \n",
       "4              1.483170           1.060332         0.070427  6.837410  ...   \n",
       "\n",
       "   brandID_27  brandID_31  brandID_32  brandID_36  weekday_2  weekday_3  \\\n",
       "0         0.0    0.000000         0.0    0.000000   0.000000   0.000000   \n",
       "1         0.0    0.000000         0.0    3.903606   0.000000   0.000000   \n",
       "2         0.0    2.904663         0.0    0.000000   0.000000   0.000000   \n",
       "3         0.0    2.904663         0.0    0.000000   0.000000   2.939371   \n",
       "4         0.0    2.904663         0.0    0.000000   2.887896   0.000000   \n",
       "\n",
       "   weekday_4  weekday_5  weekday_6  weekday_7  \n",
       "0        0.0   2.687392   0.000000        0.0  \n",
       "1        0.0   0.000000   2.687392        0.0  \n",
       "2        0.0   0.000000   2.687392        0.0  \n",
       "3        0.0   0.000000   0.000000        0.0  \n",
       "4        0.0   0.000000   0.000000        0.0  \n",
       "\n",
       "[5 rows x 31 columns]"
      ]
     },
     "execution_count": 19,
     "metadata": {},
     "output_type": "execute_result"
    }
   ],
   "source": [
    "x_stan,y =tk.initialize(g)\n",
    "x_stan.head()"
   ]
  },
  {
   "cell_type": "markdown",
   "id": "f3219896-6d86-45a7-9f5b-4b0843cf733d",
   "metadata": {},
   "source": [
    "### compare dimension and datasize"
   ]
  },
  {
   "cell_type": "code",
   "execution_count": 20,
   "id": "55bb091c-8d66-4552-b652-f5263df7202d",
   "metadata": {},
   "outputs": [
    {
     "name": "stdout",
     "output_type": "stream",
     "text": [
      "524\n"
     ]
    }
   ],
   "source": [
    "l3=len(g)\n",
    "print(l3)"
   ]
  },
  {
   "cell_type": "code",
   "execution_count": 21,
   "id": "c4aecab4-61f7-41d6-9f88-3c188e6334f6",
   "metadata": {},
   "outputs": [
    {
     "data": {
      "text/plain": [
       "20"
      ]
     },
     "execution_count": 21,
     "metadata": {},
     "output_type": "execute_result"
    }
   ],
   "source": [
    "len(g.columns)"
   ]
  },
  {
   "cell_type": "markdown",
   "id": "a29cd31b-014d-43c2-a9bb-14fb77784f3c",
   "metadata": {},
   "source": [
    "n>>p"
   ]
  },
  {
   "cell_type": "markdown",
   "id": "ae8e6766-c234-4ede-a61d-bd577503d54e",
   "metadata": {},
   "source": [
    "### Finding the best alpha "
   ]
  },
  {
   "cell_type": "code",
   "execution_count": 22,
   "id": "1a42283b-af99-4ca5-b25b-870dbd077fd4",
   "metadata": {},
   "outputs": [
    {
     "data": {
      "image/png": "[encoded data removed]",
      "text/plain": [
       "<Figure size 432x288 with 1 Axes>"
      ]
     },
     "metadata": {
      "needs_background": "light"
     },
     "output_type": "display_data"
    }
   ],
   "source": [
    "tk.para_plot(10,g,0.001,0.002)"
   ]
  },
  {
   "cell_type": "code",
   "execution_count": 23,
   "id": "d79b001b-dd76-47d0-ba87-440f7826cece",
   "metadata": {},
   "outputs": [
    {
     "data": {
      "image/png": "[encoded data removed]",
      "text/plain": [
       "<Figure size 432x288 with 1 Axes>"
      ]
     },
     "metadata": {
      "needs_background": "light"
     },
     "output_type": "display_data"
    }
   ],
   "source": [
    "tk.para_plot(10,g,263,263.5)"
   ]
  },
  {
   "cell_type": "markdown",
   "id": "c06db862-7b25-47d2-bbca-7296f1f7661c",
   "metadata": {},
   "source": [
    "### Compute the MSE for Group2"
   ]
  },
  {
   "cell_type": "markdown",
   "id": "858d5f50-c2a5-449d-af3b-892cd5f65f5c",
   "metadata": {},
   "source": [
    "the best alpha is 263.1 for ridge_regression in Group2"
   ]
  },
  {
   "cell_type": "code",
   "execution_count": 24,
   "id": "957c63bb-013d-487f-b47c-0ad68eaa343a",
   "metadata": {},
   "outputs": [
    {
     "name": "stdout",
     "output_type": "stream",
     "text": [
      "918.0680163166289\n"
     ]
    }
   ],
   "source": [
    "MSE_g3=tk.CV4Ridge_lr(g,1)\n",
    "print(MSE_g3)"
   ]
  },
  {
   "cell_type": "code",
   "execution_count": null,
   "id": "d048906a-63ac-4e67-8adb-a4fe5efed57a",
   "metadata": {},
   "outputs": [],
   "source": []
  },
  {
   "cell_type": "markdown",
   "id": "6c5cb500-8791-425b-9565-e99137b35a28",
   "metadata": {},
   "source": [
    "# The weighted MSE:"
   ]
  },
  {
   "cell_type": "code",
   "execution_count": 25,
   "id": "939af461-bf33-44ce-a9f8-ba1e3e7f3ec0",
   "metadata": {
    "tags": []
   },
   "outputs": [],
   "source": [
    "Weighted_MSE=(MSE_g1*l1+MSE_g2*l2+MSE_g3*l3)/(l1+l2+l3)"
   ]
  },
  {
   "cell_type": "code",
   "execution_count": 26,
   "id": "dab46a4e-16fc-4dcc-85f6-c00ebd2820cd",
   "metadata": {},
   "outputs": [
    {
     "data": {
      "text/plain": [
       "383.5641488097417"
      ]
     },
     "execution_count": 26,
     "metadata": {},
     "output_type": "execute_result"
    }
   ],
   "source": [
    "Weighted_MSE"
   ]
  },
  {
   "cell_type": "code",
   "execution_count": null,
   "id": "8202e01e-c190-4137-a656-f55b2395f479",
   "metadata": {},
   "outputs": [],
   "source": []
  }
 ],
 "metadata": {
  "kernelspec": {
   "display_name": "Python 3",
   "language": "python",
   "name": "python3"
  },
  "language_info": {
   "codemirror_mode": {
    "name": "ipython",
    "version": 3
   },
   "file_extension": ".py",
   "mimetype": "text/x-python",
   "name": "python",
   "nbconvert_exporter": "python",
   "pygments_lexer": "ipython3",
   "version": "3.8.8"
  }
 },
 "nbformat": 4,
 "nbformat_minor": 5
}

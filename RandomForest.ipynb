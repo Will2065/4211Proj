{
 "cells": [
  {
   "cell_type": "code",
   "execution_count": 19,
   "id": "b134a53b-3769-4632-9a82-9ca940ad512d",
   "metadata": {},
   "outputs": [
    {
     "name": "stdout",
     "output_type": "stream",
     "text": [
      "The autoreload extension is already loaded. To reload it, use:\n",
      "  %reload_ext autoreload\n"
     ]
    }
   ],
   "source": [
    "%load_ext autoreload\n",
    "%autoreload 2\n",
    "import pandas as pd\n",
    "import numpy as np\n",
    "import toolkit4211 as tk"
   ]
  },
  {
   "cell_type": "markdown",
   "id": "b7a90986-e77d-4e8d-9fa5-3139e01f2a66",
   "metadata": {},
   "source": [
    "# K=2"
   ]
  },
  {
   "cell_type": "code",
   "execution_count": 123,
   "id": "a8eeeb67-d1ff-4c04-b6df-75d6d40200d5",
   "metadata": {},
   "outputs": [
    {
     "name": "stdout",
     "output_type": "stream",
     "text": [
      "The data size of this group is\n",
      "1208.0\n",
      "The MSE for this group is\n",
      "882.1762717740963\n",
      "The data size of this group is\n",
      "1106.0\n",
      "The MSE for this group is\n",
      "342.55822732422376\n",
      "The Weighted MSE of this classification is\n",
      "624.2603006584702\n"
     ]
    }
   ],
   "source": [
    "k=3 # choose 2 groups\n",
    "l=np.zeros(k-1)\n",
    "MSE=np.zeros(k-1)\n",
    "options=[1,2]\n",
    "for option in options:\n",
    "    i=options.index(option)\n",
    "    g= tk.choose(k, option)\n",
    "    l[i]=len(g)\n",
    "    MSE[i]=tk.CV4RandomForest(g)\n",
    "    print(\"The data size of this group is\" )\n",
    "    print(l[i])\n",
    "    print(\"The MSE for this group is\" )\n",
    "    print(MSE[i])\n",
    "Weighted_MSE=sum(l*MSE)/sum(l)\n",
    "print(\"The Weighted MSE of this classification is\" )\n",
    "print(Weighted_MSE)"
   ]
  },
  {
   "cell_type": "code",
   "execution_count": null,
   "id": "53f07948-2edf-4626-81eb-cc697629c7f6",
   "metadata": {},
   "outputs": [],
   "source": []
  },
  {
   "cell_type": "markdown",
   "id": "157a3f88-144d-460f-a6b7-760c2ed7a016",
   "metadata": {},
   "source": [
    "# K=3"
   ]
  },
  {
   "cell_type": "code",
   "execution_count": 124,
   "id": "649937fb-569e-466a-acf0-c4ac7dd9dad4",
   "metadata": {},
   "outputs": [
    {
     "name": "stdout",
     "output_type": "stream",
     "text": [
      "The data size of this group is\n",
      "910.0\n",
      "The MSE for this group is\n",
      "307.1848118317997\n",
      "The data size of this group is\n",
      "880.0\n",
      "The MSE for this group is\n",
      "1124.5578172732323\n",
      "The data size of this group is\n",
      "524.0\n",
      "The MSE for this group is\n",
      "410.0288637990203\n",
      "The Weighted MSE of this classification is\n",
      "641.3155499559502\n"
     ]
    }
   ],
   "source": [
    "k=4 # choose 2 groups\n",
    "l=np.zeros(k-1)\n",
    "MSE=np.zeros(k-1)\n",
    "options=[0,2,3]\n",
    "for option in options:\n",
    "    i=options.index(option)\n",
    "    g= tk.choose(k, option)\n",
    "    l[i]=len(g)\n",
    "    MSE[i]=tk.CV4RandomForest(g)\n",
    "    print(\"The data size of this group is\" )\n",
    "    print(l[i])\n",
    "    print(\"The MSE for this group is\" )\n",
    "    print(MSE[i])\n",
    "Weighted_MSE=sum(l*MSE)/sum(l)\n",
    "print(\"The Weighted MSE of this classification is\" )\n",
    "print(Weighted_MSE)"
   ]
  },
  {
   "cell_type": "code",
   "execution_count": null,
   "id": "4232d7f8-44b6-4aa9-9736-6b8c6b1d24ff",
   "metadata": {},
   "outputs": [],
   "source": []
  },
  {
   "cell_type": "markdown",
   "id": "98e62554-df1b-45d3-b96c-d061a2825dd9",
   "metadata": {},
   "source": [
    "# K=4"
   ]
  },
  {
   "cell_type": "code",
   "execution_count": 126,
   "id": "6fbf0ad7-f1e2-4eda-a986-74767eac146a",
   "metadata": {},
   "outputs": [
    {
     "name": "stdout",
     "output_type": "stream",
     "text": [
      "The data size of this group is\n",
      "880.0\n",
      "The MSE for this group is\n",
      "1124.5578172732323\n",
      "The data size of this group is\n",
      "613.0\n",
      "The MSE for this group is\n",
      "332.03288988918496\n",
      "The data size of this group is\n",
      "297.0\n",
      "The MSE for this group is\n",
      "327.8184979144061\n",
      "The data size of this group is\n",
      "524.0\n",
      "The MSE for this group is\n",
      "410.0288637990203\n",
      "The Weighted MSE of this classification is\n",
      "650.5463522963613\n"
     ]
    }
   ],
   "source": [
    "k=5 # choose 2 groups\n",
    "l=np.zeros(k-1)\n",
    "MSE=np.zeros(k-1)\n",
    "options=[1,2,3,4]\n",
    "for option in options:\n",
    "    i=options.index(option)\n",
    "    g= tk.choose(k, option)\n",
    "    l[i]=len(g)\n",
    "    MSE[i]=tk.CV4RandomForest(g)\n",
    "    print(\"The data size of this group is\" )\n",
    "    print(l[i])\n",
    "    print(\"The MSE for this group is\" )\n",
    "    print(MSE[i])\n",
    "Weighted_MSE=sum(l*MSE)/sum(l)\n",
    "print(\"The Weighted MSE of this classification is\" )\n",
    "print(Weighted_MSE)"
   ]
  },
  {
   "cell_type": "code",
   "execution_count": null,
   "id": "5ea596cc-dcb2-41f8-b85a-395e928393ed",
   "metadata": {},
   "outputs": [],
   "source": []
  },
  {
   "cell_type": "markdown",
   "id": "eeb19768-b6e8-41cd-97f1-a14f93354699",
   "metadata": {},
   "source": [
    "# without grouping"
   ]
  },
  {
   "cell_type": "code",
   "execution_count": 128,
   "id": "44e15157-20e2-4b09-9f5b-681ebe3bd1d2",
   "metadata": {},
   "outputs": [
    {
     "name": "stdout",
     "output_type": "stream",
     "text": [
      "The data size of this group is\n",
      "2314\n",
      "The MSE for this classification is\n",
      "606.08830874776\n"
     ]
    }
   ],
   "source": [
    "g= tk.ungroup()\n",
    "l=len(g)\n",
    "MSE=tk.CV4RandomForest(g)\n",
    "print(\"The data size of this group is\" )\n",
    "print(l)\n",
    "print(\"The MSE for this classification is\" )\n",
    "print(MSE)"
   ]
  },
  {
   "cell_type": "code",
   "execution_count": null,
   "id": "d4978a05-da7e-4330-9d7c-90dd2a69c4f2",
   "metadata": {},
   "outputs": [],
   "source": []
  },
  {
   "cell_type": "code",
   "execution_count": null,
   "id": "004d2f70-e3a8-46d9-9d8b-013e7fc3f4f0",
   "metadata": {},
   "outputs": [],
   "source": []
  }
 ],
 "metadata": {
  "kernelspec": {
   "display_name": "Python 3",
   "language": "python",
   "name": "python3"
  },
  "language_info": {
   "codemirror_mode": {
    "name": "ipython",
    "version": 3
   },
   "file_extension": ".py",
   "mimetype": "text/x-python",
   "name": "python",
   "nbconvert_exporter": "python",
   "pygments_lexer": "ipython3",
   "version": "3.8.8"
  }
 },
 "nbformat": 4,
 "nbformat_minor": 5
}
